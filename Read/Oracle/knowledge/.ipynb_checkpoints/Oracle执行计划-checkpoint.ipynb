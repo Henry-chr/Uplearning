{
 "cells": [
  {
   "cell_type": "markdown",
   "metadata": {
    "toc": true
   },
   "source": [
    "<h1>Oracle执行计划<span class=\"tocSkip\"></span></h1>\n",
    "<div class=\"toc\"><ul class=\"toc-item\"><li><span><a href=\"#定义\" data-toc-modified-id=\"定义-1\"><span class=\"toc-item-num\">1&nbsp;&nbsp;</span>定义</a></span></li><li><span><a href=\"#查看执行计划\" data-toc-modified-id=\"查看执行计划-2\"><span class=\"toc-item-num\">2&nbsp;&nbsp;</span>查看执行计划</a></span><ul class=\"toc-item\"><li><span><a href=\"#Autotrace\" data-toc-modified-id=\"Autotrace-2.1\"><span class=\"toc-item-num\">2.1&nbsp;&nbsp;</span>Autotrace</a></span></li></ul></li></ul></div>"
   ]
  },
  {
   "cell_type": "markdown",
   "metadata": {},
   "source": [
    "## 定义"
   ]
  },
  {
   "cell_type": "markdown",
   "metadata": {},
   "source": [
    "&emsp;&emsp;执行计划是一条查询语句在Oracle中的执行过程或访问路径的描述。"
   ]
  },
  {
   "cell_type": "markdown",
   "metadata": {},
   "source": [
    "![执行计划示例](https://raw.githubusercontent.com/Henry-chr/Uplearning/main/Read/Oracle/knowledge/image/%E6%89%A7%E8%A1%8C%E8%AE%A1%E5%88%92%E7%A4%BA%E4%BE%8B.png)"
   ]
  },
  {
   "cell_type": "markdown",
   "metadata": {},
   "source": [
    "执行计划的三个部分：\n",
    "1. 目标SQL的正文、sql_id和执行计划对应的plan_hash_value\n",
    "![SQL的正文](https://gitee.com/henry-chr/Uplearning/raw/main/Read/Oracle/knowledge/image/%E7%9B%AE%E6%A0%87SQL%E6%AD%A3%E6%96%87.png)\n",
    "\n",
    "2. 执行计划主体，主要有内部执行步骤、执行顺序、谓词信息、列信息、Cardinality、Cost等\n",
    "![执行计划主体](https://gitee.com/henry-chr/Uplearning/raw/main/Read/Oracle/knowledge/image/%E6%89%A7%E8%A1%8C%E8%AE%A1%E5%88%92%E4%B8%BB%E4%BD%93.png)\n",
    "\n",
    "3. 执行计划的额外补充信息，是否动态采用（dynamic sampling）、是否Cardinality Feedback、是否SQL Profile\n",
    "![额外补充信息](https://gitee.com/henry-chr/Uplearning/raw/main/Read/Oracle/knowledge/image/%E6%89%A7%E8%A1%8C%E8%AE%A1%E5%88%92%E8%A1%A5%E5%85%85%E4%BF%A1%E6%81%AF.png)"
   ]
  },
  {
   "cell_type": "markdown",
   "metadata": {},
   "source": [
    "## 查看执行计划"
   ]
  },
  {
   "cell_type": "markdown",
   "metadata": {},
   "source": [
    "### Autotrace"
   ]
  },
  {
   "cell_type": "code",
   "execution_count": null,
   "metadata": {},
   "outputs": [],
   "source": []
  }
 ],
 "metadata": {
  "kernelspec": {
   "display_name": "Python 3",
   "language": "python",
   "name": "python3"
  },
  "language_info": {
   "codemirror_mode": {
    "name": "ipython",
    "version": 3
   },
   "file_extension": ".py",
   "mimetype": "text/x-python",
   "name": "python",
   "nbconvert_exporter": "python",
   "pygments_lexer": "ipython3",
   "version": "3.8.1"
  },
  "latex_envs": {
   "LaTeX_envs_menu_present": true,
   "autoclose": false,
   "autocomplete": true,
   "bibliofile": "biblio.bib",
   "cite_by": "apalike",
   "current_citInitial": 1,
   "eqLabelWithNumbers": true,
   "eqNumInitial": 1,
   "hotkeys": {
    "equation": "Ctrl-E",
    "itemize": "Ctrl-I"
   },
   "labels_anchors": false,
   "latex_user_defs": false,
   "report_style_numbering": false,
   "user_envs_cfg": false
  },
  "toc": {
   "base_numbering": 1,
   "nav_menu": {},
   "number_sections": true,
   "sideBar": true,
   "skip_h1_title": false,
   "title_cell": "Oracle执行计划",
   "title_sidebar": "Oracle执行计划",
   "toc_cell": true,
   "toc_position": {},
   "toc_section_display": true,
   "toc_window_display": true
  },
  "varInspector": {
   "cols": {
    "lenName": 16,
    "lenType": 16,
    "lenVar": 40
   },
   "kernels_config": {
    "python": {
     "delete_cmd_postfix": "",
     "delete_cmd_prefix": "del ",
     "library": "var_list.py",
     "varRefreshCmd": "print(var_dic_list())"
    },
    "r": {
     "delete_cmd_postfix": ") ",
     "delete_cmd_prefix": "rm(",
     "library": "var_list.r",
     "varRefreshCmd": "cat(var_dic_list()) "
    }
   },
   "types_to_exclude": [
    "module",
    "function",
    "builtin_function_or_method",
    "instance",
    "_Feature"
   ],
   "window_display": false
  }
 },
 "nbformat": 4,
 "nbformat_minor": 4
}
