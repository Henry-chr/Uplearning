{
 "cells": [
  {
   "cell_type": "markdown",
   "metadata": {},
   "source": [
    "# Oracle DataBase"
   ]
  },
  {
   "cell_type": "markdown",
   "metadata": {},
   "source": [
    "![Oracle数据库](https://raw.githubusercontent.com/Henry-chr/Uplearning/main/Read/Oracle/knowledge/image/Oracle%E4%BD%93%E7%B3%BB%E7%BB%93%E6%9E%841.png)"
   ]
  },
  {
   "cell_type": "markdown",
   "metadata": {},
   "source": [
    "        Oracle DataBase由两个部分组成：\n",
    "**实例：实例是数据库启动时初始化的一组进程和内存结构**\n",
    "\n",
    "**数据库：数据库则指的是用户存储数据的一些物理文件**\n",
    "\n",
    "    实例只是暂时的，它是一组逻辑划分的内存结构和进程结构，它会随着数据库的关闭而消失。\n",
    "    数据库是真实存在的物理文件（控制文件，数据文件，日志文件等等）。\n",
    "    数据库和实例通常是一对一的，也可以是一对多如Oracle RAC。"
   ]
  },
  {
   "cell_type": "markdown",
   "metadata": {},
   "source": [
    "# Oracle工作原理"
   ]
  },
  {
   "cell_type": "markdown",
   "metadata": {},
   "source": [
    "1. 服务器启动Oracle实例\n",
    "2. 应用程序在客户端的用户进程中运行，启用Oracle网络服务驱动器与服务器建立连接；\n",
    "3. 服务器运行Oracle网络服务驱动器，建立专用的服务器进程执行用户进程；\n",
    "4. 客户端提交事务；\n",
    "5. 服务器进程获取sql语句并检查共享池中是否有相似的sql语句，如果有，服务器进程再检查用户的访问权限；否则分配新的sql共享区分析并执行sql语句；\n",
    "6. 服务器从实际的数据文件或SGA中取得所需数据；\n",
    "7. 服务器进程在SGA中更新数据，进程DBWN在特定条件下将更新过的数据块写回磁盘，进程LGWR在重做日志文件中记录事务；\n",
    "8. 如果事务成功，服务器进程发送消息到应用程序中。"
   ]
  },
  {
   "cell_type": "markdown",
   "metadata": {},
   "source": [
    "# 体系结构"
   ]
  },
  {
   "cell_type": "markdown",
   "metadata": {},
   "source": [
    "![Oracle体系结构图](https://raw.githubusercontent.com/Henry-chr/Uplearning/main/Read/Oracle/knowledge/image/Oracle%E4%BD%93%E7%B3%BB%E7%BB%93%E6%9E%842.png)"
   ]
  },
  {
   "cell_type": "markdown",
   "metadata": {},
   "source": [
    "## 内存结构"
   ]
  },
  {
   "cell_type": "markdown",
   "metadata": {},
   "source": [
    "### 系统全局区（SGA）"
   ]
  },
  {
   "cell_type": "markdown",
   "metadata": {},
   "source": [
    "        数据库信息存储于系统全局区，由多个数据库进程共享，当数据库实例启动时SGA的内存自动分配，SGA是数据库中占用服务器内存最大的一个区域，也是影响数据库性能的一个重要指标。\n",
    "* **共享池（Shared Pool）**\n",
    "\n",
    "1. 数据字典缓存区（Data Dictionary Cache）\n",
    "        用于存放SQL语句相关的数据文件、表、索引、列、用户、其他的数据对象的定义和权限信息等。\n",
    "2. 库缓存区（Librabry Cache）\n",
    "        共享SQL和PL/SQL代码。服务器进程在执行语句时，首先会匹配库缓存，如果存在相同语句则无需编译直接使用已编译的执行计划。\n",
    "        绑定变量不是在编译阶段赋值的，而是在运行阶段赋值的，因此含有绑定变量的SQL语句可以不用重新编译。\n",
    "3. SQL和PL/SQL结果缓存\n",
    "        用于存储SQL查询或PL/SQL函数的结果，以加快其将来的执行速度。\n",
    "\n",
    "* **数据库缓存区（Database Buffer Cache）**\n",
    "\n",
    "        用来存储从数据文件中读取到的数据块的镜像，所有用户共享。Oracle在执行SQL时会先扫描缓存区，不直接去磁盘上操作，这样就减少了磁盘I/O，从而提升系统的性能。数据高速缓存块由以下几个缓存块组成。\n",
    "1. 脏缓存块（Dirty buffers）\n",
    "        保存被修改过并且commit但未写入磁盘数据的缓存块，脏缓存块最终被DBWn进程写入到硬盘的数据文件中永久保存。\n",
    "2. 命中缓存块（Pinned buffers）\n",
    "        保存最近正在被访问的缓存块，始终被保留在数据高速缓存中，不会被写入数据文件。\n",
    "3. 空闲缓存块（Free buffers）\n",
    "        该缓存块中没有数据，等待被写入数据。oracle从数据文件中读取数据后，寻找空闲缓存块，以便写入其中。\n",
    "* **日志缓冲区（Redo Log Buffer）**\n",
    "\n",
    "        日志缓冲区是一块比较小的内存区域，它是用来短期存储将写入到磁盘中的重做日志文件中的变更向量的，主要用于数据库恢复。日志缓冲区也是为了减少磁盘IO，减少用户的等待时间。\n",
    "* **大池（Large Pool）**\n",
    "\n",
    "        大池是个可选的内存区域，可提供一个大的缓冲区供数据库的备份与恢复操作过程使用。数据库的备份恢复、执行具有大量排序操作的SQL语句、并行化的数据库操作时可能需要用到大池。\n",
    "* **Java池（Java Pool）**\n",
    "        \n",
    "        JAVA池在数据库中支持JAVA 的运行，存放JAVA代码和JAVA语句的语法分析表；\n",
    "* **流池（Stream Pool）**\n",
    "\n",
    "        用于缓存流进程在数据库间移动/复制数据时使用的队列消息。一般从重做日志中提取变更记录的进程和应用变更记录的进程会用到流池。"
   ]
  },
  {
   "cell_type": "markdown",
   "metadata": {},
   "source": [
    "### 程序全局区（PGA）"
   ]
  },
  {
   "cell_type": "markdown",
   "metadata": {},
   "source": [
    "        PGA不是实例的一部分，包含单个服务器进程或者单个后台进程所需的数据和控制信息。PGA是在用户进程连接到数据库并创建一个会话时自动分配。该区域内保留每个与oracle数据库连接的用户进程所需的内存，当一个用户会话结束，PAG就会释放。\n",
    "* **排序区**\n",
    "\n",
    "        当用户需要对数据进行排序时，系统会将需要排序的数据保存到PGA中的排序区内，然后在这个排序区内对这些数据进行排序。如果发现用户的很多操作都需要用到排序，那么为用户设置比较大的排序区，可以提高用户访问数据的效率。\n",
    "* **会话区**\n",
    "\n",
    "        会话区保存了会话所具有的权限、角色、性能统计等信息，通常都是由数据库系统自我维护。\n",
    "* **堆栈区**\n",
    "\n",
    "        保存着绑定变量、会话变量、SQL语句运行时的内存结构等重要的信息，通常都是由数据库系统自我维护\n",
    "* **游标区**\n",
    "\n",
    "        游标区是一个动态的区域，当用户执行游标语句打开游标时，系统会在PGA中创建游标区，当关闭游标时，这个区域就会被释放。创建与释放需要占用一定的系统资源，花费一定的时间，如果频繁的打开和关闭游标，就会降低语句的执行性能。"
   ]
  },
  {
   "cell_type": "markdown",
   "metadata": {},
   "source": [
    "### 用户全局区（UGA）"
   ]
  },
  {
   "cell_type": "markdown",
   "metadata": {},
   "source": [
    "        为用户进程存储会话状态。UGA可以作为SGA或者PGA的一部分，如果通过一个共享服务器连接，UGA包含在SAG中；如果通过一个专有服务器连接，UGA就包含在专有服务器的PGA中。"
   ]
  },
  {
   "cell_type": "markdown",
   "metadata": {},
   "source": [
    "## 进程结构"
   ]
  },
  {
   "cell_type": "markdown",
   "metadata": {},
   "source": [
    "### 用户进程"
   ]
  },
  {
   "cell_type": "markdown",
   "metadata": {},
   "source": [
    "        用户进程是一个与Oracle服务器进行交互的程序。一般的客户端软件，像Oracle的sqlplus，sql developer,或者是一些驱动程序等等向数据库发送请求时即创建了用户进程。"
   ]
  },
  {
   "cell_type": "markdown",
   "metadata": {},
   "source": [
    "### 服务器进程"
   ]
  },
  {
   "cell_type": "markdown",
   "metadata": {},
   "source": [
    "        当监听程序监听到客户端来了一个请求，在创建会话时便会为其分配一个对应的服务器进程。服务器进程的主要作用就是处理连接到当前实例的用户进程的请求，对客户端发来的sql进行执行并返回执行结果。"
   ]
  },
  {
   "cell_type": "markdown",
   "metadata": {},
   "source": [
    "### 后台进程"
   ]
  },
  {
   "cell_type": "markdown",
   "metadata": {},
   "source": [
    "        后台进程时Oracle数据库为了保持最佳系统性能和协调多个用户请求而设置的一系列后台进程。\n",
    "* **进程监控（PMON）**\n",
    "\n",
    "         对故障的进程执行恢复操作，负责清理内存存储区和释放该进程所使用的资源\n",
    "         周期的检查调度进程和服务器进程的状态，对已死的进程进行重启\n",
    "* **系统监控（SMON）**\n",
    "\n",
    "         当数据库实例出现故障或者系统崩溃的时候，执行恢复操作\n",
    "         定期合并字典管理的表空间中的空闲空间\n",
    "         在系统重启期间，清理表空间所有临时段\n",
    "         安装和打开数据库\n",
    "* **数据写入（DBWR）**\n",
    "\n",
    "     负责的将更新完的缓冲区数据写入磁盘中。\n",
    "     以下情况发生时执行：\n",
    "        \n",
    "    1. 没有可以写入的缓存空间\n",
    "    2. 脏缓存达到限制（会导致搜索时间过长）1/4满\n",
    "    3. 最晚三秒钟：最晚三秒会执行一次写入\n",
    "    4. 遇到检查点：遇到这个checkpoint便会执行写程序\n",
    "    5. 表空间热备份的时候\n",
    "    6. 表空间离线、只读状态\n",
    "    7. 执行Drop操作的时候 \n",
    "* **日志写入（LGWR）**\n",
    "\n",
    "    将日志缓冲区的脏数据写进磁盘中\n",
    "    以下情况发生时执行：\n",
    "    1. commit写入\n",
    "    2. 日志缓冲区占用率1/3\n",
    "    3. DBWn要写入脏缓冲区前\n",
    "* **检查点进程（CKPT）**\n",
    "\n",
    "        负责发起检查点信号，让DBWn开始工作\n",
    "        更新控制文件以及数据文件头\n",
    "* **归档进程（ACRn）**\n",
    "\n",
    "        将日志文件复制到归档日志文件中，来避免日志文件组的循环使用覆盖到已有的日志文件。\n",
    "        只有当数据库在ARCHIVELOG模式下，且自动归档开启的时候，系统便会启动ARCn进程；ARCn包括归档方式和非归档方式。"
   ]
  },
  {
   "cell_type": "markdown",
   "metadata": {},
   "source": [
    "## 物理结构"
   ]
  },
  {
   "cell_type": "markdown",
   "metadata": {},
   "source": [
    "        物理结构就是oracle数据库创建后使用的操作系统物理文件，是一些能看得见，实际存在的东西，可以在Oracle目录下查看。\n",
    "* **数据文件（Data Files）**\n",
    "\n",
    "        存储数据库中数据的文件，通常为.dbf后缀，存储着系统数据、数据字典数据、索引数据以及用户存储的数据，所以这部分也是数据库最核心的部分。\n",
    "        数据文件是专属于一个数据库的，也专属于一个表空间的，但是一个表空间却可以拥有多个数据文件。\n",
    "* **控制文件（Control files）**\n",
    "\n",
    "        控制文件是一个很小的二进制文件，通常为.ctl后缀，存放数据库的物理结构信息,这些物理结构信息包括: 数据库的名字、数据文件和联机日志文件的名字及位置、创建数据库时的时间戳。\n",
    "        数据库在启动的时候需要访问控制文件，从中读取数据文件、日志文件的信息；\n",
    "        随着Oracle的运行，数据库将不断更新控制文件；相对应的一旦控制文件损坏，数据库便会发生运行故障。\n",
    "* **重做日志文件（Redo Log files）**\n",
    "\n",
    "        重做日志文件用于记录数据库所有修改信息的文件，通常为.log后缀，用于保证数据库的安全，实现数据库的备份和恢复。\n",
    "* **参数文件（Parameter file）**\n",
    "\n",
    "        参数文件记录了Oracle数据库的基本参数信息，主要包括数据库名、控制文件所在路径等。\n",
    "        参数文件包括文本参数文件（PFILE）和服务器参数文件（SPFILE），前者为init.ora,后者为spfile.ora或spfile.ora的二进制文件。\n",
    "        在数据库启动的时候就会读取参数文件,然后根据参数文件中的参数来分配SGA并启动一系列的后台进程。\n",
    "* **归档日志文件（Archived Log files）**\n",
    "\n",
    "        归档日志文件用来对写满的日志文件进行保存复制。其目的是为了长期保存日志以便于恢复。"
   ]
  },
  {
   "cell_type": "markdown",
   "metadata": {},
   "source": [
    "## 逻辑结构"
   ]
  },
  {
   "cell_type": "markdown",
   "metadata": {},
   "source": [
    "![Oracle逻辑结构]()"
   ]
  }
 ],
 "metadata": {
  "kernelspec": {
   "display_name": "Python 3",
   "language": "python",
   "name": "python3"
  },
  "language_info": {
   "codemirror_mode": {
    "name": "ipython",
    "version": 3
   },
   "file_extension": ".py",
   "mimetype": "text/x-python",
   "name": "python",
   "nbconvert_exporter": "python",
   "pygments_lexer": "ipython3",
   "version": "3.8.1"
  },
  "latex_envs": {
   "LaTeX_envs_menu_present": true,
   "autoclose": false,
   "autocomplete": true,
   "bibliofile": "biblio.bib",
   "cite_by": "apalike",
   "current_citInitial": 1,
   "eqLabelWithNumbers": true,
   "eqNumInitial": 1,
   "hotkeys": {
    "equation": "Ctrl-E",
    "itemize": "Ctrl-I"
   },
   "labels_anchors": false,
   "latex_user_defs": false,
   "report_style_numbering": false,
   "user_envs_cfg": false
  },
  "toc": {
   "base_numbering": 1,
   "nav_menu": {},
   "number_sections": true,
   "sideBar": true,
   "skip_h1_title": false,
   "title_cell": "Table of Contents",
   "title_sidebar": "Oracle体系结构",
   "toc_cell": false,
   "toc_position": {},
   "toc_section_display": true,
   "toc_window_display": true
  },
  "varInspector": {
   "cols": {
    "lenName": 16,
    "lenType": 16,
    "lenVar": 40
   },
   "kernels_config": {
    "python": {
     "delete_cmd_postfix": "",
     "delete_cmd_prefix": "del ",
     "library": "var_list.py",
     "varRefreshCmd": "print(var_dic_list())"
    },
    "r": {
     "delete_cmd_postfix": ") ",
     "delete_cmd_prefix": "rm(",
     "library": "var_list.r",
     "varRefreshCmd": "cat(var_dic_list()) "
    }
   },
   "types_to_exclude": [
    "module",
    "function",
    "builtin_function_or_method",
    "instance",
    "_Feature"
   ],
   "window_display": false
  }
 },
 "nbformat": 4,
 "nbformat_minor": 4
}
