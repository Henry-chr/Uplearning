{
 "cells": [
  {
   "cell_type": "markdown",
   "metadata": {},
   "source": [
    "# 优化器的模式"
   ]
  },
  {
   "cell_type": "markdown",
   "metadata": {},
   "source": [
    "        优化器的模式用户决定Oracle解析目标SQL时所用优化器的类型，以及决定使用CBO时计算成本的侧重点。优化器的模式不同，CBO计算成本值的方法也不同。\n",
    "**优化器模式参数（OPTIMIZER_MODE）**\n",
    "\n",
    "\n",
    "1、RULE\n",
    "\n",
    "        用RBO来解析目标SQL。\n",
    "2、CHOOSE\n",
    "\n",
    "        Oracle在解析目标SQL时，如果有一个表对象有统计信息就用CBO，否则用RBO。\n",
    "3、FIRST_ROWS_n(n= 10, 100, 1000)\n",
    "    \n",
    "        Oracle会使用CBO解析目标SQL，在计算成本值时的侧重点在于以最快的响应速度返回头n条记录。\n",
    "4、FIRST_ROWS\n",
    "\n",
    "        Oracle在解析目标SQL时会联合使用CBO和RBO。解析时采用CBO，侧重点在于以最快的响应速度返回记录；当出现一些特定的情况时，会用RBO中的一些内置规则来选取执行计划而不考虑成本。不如通过使用索引来避免排序。\n",
    "5、ALL_ROWS\n",
    "\n",
    "        Oracle用CBO解析目标SQL，此时计算成本值时的侧重点在于最佳的吞吐量（即最小的系统I/O和CPU资源的消耗量）"
   ]
  },
  {
   "cell_type": "markdown",
   "metadata": {},
   "source": [
    "# 结果集（Row Source）"
   ]
  },
  {
   "cell_type": "markdown",
   "metadata": {},
   "source": [
    "        结果集是指目标SQL执行计划的执行步骤对应的输出结果集。"
   ]
  },
  {
   "cell_type": "markdown",
   "metadata": {},
   "source": [
    "# 访问数据的方法"
   ]
  },
  {
   "cell_type": "markdown",
   "metadata": {},
   "source": [
    "## 访问表的方法"
   ]
  },
  {
   "cell_type": "markdown",
   "metadata": {},
   "source": [
    "### 全表扫描"
   ]
  },
  {
   "cell_type": "markdown",
   "metadata": {},
   "source": [
    "        全表扫描是指Oracle在访问目标表里的数据时，会从该表所占用的第一个区（EXTENT）的第一个块（BLOCK）开始扫描，一直扫描到该表的高水位线（HWM,High Water Mark），这段范围内所有的数据块Oracle都必须读到。Oracle会对这期间读到的所有数据施加目标SQL的where条件过滤，最后返回满足要求的数据。\n",
    "        Oracle在做全表扫描操作时会使用多块读，在目标表数据量不大时执行效率是非常高的。全表扫描最大的问题是执行时间不稳定、不可控，会随着目标表数据量的递增而递增。\n",
    "        高水位线特性的副作用：即使DELETE删光了目标表里的所有数据，高水位线还是会在原来的位置，全表扫描的时候还是会扫描高水位线下所有的数据块。"
   ]
  },
  {
   "cell_type": "markdown",
   "metadata": {},
   "source": [
    "### ROWID扫描"
   ]
  },
  {
   "cell_type": "markdown",
   "metadata": {},
   "source": [
    "        ROWID表示的是Oracle中数据行记录所在的物理存储位置，同数据块中的记录一一对应。Oracle通过ROWID去定位并访问数据的方法叫ROWID扫描。\n",
    "**ROWID的两层含义**\n",
    "\n",
    "    1、根据SQL语句中输入的ROWID值直接去访问对应的行记录\n",
    "    2、通过访问相关索引，再根据索引得到的ROWID访问数据"
   ]
  },
  {
   "cell_type": "markdown",
   "metadata": {},
   "source": [
    "> 拓展DBMS_ROWID包\n",
    "\n",
    "        1、根据给定参数返回一个rowid\n",
    "```\n",
    "FUNCTION rowid_create(rowid_type    IN NUMBER,--rowid类型，0：restricted，1：extended\n",
    "                      object_number IN NUMBER,--对象id\n",
    "                      relative_fno  IN NUMBER,--关联文件\n",
    "                      block_number  IN NUMBER,--数据块id\n",
    "                      row_number    IN NUMBER)--行号 \n",
    "                      RETURN ROWID;\n",
    "```\n",
    "        2、根据rowid返回相关参数\n",
    "```\n",
    "PROCEDURE rowid_info(rowid_in      IN  ROWID,--rowid\n",
    "                     rowid_type    OUT NUMBER,--rowid类型\n",
    "                     object_number OUT NUMBER,--对象id\n",
    "                     relative_fno  OUT NUMBER,--相关文件\n",
    "                     block_number  OUT NUMBER,--数据块id\n",
    "                     row_number    OUT NUMBER,--行号\n",
    "                     ts_type_in    IN VARCHAR2 DEFAULT 'SMALLFILE');--表空间类型，BIGFILE：大文件表空间，SMALLFILE：传统表空间\n",
    "```\n",
    "        3、通过rowid返回rowid类型\n",
    "```\n",
    "function rowid_type(row_id IN rowid)--rowid\n",
    "                        return number;\n",
    "```\n",
    "        4、通过rowid提取数据文件编号\n",
    "```\n",
    "function rowid_object(row_id IN rowid)--rowid\n",
    "                        return number;\n",
    "```\n",
    "        5、通过rowid提取相关文件编号\n",
    "```\n",
    "FUNCTION rowid_relative_fno(row_id     IN ROWID,--rowid\n",
    "                            ts_type_in IN VARCHAR2 DEFAULT 'SMALLFILE')--表空间类型\n",
    "  RETURN NUMBER;\n",
    "```\n",
    "        6、通过rowid提取数据块编号\n",
    "```\n",
    "FUNCTION rowid_block_number(row_id     IN ROWID,--rowid\n",
    "                            ts_type_in IN VARCHAR2 DEFAULT 'SMALLFILE')--表空间类型\n",
    "  RETURN NUMBER;\n",
    "```\n",
    "        7、通过rowid提取行号\n",
    "```\n",
    "function rowid_row_number(row_id IN rowid)--rowid\n",
    "                        return number;\n",
    "```\n",
    "        8、通过rowid和给定表，提取相关文件编号\n",
    "```\n",
    "FUNCTION rowid_to_absolute_fno(row_id      IN ROWID,--rowid\n",
    "                               schema_name IN VARCHAR2,--拥有者\n",
    "                               object_name IN VARCHAR2) --对象名\n",
    "                               RETURN NUMBER;\n",
    "```\n",
    "        9、转换一个restricted rowid为一个extended rowid\n",
    "```\n",
    "※ 如果原始的rowid存储在列中，转换的 就是internal类型；\n",
    "※ 如果原始的rowid是以字符串形式存储的，那转换的就是external类型\n",
    "FUNCTION rowid_to_extended(old_rowid       IN ROWID,--rowid\n",
    "                           schema_name     IN VARCHAR2,--拥有者\n",
    "                           object_name     IN VARCHAR2,--对象名\n",
    "                           conversion_type IN INTEGER)--转换类型，0：转换restricted internal rowid为extended格式\n",
    "                                                      --转换类型，1：转换restricted external rowid为extended格式\n",
    "```\n",
    "        10、转换一个exteneded的rowid为一个restricted的rowid\n",
    "```\n",
    "※ restricted的rowid格式为BBBBBBB.RRRR.FFFFF, \n",
    "※ BBBBBBB 代表block\n",
    "※ RRRR 代表在block中的行号，从0开始\n",
    "※ FFFFF 代表文件号。\n",
    "※ 这个包可以使用rowid或者rowid转换类型（ROWID_CONVERT_INTERNAL (0)和ROWID_CONVERT_EXTERNAL (1)）\n",
    "FUNCTION rowid_to_restricted(old_rowid       IN ROWID,--rowid\n",
    "                             conversion_type IN INTEGER)--rowid_convert_internal  := 0;\n",
    "                                                        --rowid_convert_external  := 1;\n",
    "                             RETURN ROWID;\n",
    "```\n",
    "        11、验证rowid 有效性\n",
    "```\n",
    "FUNCTION rowid_verify(rowid_in        IN ROWID,--rowid\n",
    "                      schema_name     IN VARCHAR2,--拥有者\n",
    "                      object_name     IN VARCHAR2,--对象名\n",
    "                      conversion_type IN INTEGER)--rowid_convert_internal := 0;\n",
    "                                                 --rowid_convert_external := 1;\n",
    "                      RETURN NUMBER;\n",
    "```"
   ]
  },
  {
   "cell_type": "markdown",
   "metadata": {},
   "source": [
    "## 访问索引的方法（B-Tree索引）"
   ]
  },
  {
   "cell_type": "markdown",
   "metadata": {},
   "source": [
    "<center><font face=\"黑体\" size=\"6\">B-Tree索引内部结构</font></center>\n",
    "    \n",
    "\n",
    "![B-tree索引内部结构](https://raw.githubusercontent.com/Henry-chr/Uplearning/main/Read/Oracle/%E5%9F%BA%E4%BA%8EOracle%E7%9A%84SQL%E4%BC%98%E5%8C%96/image/B-Tree%E7%B4%A2%E5%BC%95%E5%86%85%E9%83%A8%E7%BB%93%E6%9E%84.jpg)"
   ]
  },
  {
   "cell_type": "markdown",
   "metadata": {},
   "source": [
    "        Oracle 数据库里的B树索引就好像一棵倒长的树，它包含两种类型的数据块，一种是索引分支块，另一种是索引叶子块。\n",
    "    \n",
    "        索引分支块包含指向相应索引分支块或叶子块的指针和索引键值列。指针是指相关分支块或叶子块的块地址RDBA。每个索引分支块都有两种类型指针，一种是LMC(Left Most Child)，另一种是指向索引行记录的指针。索引键值列只要Oracle能区分相应的索引分支块或叶子块就行，这样既节省空间又可以快速定位下层的分支块或叶子块。\n",
    "    \n",
    "        索引叶子块包含被索引键值和该键值对应的ROWID。唯一B-Tree索引，ROWID存储在索引行的行头，Oracle不存储该ROWID的长度。非唯一B-Tree索引则都需要存储。B-Tree索引有序性体现在Oracle会按照被索引键值和ROWID联合排序，索引叶子块又是左右互联的，相当于有一个双向指针链表把这些索引叶子块链接在一起。"
   ]
  },
  {
   "cell_type": "markdown",
   "metadata": {},
   "source": [
    "**B-Tree索引优势**\n",
    "\n",
    "* 所有索引叶子块在同一层，访问每一个键值的时间相同\n",
    "\n",
    "* 通过索引访问数据的时间是可控的、基本稳定"
   ]
  },
  {
   "cell_type": "markdown",
   "metadata": {},
   "source": [
    "        通过B-Tree索引访问数据的过程是先访问相关的B-Tree索引，然后再根据ROWID访问相应的行记录。\n",
    "        相应的会产生两部分消耗，一部分是访问索引的成本，另一部分是回表的成本。"
   ]
  },
  {
   "cell_type": "markdown",
   "metadata": {},
   "source": [
    "#### 索引唯一扫描（INDEX UNIQUE SCAN）"
   ]
  },
  {
   "cell_type": "markdown",
   "metadata": {},
   "source": [
    "    WHERE条件里是等值查询，扫描结果最多一条记录"
   ]
  },
  {
   "cell_type": "markdown",
   "metadata": {},
   "source": [
    "#### 索引范围扫描（INDEX RANGE SCAN）"
   ]
  },
  {
   "cell_type": "markdown",
   "metadata": {},
   "source": [
    "    WHERE条件为范围查询，扫描结果可能返回多条记录。\n",
    "    同等条件下，当目标索引的索引行数量大于1时，索引范围扫描所消耗的逻辑读至少会比相应的索引唯一扫描的逻辑读多1.因为范围扫描会扫描多个叶子块。"
   ]
  },
  {
   "cell_type": "markdown",
   "metadata": {},
   "source": [
    "#### 索引全扫描（INDEX FULL SCAN）"
   ]
  },
  {
   "cell_type": "markdown",
   "metadata": {},
   "source": [
    "    索引全扫描要从左至右依次顺序扫描目标索引所有叶子块的所有索引行，而索引是有序的，所以索引全扫描的执行结果也是有序的，并且是按照该索引的索引键值列来排序，这也意味着走索引全扫描能够既达到排序的效果，又同时避免了对该索引的索引键值列的真正排序操作。\n",
    "    \n",
    "    NULL值不会在B树索引中存在，这意味着Oracle中能做索引全扫描的前提条件是目标索引至少有一个索引键值列的属性是 NOT NULL。"
   ]
  },
  {
   "cell_type": "markdown",
   "metadata": {},
   "source": [
    "#### 索引快速全扫描（INDEX FAST FULL SCAN）"
   ]
  },
  {
   "cell_type": "markdown",
   "metadata": {},
   "source": [
    "**索引快速全扫描与索引全扫描的区别**\n",
    "\n",
    "（1）索引快速全扫描只适用于 CBO\n",
    "\n",
    "（2）索引快速全扫描可以使用多块读，也可以并行执行\n",
    "\n",
    "（3）索引快速全扫描的执行结果不一定是有序的\n",
    "\n",
    "    索引快速全扫描是根据索引行在磁盘上的物理存储顺序来扫描\n",
    "    索引全扫描时按照逻辑顺序从左至右依次扫描\n",
    "    对于单个索引叶子块中的索引行而言，其物理存储顺序和逻辑存储顺序一致;但对于物理存储位置相邻的索引叶子块而言，块与块之间索引行的物理存储顺序则不一定在逻辑上有序"
   ]
  },
  {
   "cell_type": "markdown",
   "metadata": {},
   "source": [
    "#### 索引跳跃式扫描（INDEX SKIP SCAN）"
   ]
  },
  {
   "cell_type": "markdown",
   "metadata": {},
   "source": [
    "    索引跳跃式扫描使那些在 where条件中没有对目标索引的前导列指定查询条件但同时又对该索引的非前导列指定了查询条件的目标 SQL依然可以用上该索引。Oracle会对该索引的前导列的所有distinct值做遍历，然后对原目标SQL做等价改写，将目标列的所有前导列的distinct值加进来。\n",
    "    \n",
    "<font face=\"黑体\">Oracle 中的索引跳跃式扫描仅仅适用于那些目标索引前导列的 distinct 值数量较少、后续非前导列的可选择性又非常好的情形，因为索引跳跃式扫描的执行效率一定会随着目标索引前导列的 distinct 值数量的递增而递减。</font>"
   ]
  },
  {
   "cell_type": "markdown",
   "metadata": {},
   "source": [
    "# 表连接"
   ]
  },
  {
   "cell_type": "markdown",
   "metadata": {},
   "source": [
    "决定最终执行计划的三个要点\n",
    "\n",
    "    1、表连接顺序\n",
    ">不管目标 SQL中有多少个表做表连接，Oracle在实际执行该 SQL时都只能先两两做表连接，再依次执行这样的两两表连接过程，直到目标 SQL中所有的表都已连接完毕。\n",
    "\n",
    "    2、表连接方法\n",
    ">排序合并连接、嵌套循环连接、哈希连接和笛卡儿连接\n",
    "\n",
    "    3、访问单表的方法\n",
    ">全表扫描、索引扫描"
   ]
  },
  {
   "cell_type": "markdown",
   "metadata": {},
   "source": [
    "## 表连接的类型"
   ]
  },
  {
   "cell_type": "markdown",
   "metadata": {},
   "source": [
    "### 内连接（Inner Join）"
   ]
  },
  {
   "cell_type": "markdown",
   "metadata": {},
   "source": [
    "        内连接是指表连接的连接结果只包含那些完全满足连接条件的记录。对于包含表连接的目标 SQL而言，只要其 where条件中没有写那些标准SQL中定义或者 Oracle中自定义的表示外连接的关键字（比如标准 SQL中的left outer join、right outer join、full outr join，或者 Oracle中自定义的用来表示外连接的关键字\"（+）\"），则该 SQL 的连接类型就是内连接。"
   ]
  },
  {
   "cell_type": "code",
   "execution_count": null,
   "metadata": {},
   "outputs": [],
   "source": []
  }
 ],
 "metadata": {
  "kernelspec": {
   "display_name": "Python 3",
   "language": "python",
   "name": "python3"
  },
  "language_info": {
   "codemirror_mode": {
    "name": "ipython",
    "version": 3
   },
   "file_extension": ".py",
   "mimetype": "text/x-python",
   "name": "python",
   "nbconvert_exporter": "python",
   "pygments_lexer": "ipython3",
   "version": "3.8.1"
  },
  "latex_envs": {
   "LaTeX_envs_menu_present": true,
   "autoclose": false,
   "autocomplete": true,
   "bibliofile": "biblio.bib",
   "cite_by": "apalike",
   "current_citInitial": 1,
   "eqLabelWithNumbers": true,
   "eqNumInitial": 1,
   "hotkeys": {
    "equation": "Ctrl-E",
    "itemize": "Ctrl-I"
   },
   "labels_anchors": false,
   "latex_user_defs": false,
   "report_style_numbering": false,
   "user_envs_cfg": false
  },
  "toc": {
   "base_numbering": 1,
   "nav_menu": {},
   "number_sections": true,
   "sideBar": true,
   "skip_h1_title": false,
   "title_cell": "优化器",
   "title_sidebar": "优化器的基础知识",
   "toc_cell": false,
   "toc_position": {
    "height": "calc(100% - 180px)",
    "left": "10px",
    "top": "150px",
    "width": "320px"
   },
   "toc_section_display": true,
   "toc_window_display": true
  },
  "varInspector": {
   "cols": {
    "lenName": 16,
    "lenType": 16,
    "lenVar": 40
   },
   "kernels_config": {
    "python": {
     "delete_cmd_postfix": "",
     "delete_cmd_prefix": "del ",
     "library": "var_list.py",
     "varRefreshCmd": "print(var_dic_list())"
    },
    "r": {
     "delete_cmd_postfix": ") ",
     "delete_cmd_prefix": "rm(",
     "library": "var_list.r",
     "varRefreshCmd": "cat(var_dic_list()) "
    }
   },
   "types_to_exclude": [
    "module",
    "function",
    "builtin_function_or_method",
    "instance",
    "_Feature"
   ],
   "window_display": false
  }
 },
 "nbformat": 4,
 "nbformat_minor": 4
}
