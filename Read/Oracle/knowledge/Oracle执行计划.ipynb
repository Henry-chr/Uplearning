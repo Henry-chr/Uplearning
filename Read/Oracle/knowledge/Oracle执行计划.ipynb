{
 "cells": [
  {
   "cell_type": "markdown",
   "metadata": {
    "toc": true
   },
   "source": [
    "<h1>Oracle执行计划<span class=\"tocSkip\"></span></h1>\n",
    "<div class=\"toc\"><ul class=\"toc-item\"><li><span><a href=\"#定义\" data-toc-modified-id=\"定义-1\"><span class=\"toc-item-num\">1&nbsp;&nbsp;</span>定义</a></span></li><li><span><a href=\"#查看执行计划\" data-toc-modified-id=\"查看执行计划-2\"><span class=\"toc-item-num\">2&nbsp;&nbsp;</span>查看执行计划</a></span><ul class=\"toc-item\"><li><span><a href=\"#Autotrace\" data-toc-modified-id=\"Autotrace-2.1\"><span class=\"toc-item-num\">2.1&nbsp;&nbsp;</span>Autotrace</a></span></li><li><span><a href=\"#DBMS_XPLAN包\" data-toc-modified-id=\"DBMS_XPLAN包-2.2\"><span class=\"toc-item-num\">2.2&nbsp;&nbsp;</span>DBMS_XPLAN包</a></span><ul class=\"toc-item\"><li><span><a href=\"#dbms_xplan.display\" data-toc-modified-id=\"dbms_xplan.display-2.2.1\"><span class=\"toc-item-num\">2.2.1&nbsp;&nbsp;</span>dbms_xplan.display</a></span></li><li><span><a href=\"#dbms_xplan.display_cursor\" data-toc-modified-id=\"dbms_xplan.display_cursor-2.2.2\"><span class=\"toc-item-num\">2.2.2&nbsp;&nbsp;</span>dbms_xplan.display_cursor</a></span></li><li><span><a href=\"#dbms_xplan.display_awr\" data-toc-modified-id=\"dbms_xplan.display_awr-2.2.3\"><span class=\"toc-item-num\">2.2.3&nbsp;&nbsp;</span>dbms_xplan.display_awr</a></span></li></ul></li><li><span><a href=\"#10046事件和10053事件\" data-toc-modified-id=\"10046事件和10053事件-2.3\"><span class=\"toc-item-num\">2.3&nbsp;&nbsp;</span>10046事件和10053事件</a></span><ul class=\"toc-item\"><li><span><a href=\"#10046事件\" data-toc-modified-id=\"10046事件-2.3.1\"><span class=\"toc-item-num\">2.3.1&nbsp;&nbsp;</span>10046事件</a></span></li><li><span><a href=\"#10053事件\" data-toc-modified-id=\"10053事件-2.3.2\"><span class=\"toc-item-num\">2.3.2&nbsp;&nbsp;</span>10053事件</a></span></li></ul></li><li><span><a href=\"#AWR报告Statspack报告\" data-toc-modified-id=\"AWR报告Statspack报告-2.4\"><span class=\"toc-item-num\">2.4&nbsp;&nbsp;</span>AWR报告Statspack报告</a></span></li><li><span><a href=\"#一些现成的脚本\" data-toc-modified-id=\"一些现成的脚本-2.5\"><span class=\"toc-item-num\">2.5&nbsp;&nbsp;</span>一些现成的脚本</a></span></li></ul></li></ul></div>"
   ]
  },
  {
   "cell_type": "markdown",
   "metadata": {},
   "source": [
    "## 定义"
   ]
  },
  {
   "cell_type": "markdown",
   "metadata": {},
   "source": [
    "&emsp;&emsp;执行计划是一条查询语句在Oracle中的执行过程或访问路径的描述。"
   ]
  },
  {
   "cell_type": "markdown",
   "metadata": {},
   "source": [
    "![执行计划示例](https://raw.githubusercontent.com/Henry-chr/Uplearning/main/Read/Oracle/knowledge/image/%E6%89%A7%E8%A1%8C%E8%AE%A1%E5%88%92%E7%A4%BA%E4%BE%8B.png)"
   ]
  },
  {
   "cell_type": "markdown",
   "metadata": {},
   "source": [
    "执行计划的三个部分：\n",
    "1. 目标SQL的正文、sql_id和执行计划对应的plan_hash_value\n",
    "![SQL的正文](https://gitee.com/henry-chr/Uplearning/raw/main/Read/Oracle/knowledge/image/%E7%9B%AE%E6%A0%87SQL%E6%AD%A3%E6%96%87.png)\n",
    "\n",
    "2. 执行计划主体，主要有内部执行步骤、执行顺序、谓词信息、列信息、Cardinality、Cost等\n",
    "![执行计划主体](https://gitee.com/henry-chr/Uplearning/raw/main/Read/Oracle/knowledge/image/%E6%89%A7%E8%A1%8C%E8%AE%A1%E5%88%92%E4%B8%BB%E4%BD%93.png)\n",
    "\n",
    "3. 执行计划的额外补充信息，是否动态采用（dynamic sampling）、是否Cardinality Feedback、是否SQL Profile\n",
    "![额外补充信息](https://gitee.com/henry-chr/Uplearning/raw/main/Read/Oracle/knowledge/image/%E6%89%A7%E8%A1%8C%E8%AE%A1%E5%88%92%E8%A1%A5%E5%85%85%E4%BF%A1%E6%81%AF.png)"
   ]
  },
  {
   "cell_type": "markdown",
   "metadata": {},
   "source": [
    "## 查看执行计划"
   ]
  },
  {
   "cell_type": "markdown",
   "metadata": {},
   "source": [
    "### Autotrace"
   ]
  },
  {
   "cell_type": "markdown",
   "metadata": {},
   "source": [
    "命令|输出内容|简写\n",
    ":--:|:--:|:--:\n",
    "SET AUTOTRACE OFF | 缺省模式，只显示SQL执行结果  |  SET AUTOT OFF\n",
    "SET AUTOTRACE ON | 显示SQL结果、执行路径和资源消耗  |  SET AUTOT ON\n",
    "SET AUTOTRACE TRACEONLY | 显示SQL结果数量、执行路径和资源消耗  |  SET AUTOT TRACE\n",
    "SET AUTOTRACE TRACEONLY EXPLAN | 只显示SQL执行路径  |  SET AUTOT TRACE EXP\n",
    "SET AUTOTRACE TRACEONLY STATISTICS | 只显示资源消耗  |  SET AUTOT TRACE STAT"
   ]
  },
  {
   "cell_type": "markdown",
   "metadata": {},
   "source": [
    "### DBMS_XPLAN包"
   ]
  },
  {
   "cell_type": "markdown",
   "metadata": {},
   "source": [
    "#### dbms_xplan.display"
   ]
  },
  {
   "cell_type": "markdown",
   "metadata": {},
   "source": [
    "**dbms_xplan.display命令通常和explain plan命令结合使用**\n",
    "```\n",
    "explain plan for select * from emp;\n",
    "select * from table(dbms_xplan.display());\n",
    "```\n",
    "PL/SQL Developer里F5快捷键的原理就是调用explain plan命令\n",
    "\n",
    "    explain plan 命令的原理是Oracle将目标SQL所产生的执行计划写入PLAN_TABLE$\n",
    "（ON COMMIT PRESERVE ROWS 的 GLOBAL TEMPORARY TABLE 即会话级临时表仅对当前会话有效）然后再通过dbms_xplan.display()命令将PLAN_TABLE$中的具体执行步骤格式化显示出来"
   ]
  },
  {
   "cell_type": "markdown",
   "metadata": {},
   "source": [
    "#### dbms_xplan.display_cursor"
   ]
  },
  {
   "cell_type": "markdown",
   "metadata": {},
   "source": [
    "**前提条件：SQL执行计划仍在Shared Pool中**\n",
    "```\n",
    "DBMS_XPLAN.DISPLAY_CURSOR(                       \n",
    " sql_id        IN  VARCHAR2  DEFAULT  NULL,      \n",
    " child_number  IN  NUMBER    DEFAULT  NULL,      \n",
    " format        IN  VARCHAR2  DEFAULT  'TYPICAL');\n",
    "```\n",
    "- sql_id\n",
    "\n",
    "        指定位于库缓存执行计划中SQL语句的父游标。默认值为null。当使用默认值时当前会话的最后一条SQL语句的执行计划将被返回\n",
    "        可以通过查询V$SQL 或 V$SQLAREA的SQL_ID列来获得SQL语句的SQL_ID。\n",
    "    \n",
    "- child_number\n",
    "    \n",
    "        指定父游标下子游标的序号。即指定被返回执行计划的SQL语句的子游标。默认值为0。如果为null，则sql_id所指父游标下所有子游标\n",
    "        的执行计划都将被返回。\n",
    "    \n",
    "- format\n",
    "\n",
    "        控制SQL语句执行计划的输出部分。\n",
    "    \n",
    "**拓展**\n",
    "\n",
    "    dbms_xplan.display_cursor(null,null,'advanced') 仅用于SQLplus中查看刚执行过的SQL执行计划，在PL/SQL Developer中无法使用，因为工具在执行完SQL后还会执行其他的后台语句。*"
   ]
  },
  {
   "cell_type": "markdown",
   "metadata": {},
   "source": [
    "#### dbms_xplan.display_awr"
   ]
  },
  {
   "cell_type": "markdown",
   "metadata": {},
   "source": [
    "**目标SQL的执行计划被Oracle采集到AWR Reponsitory中**\n",
    "\n",
    "<code>该方法不能显示谓词信息，是因为从V$SQL_PLAN导入AWR基表WRH$_SQL_PLAN时未将谓词字段access_predicates和filter_predicates导入</code>"
   ]
  },
  {
   "cell_type": "markdown",
   "metadata": {},
   "source": [
    "### 10046事件和10053事件"
   ]
  },
  {
   "cell_type": "markdown",
   "metadata": {},
   "source": [
    "#### 10046事件"
   ]
  },
  {
   "cell_type": "markdown",
   "metadata": {},
   "source": [
    "&emsp;&emsp;10046事件可以得到Oracle内部执行系统解析、调用、等待、绑定变量等详细的信息，可以帮助我们解析一条/多条SQL、PL/SQL语句的运行状态，这些状态包括：Parse/Fetch/Execute三个阶段中遇到的等待事件、消耗的物理和逻辑读、CPU时间、执行计划等，还能帮我们分析一些DDL维护命令的内部工作原理，RMAN、Data Pump Expdp/impdp等工具缓慢问题。\n",
    "\n",
    "* 执行步骤\n",
    "    1. 激活10046事件\n",
    "\n",
    "    方法一\n",
    "```\n",
    "alter session set events '10046 trace name context forever,level 12';\n",
    "```\n",
    "    方法二\n",
    "```\n",
    "oradebug setmypid\n",
    "oradebug event 10046 trace name context forever,level 12;\n",
    "```\n",
    "    2. 执行目标SQL\n",
    "```\n",
    "select * from emp;\n",
    "```\n",
    "    3. 查看生成的trace文件\n",
    "\n",
    "    方法一\n",
    "```\n",
    "select distinct(m.sid),p.pid,p.tracefile from v$mystat m,v$session s,v$process p where m.sid=s.sid and s.paddr=p.addr;\n",
    "```\n",
    "    方法二\n",
    "```\n",
    "oradebug tracefile_name\n",
    "```\n",
    "    4. 关闭10046事件\n",
    "\n",
    "    方法一\n",
    "```\n",
    "alter session set events '10046 trace name context off';\n",
    "```\n",
    "    方法二\n",
    "```\n",
    "oradebug event 10046 trace name context forever,level 12;\n",
    "```\n",
    "\n",
    "    5. tkprof命令规范文件格式\n",
    "```\n",
    "tkprof D:\\11G\\APP\\ORACLE\\diag\\rdbms\\xe\\xe\\trace\\xe_ora_5140.trc E:\\xe_ora_5140.trc\n",
    "```\n",
    "![10046](https://gitee.com/henry-chr/Uplearning/raw/main/Read/Oracle/knowledge/image/10046%E4%BA%8B%E4%BB%B6.png)"
   ]
  },
  {
   "cell_type": "markdown",
   "metadata": {},
   "source": [
    "#### 10053事件"
   ]
  },
  {
   "cell_type": "markdown",
   "metadata": {},
   "source": [
    "**10053事件提供了Oracle如何选择执行计划，为什么会得到这样的执行计划信息。**\n",
    "\n",
    "**10053事件的trace文件，只能阅读原始的trace文件，不能使用tkprof工具来处理。**\n",
    "\n",
    "* 10053事件级别\n",
    "    1. Level 2\n",
    "\n",
    "        1. Column statistics\n",
    "        2. Single Access Paths\n",
    "        3. Join Costs\n",
    "        4. Table Joins Considered\n",
    "        5. Join Methods Considered (NL/MS/HA)\n",
    "    2. Level 1\n",
    "\n",
    "        1. Parameters used by the optimizer\n",
    "        2. Index statistics\n",
    "        3. Column statistics\n",
    "        4. Single Access Paths\n",
    "        5. Join Costs\n",
    "        6. Table Joins Considered\n",
    "        7. Join Methods Considered (NL/MS/HA)\n",
    "* 执行步骤\n",
    "    1. 启用10053事件\n",
    "    ```\n",
    "    ALTER SESSION SET EVENTS='10053 trace name context forever, level 1';\n",
    "    ```\n",
    "    2. 执行目标SQL\n",
    "    ```\n",
    "    select * from emp;\n",
    "    ```\n",
    "    3. 确定trace 文件\n",
    "    ```\n",
    "    SELECT D.VALUE || '\\' || LOWER(RTRIM(I.INSTANCE, CHR(0))) || '_ora_' ||P.SPID || '.trc' AS \"trace_file_name\"\n",
    "  FROM (SELECT P.SPID\n",
    "          FROM V$MYSTAT M, V$SESSION S, V$PROCESS P\n",
    "         WHERE M.STATISTIC# = 1\n",
    "           AND S.SID = M.SID\n",
    "           AND P.ADDR = S.PADDR) P,\n",
    "       (SELECT T.INSTANCE\n",
    "          FROM V$THREAD T, V$PARAMETER V\n",
    "         WHERE V.NAME = 'thread'\n",
    "           AND (V.VALUE = 0 OR T.THREAD# = TO_NUMBER(V.VALUE))) I,\n",
    "       (SELECT VALUE FROM V$PARAMETER WHERE NAME = 'user_dump_dest') D;\n",
    "    ```\n",
    "    4. 关闭10053事件\n",
    "    ```\n",
    "    ALTER SESSION SET EVENTS '10053 trace name context off';\n",
    "    ```"
   ]
  },
  {
   "cell_type": "markdown",
   "metadata": {},
   "source": [
    "### AWR报告Statspack报告"
   ]
  },
  {
   "cell_type": "markdown",
   "metadata": {},
   "source": [
    "### 一些现成的脚本"
   ]
  },
  {
   "cell_type": "markdown",
   "metadata": {},
   "source": []
  },
  {
   "cell_type": "code",
   "execution_count": null,
   "metadata": {},
   "outputs": [],
   "source": []
  }
 ],
 "metadata": {
  "kernelspec": {
   "display_name": "Python 3",
   "language": "python",
   "name": "python3"
  },
  "language_info": {
   "codemirror_mode": {
    "name": "ipython",
    "version": 3
   },
   "file_extension": ".py",
   "mimetype": "text/x-python",
   "name": "python",
   "nbconvert_exporter": "python",
   "pygments_lexer": "ipython3",
   "version": "3.8.1"
  },
  "latex_envs": {
   "LaTeX_envs_menu_present": true,
   "autoclose": false,
   "autocomplete": true,
   "bibliofile": "biblio.bib",
   "cite_by": "apalike",
   "current_citInitial": 1,
   "eqLabelWithNumbers": true,
   "eqNumInitial": 1,
   "hotkeys": {
    "equation": "Ctrl-E",
    "itemize": "Ctrl-I"
   },
   "labels_anchors": false,
   "latex_user_defs": false,
   "report_style_numbering": false,
   "user_envs_cfg": false
  },
  "toc": {
   "base_numbering": 1,
   "nav_menu": {},
   "number_sections": true,
   "sideBar": true,
   "skip_h1_title": false,
   "title_cell": "Oracle执行计划",
   "title_sidebar": "Oracle执行计划",
   "toc_cell": true,
   "toc_position": {},
   "toc_section_display": true,
   "toc_window_display": true
  },
  "varInspector": {
   "cols": {
    "lenName": 16,
    "lenType": 16,
    "lenVar": 40
   },
   "kernels_config": {
    "python": {
     "delete_cmd_postfix": "",
     "delete_cmd_prefix": "del ",
     "library": "var_list.py",
     "varRefreshCmd": "print(var_dic_list())"
    },
    "r": {
     "delete_cmd_postfix": ") ",
     "delete_cmd_prefix": "rm(",
     "library": "var_list.r",
     "varRefreshCmd": "cat(var_dic_list()) "
    }
   },
   "types_to_exclude": [
    "module",
    "function",
    "builtin_function_or_method",
    "instance",
    "_Feature"
   ],
   "window_display": false
  }
 },
 "nbformat": 4,
 "nbformat_minor": 4
}
