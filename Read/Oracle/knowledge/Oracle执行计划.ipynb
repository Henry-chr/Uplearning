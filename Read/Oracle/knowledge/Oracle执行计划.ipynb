{
 "cells": [
  {
   "cell_type": "markdown",
   "metadata": {
    "toc": true
   },
   "source": [
    "<h1>Oracle执行计划<span class=\"tocSkip\"></span></h1>\n",
    "<div class=\"toc\"><ul class=\"toc-item\"><li><span><a href=\"#详解执行计划\" data-toc-modified-id=\"详解执行计划-1\"><span class=\"toc-item-num\">1&nbsp;&nbsp;</span>详解执行计划</a></span><ul class=\"toc-item\"><li><span><a href=\"#执行计划组成\" data-toc-modified-id=\"执行计划组成-1.1\"><span class=\"toc-item-num\">1.1&nbsp;&nbsp;</span>执行计划组成</a></span></li><li><span><a href=\"#关键字解释\" data-toc-modified-id=\"关键字解释-1.2\"><span class=\"toc-item-num\">1.2&nbsp;&nbsp;</span>关键字解释</a></span></li></ul></li><li><span><a href=\"#获取执行计划\" data-toc-modified-id=\"获取执行计划-2\"><span class=\"toc-item-num\">2&nbsp;&nbsp;</span>获取执行计划</a></span><ul class=\"toc-item\"><li><span><a href=\"#Autotrace\" data-toc-modified-id=\"Autotrace-2.1\"><span class=\"toc-item-num\">2.1&nbsp;&nbsp;</span>Autotrace</a></span></li><li><span><a href=\"#DBMS_XPLAN包\" data-toc-modified-id=\"DBMS_XPLAN包-2.2\"><span class=\"toc-item-num\">2.2&nbsp;&nbsp;</span>DBMS_XPLAN包</a></span><ul class=\"toc-item\"><li><span><a href=\"#dbms_xplan.display（explain-plan-for）\" data-toc-modified-id=\"dbms_xplan.display（explain-plan-for）-2.2.1\"><span class=\"toc-item-num\">2.2.1&nbsp;&nbsp;</span>dbms_xplan.display（explain plan for）</a></span></li><li><span><a href=\"#dbms_xplan.display_cursor（format）\" data-toc-modified-id=\"dbms_xplan.display_cursor（format）-2.2.2\"><span class=\"toc-item-num\">2.2.2&nbsp;&nbsp;</span>dbms_xplan.display_cursor（format）</a></span></li><li><span><a href=\"#dbms_xplan.display_awr\" data-toc-modified-id=\"dbms_xplan.display_awr-2.2.3\"><span class=\"toc-item-num\">2.2.3&nbsp;&nbsp;</span>dbms_xplan.display_awr</a></span></li></ul></li><li><span><a href=\"#10046事件和10053事件\" data-toc-modified-id=\"10046事件和10053事件-2.3\"><span class=\"toc-item-num\">2.3&nbsp;&nbsp;</span>10046事件和10053事件</a></span><ul class=\"toc-item\"><li><span><a href=\"#10046事件\" data-toc-modified-id=\"10046事件-2.3.1\"><span class=\"toc-item-num\">2.3.1&nbsp;&nbsp;</span>10046事件</a></span></li><li><span><a href=\"#10053事件\" data-toc-modified-id=\"10053事件-2.3.2\"><span class=\"toc-item-num\">2.3.2&nbsp;&nbsp;</span>10053事件</a></span></li></ul></li><li><span><a href=\"#AWR报告Statspack报告\" data-toc-modified-id=\"AWR报告Statspack报告-2.4\"><span class=\"toc-item-num\">2.4&nbsp;&nbsp;</span>AWR报告Statspack报告</a></span><ul class=\"toc-item\"><li><span><a href=\"#AWR报告\" data-toc-modified-id=\"AWR报告-2.4.1\"><span class=\"toc-item-num\">2.4.1&nbsp;&nbsp;</span>AWR报告</a></span></li><li><span><a href=\"#Statspack报告\" data-toc-modified-id=\"Statspack报告-2.4.2\"><span class=\"toc-item-num\">2.4.2&nbsp;&nbsp;</span>Statspack报告</a></span></li></ul></li><li><span><a href=\"#一些现成的脚本\" data-toc-modified-id=\"一些现成的脚本-2.5\"><span class=\"toc-item-num\">2.5&nbsp;&nbsp;</span>一些现成的脚本</a></span><ul class=\"toc-item\"><li><span><a href=\"#display_cursor-9i.sql\" data-toc-modified-id=\"display_cursor-9i.sql-2.5.1\"><span class=\"toc-item-num\">2.5.1&nbsp;&nbsp;</span>display_cursor 9i.sql</a></span></li><li><span><a href=\"#printsql\" data-toc-modified-id=\"printsql-2.5.2\"><span class=\"toc-item-num\">2.5.2&nbsp;&nbsp;</span>printsql</a></span></li></ul></li><li><span><a href=\"#总结\" data-toc-modified-id=\"总结-2.6\"><span class=\"toc-item-num\">2.6&nbsp;&nbsp;</span>总结</a></span></li></ul></li><li><span><a href=\"#看懂执行计划\" data-toc-modified-id=\"看懂执行计划-3\"><span class=\"toc-item-num\">3&nbsp;&nbsp;</span>看懂执行计划</a></span><ul class=\"toc-item\"><li><span><a href=\"#执行顺序\" data-toc-modified-id=\"执行顺序-3.1\"><span class=\"toc-item-num\">3.1&nbsp;&nbsp;</span>执行顺序</a></span></li><li><span><a href=\"#表相关执行计划\" data-toc-modified-id=\"表相关执行计划-3.2\"><span class=\"toc-item-num\">3.2&nbsp;&nbsp;</span>表相关执行计划</a></span></li><li><span><a href=\"#B-Tree索引相关执行计划\" data-toc-modified-id=\"B-Tree索引相关执行计划-3.3\"><span class=\"toc-item-num\">3.3&nbsp;&nbsp;</span>B-Tree索引相关执行计划</a></span></li><li><span><a href=\"#位图索引相关执行计划\" data-toc-modified-id=\"位图索引相关执行计划-3.4\"><span class=\"toc-item-num\">3.4&nbsp;&nbsp;</span>位图索引相关执行计划</a></span></li><li><span><a href=\"#表连接相关执行计划\" data-toc-modified-id=\"表连接相关执行计划-3.5\"><span class=\"toc-item-num\">3.5&nbsp;&nbsp;</span>表连接相关执行计划</a></span></li><li><span><a href=\"#其他执行计划\" data-toc-modified-id=\"其他执行计划-3.6\"><span class=\"toc-item-num\">3.6&nbsp;&nbsp;</span>其他执行计划</a></span></li></ul></li><li><span><a href=\"#稳定执行计划\" data-toc-modified-id=\"稳定执行计划-4\"><span class=\"toc-item-num\">4&nbsp;&nbsp;</span>稳定执行计划</a></span></li></ul></div>"
   ]
  },
  {
   "cell_type": "markdown",
   "metadata": {},
   "source": [
    "## 详解执行计划"
   ]
  },
  {
   "cell_type": "markdown",
   "metadata": {},
   "source": [
    "### 执行计划组成"
   ]
  },
  {
   "cell_type": "markdown",
   "metadata": {},
   "source": [
    "&emsp;&emsp;执行计划是一条查询语句在Oracle中的执行过程或访问路径的描述。"
   ]
  },
  {
   "cell_type": "markdown",
   "metadata": {},
   "source": [
    "![执行计划示例](https://raw.githubusercontent.com/Henry-chr/Uplearning/main/Read/Oracle/knowledge/image/%E6%89%A7%E8%A1%8C%E8%AE%A1%E5%88%92%E7%A4%BA%E4%BE%8B.png)"
   ]
  },
  {
   "cell_type": "markdown",
   "metadata": {},
   "source": [
    "执行计划的三个部分：\n",
    "1. 目标SQL的正文、sql_id和执行计划对应的plan_hash_value\n",
    "![SQL的正文](https://gitee.com/henry-chr/Uplearning/raw/main/Read/Oracle/knowledge/image/%E7%9B%AE%E6%A0%87SQL%E6%AD%A3%E6%96%87.png)\n",
    "\n",
    "2. 执行计划主体，主要有内部执行步骤、执行顺序、谓词信息、列信息、Cardinality、Cost等\n",
    "![执行计划主体](https://gitee.com/henry-chr/Uplearning/raw/main/Read/Oracle/knowledge/image/%E6%89%A7%E8%A1%8C%E8%AE%A1%E5%88%92%E4%B8%BB%E4%BD%93.png)\n",
    "\n",
    "3. 执行计划的额外补充信息，是否动态采用（dynamic sampling）、是否Cardinality Feedback、是否SQL Profile\n",
    "![额外补充信息](https://gitee.com/henry-chr/Uplearning/raw/main/Read/Oracle/knowledge/image/%E6%89%A7%E8%A1%8C%E8%AE%A1%E5%88%92%E8%A1%A5%E5%85%85%E4%BF%A1%E6%81%AF.png)"
   ]
  },
  {
   "cell_type": "markdown",
   "metadata": {},
   "source": [
    "### 关键字解释"
   ]
  },
  {
   "cell_type": "markdown",
   "metadata": {},
   "source": [
    "**Header**\n",
    "![header](https://gitee.com/henry-chr/Uplearning/raw/main/Read/Oracle/knowledge/image/header.png)\n",
    "* ID：序号\n",
    "* Operation： 当前操作的内容\n",
    "* Rows： 当前操作的Cardinality，Oracle估计当前操作的返回结果集。\n",
    "* Cost：SQL执行的代价\n",
    "* Time：Oracle 估计当前操作的时间\n",
    "\n",
    "**Predicate Information**\n",
    "![谓词信息](https://gitee.com/henry-chr/Uplearning/raw/main/Read/Oracle/knowledge/image/%E8%B0%93%E8%AF%8D%E4%BF%A1%E6%81%AF.png)\n",
    "* Access\n",
    "    1. 通过某种方式定位了需要的数据，然后读取出这些结果集，叫做Access。\n",
    "    2. 表示这个谓词条件的值将会影响数据的访问路劲（表还是索引）。\n",
    "* Filter\n",
    "    1. 把所有的数据都访问了，然后过滤掉不需要的数据，这种方式叫做filter 。\n",
    "    2. 表示谓词条件的值不会影响数据的访问路劲，只起过滤的作用。\n",
    "\n",
    "**Query Block Name**\n",
    "![Query Block Name](https://gitee.com/henry-chr/Uplearning/raw/main/Read/Oracle/knowledge/image/Query%20Block%20Name.png)\n",
    "\n",
    "**Outline Data**\n",
    "![Outline Data](https://gitee.com/henry-chr/Uplearning/raw/main/Read/Oracle/knowledge/image/Outline%20Data.png)\n",
    "\n",
    "**Note**\n",
    "![](https://gitee.com/henry-chr/Uplearning/raw/main/Read/Oracle/knowledge/image/Note.png)\n",
    "动态采样（dynamic sampling）是Oracle CBO优化器的一种特性。如果相关数据表没有收集过统计量，又要使用CBO的机制，就会引起动态采样。"
   ]
  },
  {
   "cell_type": "markdown",
   "metadata": {},
   "source": [
    "## 获取执行计划"
   ]
  },
  {
   "cell_type": "markdown",
   "metadata": {},
   "source": [
    "### Autotrace"
   ]
  },
  {
   "cell_type": "markdown",
   "metadata": {},
   "source": [
    "命令|输出内容|简写|是否真实执行\n",
    ":--:|:--:|:--:|--\n",
    "SET AUTOTRACE OFF | 缺省模式，只显示SQL执行结果  |  SET AUTOT OFF  | 是\n",
    "SET AUTOTRACE ON | 显示SQL结果、执行路径和资源消耗  |  SET AUTOT ON  |  是\n",
    "SET AUTOTRACE TRACEONLY | 显示SQL结果数量、执行路径和资源消耗  |  SET AUTOT TRACE  |  是\n",
    "SET AUTOTRACE TRACEONLY EXPLAN | 只显示SQL执行路径  |  SET AUTOT TRACE EXP  |  Select语句没有，DML会被执行\n",
    "SET AUTOTRACE TRACEONLY STATISTICS | 只显示资源消耗  |  SET AUTOT TRACE STAT  |  \n",
    "\n",
    "**统计信息**\n",
    "![统计信息](https://gitee.com/henry-chr/Uplearning/raw/main/Read/Oracle/knowledge/image/%E7%BB%9F%E8%AE%A1%E4%BF%A1%E6%81%AF.png)\n",
    "\n",
    "统计信息|解释\n",
    "--:|:--\n",
    "recursive calls|产生的递归sql调用的条数\n",
    "Db block gets|从buffer cache中读取的block的数量\n",
    "consistent gets|从buffer cache中读取的undo数据的block的数量\n",
    "physical reads|从磁盘读取的block的数量\n",
    "redo size|DML生成的redo的大小\n",
    "bytes sent via SQL*Net to client | 数据库服务器通过SQL*Net向查询客户端发送的查询结果字节数\n",
    "bytes received via SQL*Net from client | 通过SQL*Net接受的来自客户端的数据字节数\n",
    "SQL*Net roundtrips to/from client | 服务器和客户端来回往返通信的Oracle Net messages条数\n",
    "sorts (memory)|在内存执行的排序量   \n",
    "sorts (disk)|在磁盘上执行的排序量\n",
    "rows processed|处理的数据的行数\n",
    "\n",
    "**数据缓冲区的使用命中率**\n",
    "![](https://gitee.com/henry-chr/Uplearning/raw/main/Read/Oracle/knowledge/image/%E6%95%B0%E6%8D%AE%E7%BC%93%E5%86%B2%E5%8C%BA%E5%91%BD%E4%B8%AD%E7%8E%87.png)\n",
    "```\n",
    "SELECT name, value\n",
    "  FROM v$sysstat\n",
    " WHERE name IN ('db block gets', 'consistent gets', 'physical reads')\n",
    "union all\n",
    "select '数据缓冲区的使用命中率' name,\n",
    "       1 - (max(case\n",
    "                  when a.name = 'physical reads' then\n",
    "                   a.value\n",
    "                end) /\n",
    "       (max(case\n",
    "                   when a.name = 'db block gets' then\n",
    "                    a.value\n",
    "                 end) + max(case\n",
    "                                    when a.name = 'consistent gets' then\n",
    "                                     a.value\n",
    "                                  end)))\n",
    "  from (SELECT name, value\n",
    "          FROM v$sysstat\n",
    "         WHERE name IN\n",
    "               ('db block gets', 'consistent gets', 'physical reads')) a\n",
    "```\n",
    "\n",
    "\n",
    "* 优点\n",
    "    1. 可以输出运行时的相关统计信息\n",
    "    2. 有多种模式可供选择\n",
    "* 缺点\n",
    "    1. 必须要等SQL语句执行完，才出结果\n",
    "    2. 无法看到表被访问了多少次\n",
    "    3. 当存在绑定变量时执行计划可能不准"
   ]
  },
  {
   "cell_type": "markdown",
   "metadata": {},
   "source": [
    "### DBMS_XPLAN包"
   ]
  },
  {
   "cell_type": "markdown",
   "metadata": {},
   "source": [
    "#### dbms_xplan.display（explain plan for）"
   ]
  },
  {
   "cell_type": "markdown",
   "metadata": {},
   "source": [
    "**dbms_xplan.display命令通常和explain plan命令结合使用**\n",
    "```\n",
    "explain plan for select * from emp;\n",
    "select * from table(dbms_xplan.display());\n",
    "```\n",
    "PL/SQL Developer里F5快捷键的原理就是调用explain plan命令\n",
    "\n",
    "    explain plan 命令的原理是Oracle将目标SQL所产生的执行计划写入PLAN_TABLE$\n",
    "（ON COMMIT PRESERVE ROWS 的 GLOBAL TEMPORARY TABLE 即会话级临时表仅对当前会话有效）然后再通过dbms_xplan.display()命令将PLAN_TABLE$中的具体执行步骤格式化显示出来\n",
    "\n",
    "* 优点\n",
    "\n",
    "    无需真正执行，快捷方便\n",
    "* 缺点\n",
    "    1. 没有输出相关统计信息\n",
    "    2. 无法判断是处理了多少行\n",
    "    3. 无法判断表被访问了多少次"
   ]
  },
  {
   "cell_type": "markdown",
   "metadata": {},
   "source": [
    "#### dbms_xplan.display_cursor（format）"
   ]
  },
  {
   "cell_type": "markdown",
   "metadata": {},
   "source": [
    "**前提条件：SQL执行计划仍在Shared Pool中**\n",
    "```\n",
    "DBMS_XPLAN.DISPLAY_CURSOR(                       \n",
    " sql_id        IN  VARCHAR2  DEFAULT  NULL,      \n",
    " child_number  IN  NUMBER    DEFAULT  NULL,      \n",
    " format        IN  VARCHAR2  DEFAULT  'TYPICAL');\n",
    "```\n",
    "- sql_id\n",
    "\n",
    "        指定位于库缓存执行计划中SQL语句的父游标。默认值为null。当使用默认值时当前会话的最后一条SQL语句的执行计划将被返回\n",
    "        可以通过查询V$SQL 或 V$SQLAREA的SQL_ID列来获得SQL语句的SQL_ID。\n",
    "    \n",
    "- child_number\n",
    "    \n",
    "        指定父游标下子游标的序号。即指定被返回执行计划的SQL语句的子游标。默认值为0。如果为null，则sql_id所指父游标下所有子游标\n",
    "        的执行计划都将被返回。\n",
    "    \n",
    "- format\n",
    "\n",
    "        控制SQL语句执行计划的输出部分。\n",
    "        \n",
    "**Format参数详解**\n",
    "* 官方输出格式\n",
    "    1. BASIC: 显示最少的信息，只包括操作类型，ID名称和选项。\n",
    "    2. TYPICAL: 默认值，显示相关信息以及某些附加的显示选项，如分区和并发使用等。\n",
    "    3. SERIAL: 与TYPICAL类型相似，区别是它不包括并发的信息，即使是并行执行的计划。\n",
    "    4. ALL: 显示最多的信息，包含了TYPICAL的全部以及更多的附加信息,如别名和远程调用等。\n",
    "* 附加输出格式（逗号和空格分隔来声明多个关键字，使用”+”和”-”符号来包含或排除相应的显示元素）\n",
    "    1. ROWS – 显示被优化器估算的记录的行号\n",
    "    2. BYTES – 显示优化器估算的字节数\n",
    "    3. COST – 显示优化器计算的成本信息\n",
    "    4. PARTITION – 显示分区的分割信息\n",
    "    5. PARALLEL – 显示并行执行信息\n",
    "    6. PREDICATE – 显示谓语\n",
    "    7. PROJECTION – 显示列投影部分(每一行的那些列被传递给其父列已经这些列的大小)\n",
    "    8. ALIAS – 显示查询块名称已经对象别名\n",
    "    9. REMOTE – 显示分布式查询信息\n",
    "    10. NOTE – 显示注释\n",
    "    11. IOSTATS – 显示游标执行的IO统计信息\n",
    "    12. MEMSTATS – 为内存密集运算如散列联结，排序，或一些类型的位图运算显示内存管理统计信息\n",
    "    13. ALLSTATS – 与'IOSTATS MEMSTATS'等价\n",
    "    14. LAST – 显示最后执行的执行计划统计信息，默认显示为ALL类型，并且可以累积。\n",
    "\n",
    "    \n",
    "**拓展**\n",
    "\n",
    "    dbms_xplan.display_cursor(null,null,'advanced') 仅用于SQLplus中查看刚执行过的SQL执行计划，在PL/SQL Developer中无法使用，因为工具在执行完SQL后还会执行其他的后台语句。\n",
    "    \n",
    "**搭配ALTER SESSION SET STATISTICS_LEVEL = ALL 或 /*+ GATHER_PLAN_STATISTICS*/**\n",
    "![执行计划](https://gitee.com/henry-chr/Uplearning/raw/main/Read/Oracle/knowledge/image/allstats.png)\n",
    "\n",
    "    1. starts：SQL执行的次数；\n",
    "    2. E-Rows：执行计划预计返回的行数；\n",
    "    3. A-Rows：执行计划实际返回的行数；\n",
    "    4. A-Time：每一步执行的时间(HH:MM:SS.FF)，根据这一行可知SQL耗时在哪些地方；\n",
    "    5. Buffers：每一步实际执行的逻辑读或一致性读；\n",
    "    6. Reads：物理读；\n",
    "    7. OMem：OMem为最优执行模式所需的内存评估值， 这个数据是由优化器统计数据以及前一次执行的性能数据估算得出的；\n",
    "    8. 1Mem：1Mem为one-pass模式所需的内存评估值，当工作区大小无法满足操作所需的大小时，需要将部分数据写入临时磁盘空间中(如果仅需要写入一次就可以完成操作，就称一次通过，One-Pass;否则为多次通过，Multi-Pass).该列数据为语句最后一次执行中，单次写磁盘所需要的内存大小，这个由优化器统计数据以及前一次执行的性能数据估算得出的\n",
    "    9. Used_Mem：Used-Mem则为当前操作实际执行时消耗的内存，括号里面为(发生磁盘交换的次数,1次即为One-Pass,大于1次则为Multi_Pass,如果没有使用磁盘，则显示0)\n",
    "\n",
    "* 优点\n",
    "    1. 可得到真实的执行计划\n",
    "    2. 可以看出表被访问了多少次\n",
    "    3. 可以通过E-ROWS和A-RWS得到预测行数和实际行数\n",
    "    4. Buffers和Reads也可以显示真实的逻辑读和物理读\n",
    "* 缺点\n",
    "    1. 没有输出运行的具体统计信息\n",
    "    2. 看不出递归调用的次数"
   ]
  },
  {
   "cell_type": "markdown",
   "metadata": {},
   "source": [
    "#### dbms_xplan.display_awr"
   ]
  },
  {
   "cell_type": "markdown",
   "metadata": {},
   "source": [
    "**目标SQL的执行计划被Oracle采集到AWR Reponsitory中**\n",
    "\n",
    "    该方法不能显示谓词信息，是因为从V$SQL_PLAN导入AWR基表WRH$_SQL_PLAN时未将谓词字段access_predicates和filter_predicates导入\n",
    "    \n",
    "* 优点\n",
    "    1. 可以得到真实的执行计划"
   ]
  },
  {
   "cell_type": "markdown",
   "metadata": {},
   "source": [
    "### 10046事件和10053事件"
   ]
  },
  {
   "cell_type": "markdown",
   "metadata": {},
   "source": [
    "#### 10046事件"
   ]
  },
  {
   "cell_type": "markdown",
   "metadata": {},
   "source": [
    "&emsp;&emsp;10046事件可以得到Oracle内部执行系统解析、调用、等待、绑定变量等详细的信息，可以帮助我们解析一条/多条SQL、PL/SQL语句的运行状态，这些状态包括：Parse/Fetch/Execute三个阶段中遇到的等待事件、消耗的物理和逻辑读、CPU时间、执行计划等，还能帮我们分析一些DDL维护命令的内部工作原理，RMAN、Data Pump Expdp/impdp等工具缓慢问题。\n",
    "\n",
    "* 执行步骤\n",
    "    1. 激活10046事件\n",
    "\n",
    "    方法一\n",
    "```\n",
    "alter session set events '10046 trace name context forever,level 12';\n",
    "```\n",
    "    方法二\n",
    "```\n",
    "oradebug setmypid\n",
    "oradebug event 10046 trace name context forever,level 12;\n",
    "```\n",
    "    2. 执行目标SQL\n",
    "```\n",
    "select * from emp;\n",
    "```\n",
    "    3. 查看生成的trace文件\n",
    "\n",
    "    方法一\n",
    "```\n",
    "select distinct(m.sid),p.pid,p.tracefile from v$mystat m,v$session s,v$process p where m.sid=s.sid and s.paddr=p.addr;\n",
    "```\n",
    "    方法二\n",
    "```\n",
    "oradebug tracefile_name\n",
    "```\n",
    "    4. 关闭10046事件\n",
    "\n",
    "    方法一\n",
    "```\n",
    "alter session set events '10046 trace name context off';\n",
    "```\n",
    "    方法二\n",
    "```\n",
    "oradebug event 10046 trace name context forever,level 12;\n",
    "```\n",
    "\n",
    "    5. 切换到cmd模式，tkprof命令规范文件格式\n",
    "```\n",
    "tkprof D:\\11G\\APP\\ORACLE\\diag\\rdbms\\xe\\xe\\trace\\xe_ora_5140.trc E:\\xe_ora_5140.trc\n",
    "```\n",
    "![10046](https://gitee.com/henry-chr/Uplearning/raw/main/Read/Oracle/knowledge/image/10046%E4%BA%8B%E4%BB%B6.png)\n",
    "\n",
    "* 优点\n",
    "    1. 可以看出sql语句对应的等待事件\n",
    "    2. 函数调用也会被列出\n",
    "    3. 可以方便的看处理的行数，产生的逻辑物理读\n",
    "    4. 可以方便的看解析时间和执行时间\n",
    "    5. 可以跟踪整个程序包\n",
    "* 缺点\n",
    "    1. 步骤繁琐\n",
    "    2. 无法判断表被访问了多少次\n",
    "    3. 执行计划中的谓词部分不能清晰的展现出来"
   ]
  },
  {
   "cell_type": "markdown",
   "metadata": {},
   "source": [
    "#### 10053事件"
   ]
  },
  {
   "cell_type": "markdown",
   "metadata": {},
   "source": [
    "**10053事件提供了Oracle如何选择执行计划，为什么会得到这样的执行计划信息。**\n",
    "\n",
    "**10053事件的trace文件，只能阅读原始的trace文件，不能使用tkprof工具来处理。**\n",
    "\n",
    "* 10053事件级别\n",
    "    1. Level 2\n",
    "\n",
    "        1. Column statistics\n",
    "        2. Single Access Paths\n",
    "        3. Join Costs\n",
    "        4. Table Joins Considered\n",
    "        5. Join Methods Considered (NL/MS/HA)\n",
    "    2. Level 1\n",
    "\n",
    "        1. Parameters used by the optimizer\n",
    "        2. Index statistics\n",
    "        3. Column statistics\n",
    "        4. Single Access Paths\n",
    "        5. Join Costs\n",
    "        6. Table Joins Considered\n",
    "        7. Join Methods Considered (NL/MS/HA)\n",
    "* 执行步骤\n",
    "    1. 启用10053事件\n",
    "    ```\n",
    "    ALTER SESSION SET EVENTS='10053 trace name context forever, level 1';\n",
    "    ```\n",
    "    2. 执行目标SQL\n",
    "    ```\n",
    "    select * from emp;\n",
    "    ```\n",
    "    3. 确定trace 文件\n",
    "    ```\n",
    "    SELECT D.VALUE || '\\' || LOWER(RTRIM(I.INSTANCE, CHR(0))) || '_ora_' ||P.SPID || '.trc' AS \"trace_file_name\"\n",
    "  FROM (SELECT P.SPID\n",
    "          FROM V$MYSTAT M, V$SESSION S, V$PROCESS P\n",
    "         WHERE M.STATISTIC# = 1\n",
    "           AND S.SID = M.SID\n",
    "           AND P.ADDR = S.PADDR) P,\n",
    "       (SELECT T.INSTANCE\n",
    "          FROM V$THREAD T, V$PARAMETER V\n",
    "         WHERE V.NAME = 'thread'\n",
    "           AND (V.VALUE = 0 OR T.THREAD# = TO_NUMBER(V.VALUE))) I,\n",
    "       (SELECT VALUE FROM V$PARAMETER WHERE NAME = 'user_dump_dest') D;\n",
    "    ```\n",
    "    4. 关闭10053事件\n",
    "    ```\n",
    "    ALTER SESSION SET EVENTS '10053 trace name context off';\n",
    "    ```\n",
    "\n",
    "![10053事件](https://gitee.com/henry-chr/Uplearning/raw/main/Read/Oracle/knowledge/image/10053%E4%BA%8B%E4%BB%B6.png)"
   ]
  },
  {
   "cell_type": "markdown",
   "metadata": {},
   "source": [
    "### AWR报告Statspack报告"
   ]
  },
  {
   "cell_type": "markdown",
   "metadata": {},
   "source": [
    "#### AWR报告"
   ]
  },
  {
   "cell_type": "markdown",
   "metadata": {},
   "source": [
    "* 执行步骤\n",
    "    1. sqlplus运行awrrpt.sql脚本\n",
    "    ```\n",
    "    @?/rdbms/admin/awrrpt.sql\n",
    "    ```\n",
    "    2. 选择生成报告格式\n",
    "        ![报告格式](https://gitee.com/henry-chr/Uplearning/raw/main/Read/Oracle/knowledge/image/awr-%E6%8A%A5%E5%91%8A%E6%A0%BC%E5%BC%8F.png)\n",
    "    3. 选择生成报告日期\n",
    "    \n",
    "        选择要生成的报告的日期是在多少天以前记录，缺省记录最近7天。\n",
    "        ![报告天数](https://gitee.com/henry-chr/Uplearning/raw/main/Read/Oracle/knowledge/image/awr-%E5%A4%A9%E6%95%B0.png)\n",
    "    4. 选择snpID\n",
    "        ![snpid](https://gitee.com/henry-chr/Uplearning/raw/main/Read/Oracle/knowledge/image/awr-snpID.png)\n",
    "    5. 选择报告保存路径以及名字\n",
    "    \n",
    "        默认路径为当前CMD目录\n",
    "        ![保存路径](https://gitee.com/henry-chr/Uplearning/raw/main/Read/Oracle/knowledge/image/awr-%E6%8A%A5%E5%91%8A%E5%90%8D%E7%A7%B0.png)"
   ]
  },
  {
   "cell_type": "markdown",
   "metadata": {},
   "source": [
    "#### Statspack报告"
   ]
  },
  {
   "cell_type": "markdown",
   "metadata": {},
   "source": [
    "    通过Statspack 报告可以很容易的确定Oracle数据库的瓶颈，记录数据库性能状态及运行状况。\n",
    "* 原理\n",
    "    1. 运行oracle自带脚本，生成一系列的统计表。\n",
    "    2. 生成快照，采样\n",
    "    3. 根据快照生成报告"
   ]
  },
  {
   "cell_type": "markdown",
   "metadata": {},
   "source": [
    "### 一些现成的脚本"
   ]
  },
  {
   "cell_type": "markdown",
   "metadata": {},
   "source": [
    "#### display_cursor 9i.sql"
   ]
  },
  {
   "cell_type": "markdown",
   "metadata": {},
   "source": [
    "    入参：SQL HASH VALUE 和 Child Cousor Number\n",
    "    前提条件：目标SQL的执行计划还在Shared Pool"
   ]
  },
  {
   "cell_type": "markdown",
   "metadata": {},
   "source": [
    "####  printsql"
   ]
  },
  {
   "cell_type": "markdown",
   "metadata": {},
   "source": [
    "    存储过程 printsql 是在脚本 display_cursor_9i.sql上的封装，它可以把指定 SPID或者 Session ID的进程或者 Session 正在执行的 SQL 以及其对应的真实执行计划、资源消耗情况打印出来，非常方便。"
   ]
  },
  {
   "cell_type": "markdown",
   "metadata": {},
   "source": [
    "### 总结"
   ]
  },
  {
   "cell_type": "markdown",
   "metadata": {},
   "source": [
    "1. 简单获取执行计划的方法：explain plan for 或 set autotrace on\n",
    "2. 获取目标SQL的多个执行计划：dbms_xplan.display_cursor 或 AWR报告\n",
    "3. 有函数，存在多层调用：10046事件\n",
    "4. 表被访问次数：dbms_xplan.display_cursor搭配ALTER SESSION SET STATISTICS_LEVEL = ALL\n",
    "5. 获取真实执行计划：除explain plan for 和 SET AUTOTRACE TRACEONLY EXPLAIN外"
   ]
  },
  {
   "cell_type": "markdown",
   "metadata": {},
   "source": [
    "## 看懂执行计划"
   ]
  },
  {
   "cell_type": "markdown",
   "metadata": {},
   "source": [
    "### 执行顺序"
   ]
  },
  {
   "cell_type": "markdown",
   "metadata": {},
   "source": [
    "&emsp;&emsp;**口诀：最右最上先执行**\n",
    "\n",
    "先从最开头一直连续往右看，直到看到最右边的并列的地方;对于不并列的，靠右的先执行;如果见到并列的，就从上往下看，对于并列的部分，靠上的先执行。"
   ]
  },
  {
   "cell_type": "markdown",
   "metadata": {},
   "source": [
    "### 表相关执行计划"
   ]
  },
  {
   "cell_type": "markdown",
   "metadata": {},
   "source": [
    "* 全表扫描（TABLE ACCESS FULL）\n",
    "* ROWID扫描\n",
    "    1. TABLE ACCESS BY USER ROWID\n",
    "            ROWID用户手动指定\n",
    "    2. TABLE ACCESS BY INDEX ROWID\n",
    "            ROWID来源于索引"
   ]
  },
  {
   "cell_type": "markdown",
   "metadata": {},
   "source": [
    "### B-Tree索引相关执行计划"
   ]
  },
  {
   "cell_type": "markdown",
   "metadata": {},
   "source": [
    "* 索引唯一扫描（INDEX UNIQUE SCAN）\n",
    "* 索引范围扫描（INDEX RANGE SCAN）\n",
    "* 索引全扫描（INDEX FULL SCAN）\n",
    "* 索引快速全扫描（INDEX FAST FULL SCAN）\n",
    "* 索引跳跃式扫描（INDEX SKIP SCAN）"
   ]
  },
  {
   "cell_type": "markdown",
   "metadata": {},
   "source": [
    "### 位图索引相关执行计划"
   ]
  },
  {
   "cell_type": "markdown",
   "metadata": {},
   "source": [
    "* 优势\n",
    "    1. 节省存储空间，因为位图段是压缩存储的\n",
    "    2. 能过快速处理and或or查询条件的SQL，因为可以按位运算\n",
    "* 缺点\n",
    "    1. 不适合用于高并发且频繁修改的OLTP系统。因为多条数据可能对应同一个索引行的位图段"
   ]
  },
  {
   "cell_type": "markdown",
   "metadata": {},
   "source": [
    "* 位图索引单键值扫描（BITMAP INDEX SINGLE VALUE）\n",
    "* 位图索引范围扫描（BITMAP INDEX RANGE SCAN）\n",
    "* 位图索引全扫描（BITMAP INDEX FULL SCAN）\n",
    "* 位图索引快速全扫描（BITMAP INDEX FAST FULL SCAN）\n",
    "* 位图按位与（BITMAP AND）\n",
    "* 位图按位或（BITMAP OR）\n",
    "* 位图按位减（BITMAP MINUS）"
   ]
  },
  {
   "cell_type": "markdown",
   "metadata": {},
   "source": [
    "### 表连接相关执行计划"
   ]
  },
  {
   "cell_type": "markdown",
   "metadata": {},
   "source": [
    "* 排序合并连接（SORT JOIN、MERGE JOIN）\n",
    "* 嵌套循环连接（NESTED LOOPS）\n",
    "* 哈希连接（HASH JOIN）\n",
    "* 反连接（HASH JOIN ANTI、MERGE JOIN ANTI、NESTED LOOPS ANTI）\n",
    "* 半连接（HASH JOIN SEMI、MERGE JOIN SEMI、NESTED LOOPS SEMI）"
   ]
  },
  {
   "cell_type": "markdown",
   "metadata": {},
   "source": [
    "### 其他执行计划"
   ]
  },
  {
   "cell_type": "markdown",
   "metadata": {},
   "source": [
    "* AND-EQUAL(INDEX MERGE)\n",
    "        INDEX MERGE是指当where条件中出现针对多个不同索引列的等值条件，Oracle会分别去扫描这些索引列，然后合并每个索引的集合，找到值相同的ROWID最后回表。\n",
    "* INDEX JOIN\n",
    "        针对单表上的不同索引之间的连接。\n",
    "* VIEW\n",
    "    1. 视图合并，则Oracle在执行该SQL时可以直接针对该视图的基表，此时SQL的执行计划中很可能不会出现关键字\"VIEW\"\n",
    "    2. 对于某些SQL而言，即使Oracle 已经做了视图合并但其所对应的执行计划中可能还是会显示关键字\"VIEW\"\n",
    "    3. 如果不能做视图合并，则Oracle将把该视图看作一个整体并独立地执行它，此时 SQL的执行计划中将出现关键字\"VIEW\"\n",
    "* FILTER\n",
    "        FILTER直译过来就是过滤、筛选的意思，它是一种特殊的执行计划，所对应的执行过程就是如下三步。\n",
    "    1. 得到一个驱动结果集。\n",
    "    2. 根据一定的过滤条件从上述驱动结果集中滤除不满足条件的记录。\n",
    "    3. 结果集中剩下的记录就会返回给最终用户或者继续参与下一个执行步骤。\n",
    "\n",
    "        FILTER 类型的执行计划实际上是一种改良的嵌套循环连接，它并不像嵌套循环连接那样，驱动结果集中的有多少记录就得访问多少次被驱动表。\n",
    "* SORT\n",
    "        A. SORT AGGREGATE ——》 不一定排序\n",
    "        B. SORT UNIQUE\n",
    "        C. SORT JOIN ——》 通常出现在排序合并连接\n",
    "        D. SORT GROUPBY\n",
    "        E. SORT ORDER BY\n",
    "        F. BUFFER SORT ——》 不一定排序\n",
    "* UNION/UNION ALL\n",
    "        UNION 和 UNIONALL的区别是∶UNION ALL仅仅是简单地将两个结果集合并，并不做任何额外的处理;而 UNION 除了将两个结果集简单合并之外，还会对合并后的结果集做排序和去重，即 UNION 相当于先做 UNION ALL，然后再对 UNIONALL之后的结果集做 SORT UNIQUE。\n",
    "* CONCAT\n",
    "        CONCAT就是 IN-List扩展（IN-List Expansion）或OR扩展（OR Expansion），IN-List扩展/OR扩展在执行计划中对应的关键字是\"CONCATENATION\"。\n",
    "* CONNECT BY\n",
    "        CONNECT BY是 Oracle数据库中层次查询（Hierarchical Queries）。"
   ]
  },
  {
   "cell_type": "markdown",
   "metadata": {},
   "source": [
    "## 稳定执行计划"
   ]
  },
  {
   "cell_type": "markdown",
   "metadata": {},
   "source": [
    "* SQL Profile\n",
    "    1. Automatic类型\n",
    "    2. Manual类型\n",
    "    \n",
    "&emsp;&emsp;SQL Profile 实际上只是一种亡羊补牢、被动的技术手段，应用在那些执行计划已经发生了不好的变更的 SQL上，即当我们发现这些SQL的执行计划已经出了问题时通过创建SQL Pofle来纠正、稳定这些SQL的执行计划。也就是说，即便通过创建SQLProfile解决了目标SQL执行计划变更的问题，依然不能保证系统后续执行的 SQL 的执行计划就不再发生不好的变更。\n",
    "* SPM（SQL Plan Management）\n",
    "\n",
    "    SPM 是一种主动的稳定执行计划的手段，能够保证只有被验证过的执行计划才会被启用。SPM既能够主动地稳定执行计划，又保留了继续使用新的执行效率可能更高的执行计划的机会。\n",
    "    SPM启动后，每个SQL的所有执行计划都有对应的SQL Plan Baseline，可以通过DBA_SQL_PLAN_BASELINE查看。只有DBA_SQL_PLAN_BASELINE表中ENABLE和ACCEPTED列的值均为'YES'的SQL Plan Baseline对应的执行计划才会被Oracle启用。获取SQL Plan Baseline的方法如下：\n",
    "    1. 自动捕获\n",
    "    2. 手动生成/批量导入\n",
    "\n"
   ]
  },
  {
   "cell_type": "code",
   "execution_count": null,
   "metadata": {},
   "outputs": [],
   "source": []
  }
 ],
 "metadata": {
  "kernelspec": {
   "display_name": "Python 3",
   "language": "python",
   "name": "python3"
  },
  "language_info": {
   "codemirror_mode": {
    "name": "ipython",
    "version": 3
   },
   "file_extension": ".py",
   "mimetype": "text/x-python",
   "name": "python",
   "nbconvert_exporter": "python",
   "pygments_lexer": "ipython3",
   "version": "3.8.1"
  },
  "latex_envs": {
   "LaTeX_envs_menu_present": true,
   "autoclose": false,
   "autocomplete": true,
   "bibliofile": "biblio.bib",
   "cite_by": "apalike",
   "current_citInitial": 1,
   "eqLabelWithNumbers": true,
   "eqNumInitial": 1,
   "hotkeys": {
    "equation": "Ctrl-E",
    "itemize": "Ctrl-I"
   },
   "labels_anchors": false,
   "latex_user_defs": false,
   "report_style_numbering": false,
   "user_envs_cfg": false
  },
  "toc": {
   "base_numbering": 1,
   "nav_menu": {},
   "number_sections": true,
   "sideBar": true,
   "skip_h1_title": false,
   "title_cell": "Oracle执行计划",
   "title_sidebar": "Oracle执行计划",
   "toc_cell": true,
   "toc_position": {},
   "toc_section_display": true,
   "toc_window_display": true
  },
  "varInspector": {
   "cols": {
    "lenName": 16,
    "lenType": 16,
    "lenVar": 40
   },
   "kernels_config": {
    "python": {
     "delete_cmd_postfix": "",
     "delete_cmd_prefix": "del ",
     "library": "var_list.py",
     "varRefreshCmd": "print(var_dic_list())"
    },
    "r": {
     "delete_cmd_postfix": ") ",
     "delete_cmd_prefix": "rm(",
     "library": "var_list.r",
     "varRefreshCmd": "cat(var_dic_list()) "
    }
   },
   "types_to_exclude": [
    "module",
    "function",
    "builtin_function_or_method",
    "instance",
    "_Feature"
   ],
   "window_display": false
  }
 },
 "nbformat": 4,
 "nbformat_minor": 4
}
