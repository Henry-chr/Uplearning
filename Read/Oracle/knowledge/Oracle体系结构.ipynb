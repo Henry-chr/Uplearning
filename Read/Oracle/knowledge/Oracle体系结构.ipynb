{
 "cells": [
  {
   "cell_type": "markdown",
   "metadata": {},
   "source": [
    "# Oracle DataBase"
   ]
  },
  {
   "cell_type": "markdown",
   "metadata": {},
   "source": [
    "![Oracle数据库](https://raw.githubusercontent.com/Henry-chr/Uplearning/main/Read/Oracle/knowledge/image/Oracle%E4%BD%93%E7%B3%BB%E7%BB%93%E6%9E%841.png)"
   ]
  },
  {
   "cell_type": "markdown",
   "metadata": {},
   "source": [
    "        Oracle DataBase由两个部分组成：\n",
    "**实例：实例是数据库启动时初始化的一组进程和内存结构**\n",
    "\n",
    "**数据库：数据库则指的是用户存储数据的一些物理文件**\n",
    "\n",
    "    实例只是暂时的，它是一组逻辑划分的内存结构和进程结构，它会随着数据库的关闭而消失。\n",
    "    数据库是真实存在的物理文件（控制文件，数据文件，日志文件等等）。\n",
    "    数据库和实例通常是一对一的，也可以是一对多如Oracle RAC。"
   ]
  },
  {
   "cell_type": "markdown",
   "metadata": {},
   "source": [
    "# Oracle工作原理"
   ]
  },
  {
   "cell_type": "markdown",
   "metadata": {},
   "source": [
    "1. 服务器启动Oracle实例\n",
    "2. 应用程序在客户端的用户进程中运行，启用Oracle网络服务驱动器与服务器建立连接；\n",
    "3. 服务器运行Oracle网络服务驱动器，建立专用的服务器进程执行用户进程；\n",
    "4. 客户端提交事务；\n",
    "5. 服务器进程获取sql语句并检查共享池中是否有相似的sql语句，如果有，服务器进程再检查用户的访问权限；否则分配新的sql共享区分析并执行sql语句；\n",
    "6. 服务器从实际的数据文件或SGA中取得所需数据；\n",
    "7. 服务器进程在SGA中更新数据，进程DBWN在特定条件下将更新过的数据块写回磁盘，进程LGWR在重做日志文件中记录事务；\n",
    "8. 如果事务成功，服务器进程发送消息到应用程序中。"
   ]
  },
  {
   "cell_type": "markdown",
   "metadata": {},
   "source": [
    "# 体系结构"
   ]
  },
  {
   "cell_type": "markdown",
   "metadata": {},
   "source": [
    "![Oracle体系结构图](https://raw.githubusercontent.com/Henry-chr/Uplearning/main/Read/Oracle/knowledge/image/Oracle%E4%BD%93%E7%B3%BB%E7%BB%93%E6%9E%842.png)"
   ]
  },
  {
   "cell_type": "markdown",
   "metadata": {},
   "source": [
    "## 用户进程"
   ]
  },
  {
   "cell_type": "markdown",
   "metadata": {},
   "source": [
    "        用户进程可以是一般的客户端软件，像Oracle的sqlplus，sql developer,或者是一些驱动程序等等都属于用户进程。"
   ]
  },
  {
   "cell_type": "markdown",
   "metadata": {},
   "source": [
    "## 服务器进程"
   ]
  },
  {
   "cell_type": "markdown",
   "metadata": {},
   "source": [
    "        当监听程序监听到客户端来了一个请求，会为其分配一个对应的服务器进程。服务器进程的主要作用就是处理连接到当前实例的用户进程的请求，对客户端发来的sql进行执行并返回执行结果。"
   ]
  },
  {
   "cell_type": "code",
   "execution_count": null,
   "metadata": {},
   "outputs": [],
   "source": []
  }
 ],
 "metadata": {
  "kernelspec": {
   "display_name": "Python 3",
   "language": "python",
   "name": "python3"
  },
  "language_info": {
   "codemirror_mode": {
    "name": "ipython",
    "version": 3
   },
   "file_extension": ".py",
   "mimetype": "text/x-python",
   "name": "python",
   "nbconvert_exporter": "python",
   "pygments_lexer": "ipython3",
   "version": "3.8.1"
  },
  "latex_envs": {
   "LaTeX_envs_menu_present": true,
   "autoclose": false,
   "autocomplete": true,
   "bibliofile": "biblio.bib",
   "cite_by": "apalike",
   "current_citInitial": 1,
   "eqLabelWithNumbers": true,
   "eqNumInitial": 1,
   "hotkeys": {
    "equation": "Ctrl-E",
    "itemize": "Ctrl-I"
   },
   "labels_anchors": false,
   "latex_user_defs": false,
   "report_style_numbering": false,
   "user_envs_cfg": false
  },
  "toc": {
   "base_numbering": 1,
   "nav_menu": {},
   "number_sections": true,
   "sideBar": true,
   "skip_h1_title": false,
   "title_cell": "Table of Contents",
   "title_sidebar": "Oracle体系结构",
   "toc_cell": false,
   "toc_position": {},
   "toc_section_display": true,
   "toc_window_display": true
  },
  "varInspector": {
   "cols": {
    "lenName": 16,
    "lenType": 16,
    "lenVar": 40
   },
   "kernels_config": {
    "python": {
     "delete_cmd_postfix": "",
     "delete_cmd_prefix": "del ",
     "library": "var_list.py",
     "varRefreshCmd": "print(var_dic_list())"
    },
    "r": {
     "delete_cmd_postfix": ") ",
     "delete_cmd_prefix": "rm(",
     "library": "var_list.r",
     "varRefreshCmd": "cat(var_dic_list()) "
    }
   },
   "types_to_exclude": [
    "module",
    "function",
    "builtin_function_or_method",
    "instance",
    "_Feature"
   ],
   "window_display": false
  }
 },
 "nbformat": 4,
 "nbformat_minor": 4
}
