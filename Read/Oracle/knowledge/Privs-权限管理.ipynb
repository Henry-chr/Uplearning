{
 "cells": [
  {
   "cell_type": "markdown",
   "metadata": {},
   "source": [
    "# Oracle用户、角色、权限"
   ]
  },
  {
   "cell_type": "markdown",
   "metadata": {},
   "source": [
    "        Oracle 的权限分为系统权限和数据对象权限，共一百多种。有一些用户需要的权限是相同的，就把这些用户归为同一类也就是角色。通过设立一些有预定权限的角色简化和明确授权操作，角色出现的动机也就是为了简化权限管理，它是权限的集合。一般做法是：系统把权限赋给角色，然后把角色赋给用户，当然也可以直接把某权限赋给用户。Oracle 也提供细粒度的权限操作，可以对表的某一列单独设置权限，可以对某用户查询某表自动增添 where 条件限制。\n",
    "        \n",
    "        ORACLE提供三种权限：Object 对象级、System 系统级、Role 角色级。权限可以授予给用户、特殊用户public（public是oracle预定义的，每个用户享有这个用户享有的权限）或角色，对管理权限而言，角色是一个工具，权限能够被授予给一个角色，角色也能被授予给另一个角色或用户。用户可以通过角色继承权限，角色的出现就是为了管理权限。权限可以被授予，也可以被撤销。"
   ]
  },
  {
   "cell_type": "markdown",
   "metadata": {},
   "source": [
    "## 用户"
   ]
  },
  {
   "cell_type": "markdown",
   "metadata": {},
   "source": [
    "|  系统视图   | 描述  |\n",
    "|  :----  | :----  |\n",
    "| SESSION_PRIVS  | 当前用户所拥有的全部权限 |\n",
    "| ROLE_SYS_PRIVS  | 角色所拥有的系统权限 |\n",
    "| DBA_SYS_PRIVS  | 授予用户和其他角色的系统权限 |\n",
    "| USER_SYS_PRIVS  | 当前用户所拥有的系统权限 |\n",
    "| SESSION_ROLES  | 当前用户被激活的角色 |\n",
    "| USER_ROLE_PRIVS  | 当前用户被授予的角色 |\n",
    "| DBA_TAB_PRIVS  | 用户拥有的对象权限 |"
   ]
  },
  {
   "cell_type": "markdown",
   "metadata": {},
   "source": [
    "## 权限"
   ]
  },
  {
   "cell_type": "code",
   "execution_count": null,
   "metadata": {},
   "outputs": [],
   "source": []
  }
 ],
 "metadata": {
  "kernelspec": {
   "display_name": "Python 3",
   "language": "python",
   "name": "python3"
  },
  "language_info": {
   "codemirror_mode": {
    "name": "ipython",
    "version": 3
   },
   "file_extension": ".py",
   "mimetype": "text/x-python",
   "name": "python",
   "nbconvert_exporter": "python",
   "pygments_lexer": "ipython3",
   "version": "3.8.1"
  },
  "latex_envs": {
   "LaTeX_envs_menu_present": true,
   "autoclose": false,
   "autocomplete": true,
   "bibliofile": "biblio.bib",
   "cite_by": "apalike",
   "current_citInitial": 1,
   "eqLabelWithNumbers": true,
   "eqNumInitial": 1,
   "hotkeys": {
    "equation": "Ctrl-E",
    "itemize": "Ctrl-I"
   },
   "labels_anchors": false,
   "latex_user_defs": false,
   "report_style_numbering": false,
   "user_envs_cfg": false
  },
  "toc": {
   "base_numbering": 1,
   "nav_menu": {},
   "number_sections": true,
   "sideBar": true,
   "skip_h1_title": false,
   "title_cell": "Table of Contents",
   "title_sidebar": "Contents",
   "toc_cell": false,
   "toc_position": {},
   "toc_section_display": true,
   "toc_window_display": true
  }
 },
 "nbformat": 4,
 "nbformat_minor": 4
}
