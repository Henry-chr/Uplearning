{
 "cells": [
  {
   "cell_type": "markdown",
   "metadata": {},
   "source": [
    "# Oracle用户、角色、权限"
   ]
  },
  {
   "cell_type": "markdown",
   "metadata": {},
   "source": [
    "        Oracle 的权限分为系统权限和数据对象权限，共一百多种。有一些用户需要的权限是相同的，就把这些用户归为同一类也就是角色。通过设立一些有预定权限的角色简化和明确授权操作，角色出现的动机也就是为了简化权限管理，它是权限的集合。一般做法是：系统把权限赋给角色，然后把角色赋给用户，当然也可以直接把某权限赋给用户。Oracle 也提供细粒度的权限操作，可以对表的某一列单独设置权限，可以对某用户查询某表自动增添 where 条件限制。\n",
    "        \n",
    "        ORACLE提供三种权限：Object 对象级、System 系统级、Role 角色级。权限可以授予给用户、特殊用户public（public是oracle预定义的，每个用户享有这个用户享有的权限）或角色，对管理权限而言，角色是一个工具，权限能够被授予给一个角色，角色也能被授予给另一个角色或用户。用户可以通过角色继承权限，角色的出现就是为了管理权限。权限可以被授予，也可以被撤销。"
   ]
  },
  {
   "cell_type": "markdown",
   "metadata": {},
   "source": [
    "## 用户"
   ]
  },
  {
   "cell_type": "markdown",
   "metadata": {},
   "source": [
    "### SYS和SYSTEM用户"
   ]
  },
  {
   "cell_type": "markdown",
   "metadata": {},
   "source": [
    "    system用户只能用normal身份登陆em。除非你对它授予了sysdba的系统权限或者syspoer系统权限。 \n",
    "    sys用户具有“SYSDBA”或者“SYSOPER”权限，登陆em也只能用这两个身份，不能用normal。\n",
    "    \n",
    "    sys存储所有oracle数据字典的基表和视图，这些基表和视图对于oracle的运行是至关重要的，由数据库自己维护，任何用户都不能手动更改。sys用户拥有dba，sysdba，sysoper等角色或权限，是oracle权限最高的用户。\n",
    "    \n",
    "    system用户存放次一级的内部数据，如oracle的一些特性或工具的管理信息。system用户拥有普通dba角色权限。"
   ]
  },
  {
   "cell_type": "markdown",
   "metadata": {},
   "source": [
    "### NORMAL、SYSDBA、SYSOPER"
   ]
  },
  {
   "cell_type": "markdown",
   "metadata": {},
   "source": [
    "\n",
    "|用户类型|描述|\n",
    "|:---- | :---- |\n",
    "|normal |普通用户,只有通过被sys授权之后才可以对数据库进行操作|\n",
    "|sysdba |拥有最高的系统权限|\n",
    "|sysoper |主要用来启动、关闭数据库，sysoper 登陆后用户是 public |"
   ]
  },
  {
   "cell_type": "markdown",
   "metadata": {},
   "source": [
    "### DBA、SYSDBA"
   ]
  },
  {
   "cell_type": "markdown",
   "metadata": {},
   "source": [
    "Oracle服务的创建过程\n",
    "* 创建实例\n",
    "* 启动实例\n",
    "* 创建数据库\n",
    "* 实例启动\n",
    "* 装载数据库\n",
    "* 打开数据库\n",
    "\n",
    "sysdba，是管理oracle实例的，它的存在不依赖于整个数据库完全启动，只要实例启动了，它就已经存在，以sysdba身份登陆，装载数据库、打开数据库只有数据库打开了，或者说整个数据库完全启动后，dba角色才有了存在的基础，dba只是个角色而已.\n",
    "\n",
    "dba是正真的role，grant后在dba_role_privs里有记录,revoke后就没有了\n",
    "对于sysdba是不会出现这个情况的，因为他不是正真的role\n",
    "sysdba登录时候需要和remote_login_passwordfile关联，可以查询v$pwfile_users,同样也可以revoke"
   ]
  },
  {
   "cell_type": "markdown",
   "metadata": {},
   "source": [
    "### 用户管理"
   ]
  },
  {
   "cell_type": "markdown",
   "metadata": {},
   "source": [
    "|  系统视图   | 描述  |\n",
    "|  :----  | :----  |\n",
    "| DBA_USERS  | 系统所有用户 |\n",
    "| DBA_ROLES  | 系统所有角色 |\n",
    "| ROLE_ROLE_PRIVS  | 授予角色的角色 |"
   ]
  },
  {
   "cell_type": "markdown",
   "metadata": {},
   "source": [
    "## 权限"
   ]
  },
  {
   "cell_type": "markdown",
   "metadata": {},
   "source": [
    "* 系统权限：系统规定用户使用数据库的权限。（系统权限是对用户而言)。\n",
    "* 对象权限：某种权限用户对其它用户的表或视图的存取权限。（是针对表或视图而言的）。"
   ]
  },
  {
   "cell_type": "markdown",
   "metadata": {},
   "source": [
    "### 系统权限管理"
   ]
  },
  {
   "cell_type": "markdown",
   "metadata": {},
   "source": [
    "#### 系统权限"
   ]
  },
  {
   "cell_type": "markdown",
   "metadata": {},
   "source": [
    "* DBA: 拥有全部特权，是系统最高权限，只有DBA才可以创建数据库结构。\n",
    "* RESOURCE:拥有Resource权限的用户只可以创建实体，不可以创建数据库结构。\n",
    "* CONNECT:拥有Connect权限的用户只可以登录Oracle，不可以创建实体，不可以创建数据库结构。"
   ]
  },
  {
   "cell_type": "markdown",
   "metadata": {},
   "source": [
    "#### 授权"
   ]
  },
  {
   "cell_type": "markdown",
   "metadata": {},
   "source": [
    "    grant connect, resource, dba to user50; //系统权限只能由DBA用户授出：sys, system\n",
    "    drop user user50 cascade;  //加上cascade则将用户连同其创建的东西全部删除\n",
    "    grant connect, resorce to user50 with admin option;  //可以传递所获权限。\n",
    "    Revoke connect, resource from user50; //系统权限回收：系统权限只能由DBA用户回收"
   ]
  },
  {
   "cell_type": "markdown",
   "metadata": {},
   "source": [
    "### 对象权限管理"
   ]
  },
  {
   "cell_type": "markdown",
   "metadata": {},
   "source": [
    "#### 对象权限"
   ]
  },
  {
   "cell_type": "markdown",
   "metadata": {},
   "source": [
    "**记录**\n",
    "* SELECT 查看\n",
    "* UPDATE 更新\n",
    "* INSERT 插入\n",
    "* DELETE 删除\n",
    "***\n",
    "**实体**\n",
    "* ALTER 更改\n",
    "* DROP 删除"
   ]
  },
  {
   "cell_type": "markdown",
   "metadata": {},
   "source": [
    "#### 授权"
   ]
  },
  {
   "cell_type": "markdown",
   "metadata": {},
   "source": [
    "    grant select, update, insert on emp to user02;\n",
    "    grant select, update on emp to user02 with grant option; // user02得到权限，并可以传递。\n",
    "    Revoke select, update on emp from user02;  //传递的权限将全部丢失。"
   ]
  },
  {
   "cell_type": "markdown",
   "metadata": {},
   "source": [
    "### 权限相关视图"
   ]
  },
  {
   "cell_type": "markdown",
   "metadata": {},
   "source": [
    "|  系统视图   | 描述  |\n",
    "|  :----  | :----  |\n",
    "| SESSION_PRIVS  | 当前用户所拥有的全部权限 |\n",
    "| ROLE_SYS_PRIVS  | 角色所拥有的系统权限 |\n",
    "| DBA_SYS_PRIVS  | 授予用户和其他角色的系统权限 |\n",
    "| USER_SYS_PRIVS  | 当前用户所拥有的系统权限 |\n",
    "| SESSION_ROLES  | 当前用户被激活的角色 |\n",
    "| USER_ROLE_PRIVS  | 当前用户被授予的角色 |\n",
    "| DBA_TAB_PRIVS  | 用户拥有的对象权限 |\n",
    "| DBA_COL_PRIVS  | 显示列级对象授权 |\n",
    "| DBA_ROLE_PRIVS  | 用户具有的角色或者角色下的有哪些用户 |\n",
    "| ROLE_TAB_PRIVS  | 角色具有的表权限 |\n",
    "| ALL_TABLES  | 当前用户可以查询的表 |\n",
    "| USER_TABLES  | 用户创建的表 |\n",
    "| ALL_TAB_PRIVE  | 当前用户可以管理的表 |\n",
    "| USER_TAB_PRIVE  | 授出权限的表 |"
   ]
  },
  {
   "cell_type": "markdown",
   "metadata": {},
   "source": [
    "## 角色"
   ]
  },
  {
   "cell_type": "markdown",
   "metadata": {},
   "source": [
    "### 何为角色"
   ]
  },
  {
   "cell_type": "markdown",
   "metadata": {},
   "source": [
    "    角色是一组权限的集合，将角色赋给一个用户，这个用户就拥有了这个角色中的所有权限。"
   ]
  },
  {
   "cell_type": "markdown",
   "metadata": {},
   "source": [
    "### 系统预定义角色"
   ]
  },
  {
   "cell_type": "markdown",
   "metadata": {},
   "source": [
    "1、CONNECT, RESOURCE, DBA\n",
    "\n",
    "    这些预定义角色主要是为了向后兼容。其主要是用于数据库管理。oracle建议用户自己设计数据库管理和安全的权限规划，而不要简单的使用这些预定角色。将来的版本中这些角色可能不会作为预定义角色。\n",
    "2、DELETE_CATALOG_ROLE， EXECUTE_CATALOG_ROLE， SELECT_CATALOG_ROLE\n",
    "\n",
    "    这些角色主要用于访问数据字典视图和包。\n",
    "3、EXP_FULL_DATABASE， IMP_FULL_DATABASE\n",
    "    \n",
    "    这两个角色用于数据导入导出工具的使用。\n",
    "4、AQ_USER_ROLE， AQ_ADMINISTRATOR_ROLE\n",
    "\n",
    "    这两个角色用于oracle高级查询功能。\n",
    "5、RECOVERY_CATALOG_OWNER\n",
    "    \n",
    "    用于创建拥有恢复库的用户。"
   ]
  }
 ],
 "metadata": {
  "kernelspec": {
   "display_name": "Python 3",
   "language": "python",
   "name": "python3"
  },
  "language_info": {
   "codemirror_mode": {
    "name": "ipython",
    "version": 3
   },
   "file_extension": ".py",
   "mimetype": "text/x-python",
   "name": "python",
   "nbconvert_exporter": "python",
   "pygments_lexer": "ipython3",
   "version": "3.8.1"
  },
  "latex_envs": {
   "LaTeX_envs_menu_present": true,
   "autoclose": false,
   "autocomplete": true,
   "bibliofile": "biblio.bib",
   "cite_by": "apalike",
   "current_citInitial": 1,
   "eqLabelWithNumbers": true,
   "eqNumInitial": 1,
   "hotkeys": {
    "equation": "Ctrl-E",
    "itemize": "Ctrl-I"
   },
   "labels_anchors": false,
   "latex_user_defs": false,
   "report_style_numbering": false,
   "user_envs_cfg": false
  },
  "toc": {
   "base_numbering": 1,
   "nav_menu": {},
   "number_sections": true,
   "sideBar": true,
   "skip_h1_title": false,
   "title_cell": "Table of Contents",
   "title_sidebar": "Contents",
   "toc_cell": false,
   "toc_position": {},
   "toc_section_display": true,
   "toc_window_display": true
  }
 },
 "nbformat": 4,
 "nbformat_minor": 4
}
