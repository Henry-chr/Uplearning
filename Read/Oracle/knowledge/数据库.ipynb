{
 "cells": [
  {
   "cell_type": "markdown",
   "metadata": {},
   "source": [
    "# 定义"
   ]
  },
  {
   "cell_type": "markdown",
   "metadata": {},
   "source": [
    "        数据库是“按照数据结构来组织、存储和管理数据的仓库”。是一个长期存储在计算机内的、有组织的、可共享的、统一管理的大量数据的集合。\n",
    "        \n",
    "        数据库是一个按数据结构来存储和管理数据的计算机软件系统。数据库的概念实际包括两层意思：\n",
    "        （1）数据库是一个实体，它是能够合理保管数据的“仓库”，用户在该“仓库”中存放要管理的事务数据，“数据”和“库”两个概念结合成为数据库。\n",
    "        （2）数据库是数据管理的新方法和技术，它能更合适的组织数据、更方便的维护数据、更严密的控制数据和更有效的利用数据。"
   ]
  },
  {
   "cell_type": "markdown",
   "metadata": {},
   "source": [
    "# 发展现状"
   ]
  },
  {
   "cell_type": "markdown",
   "metadata": {},
   "source": [
    "        在数据库的发展历史上，数据库先后经历了层次数据库、网状数据库和关系数据库等各个阶段的发展。\n",
    "        关系型数据库是目前数据库产品中最重要的一员，传统的关系型数据库可以比较好的解决管理和存储关系型数据的问题。随着云计算的发展和大数据时代的到来，越来越多的半关系型和非关系型数据需要用数据库进行存储管理，促使非关系型数据库开始出现，这类数据库更强调数据库数据的高并发读写和存储大数据，一般被称为NoSQL（Not only SQL）数据库。 "
   ]
  },
  {
   "cell_type": "markdown",
   "metadata": {},
   "source": [
    "# 数据库管理系统"
   ]
  },
  {
   "cell_type": "markdown",
   "metadata": {},
   "source": [
    "        数据库管理系统是为管理数据库而设计的电脑软件系统，一般具有存储、截取、安全保障、备份等基础功能。\n",
    "        数据库管理系统是数据库系统的核心组成部分，主要完成对数据库的操纵与管理功能，实现数据库对象的创建、数据库存储数据的查询、添加、修改与删除操作和数据库的用户管理、权限管理等，它的安全直接关系到整个数据库系统的安全。"
   ]
  },
  {
   "cell_type": "markdown",
   "metadata": {},
   "source": [
    "# 类型"
   ]
  },
  {
   "cell_type": "markdown",
   "metadata": {},
   "source": [
    "## 关系型数据库"
   ]
  },
  {
   "cell_type": "markdown",
   "metadata": {},
   "source": [
    "        关系型数据库，存储的格式可以直观地反映实体间的关系，通常和常见的表格比较相似。 在轻量或者小型的应用中，使用不同的关系型数据库对系统的性能影响不大，但是在构建大型应用时，则需要根据应用的业务需求和性能需求，选择合适的关系型数据库。关系型数据库对于结构化数据的处理更合适，更注重数据操作的事务性和一致性。\n",
    "        常见的关系型数据库有Oracle，Mysql，SqlServer等。"
   ]
  },
  {
   "cell_type": "markdown",
   "metadata": {},
   "source": [
    "## 非关系型数据库"
   ]
  },
  {
   "cell_type": "markdown",
   "metadata": {},
   "source": [
    "        NoSQL数据库，数据库结构相对简单，在大数据量下的读写性能好；能满足随时存储自定义数据格式需求，非常适用于大数据处理工作。适合追求速度和可扩展性、业务多变的应用场景，可以很好的满足这一类数据的存储。"
   ]
  },
  {
   "cell_type": "markdown",
   "metadata": {},
   "source": [
    "### 分类"
   ]
  },
  {
   "cell_type": "markdown",
   "metadata": {},
   "source": [
    "1. 键值对存储（key-value）：代表软件Redis，它的优点能够进行数据的快速查询，而缺点是需要存储数据之间的关系。\n",
    "\n",
    "2. 列存储：代表软件Hbase，它的优点是对数据能快速查询，数据存储的扩展性强。而缺点是数据库的功能有局限性。\n",
    "\n",
    "3. 文档数据库存储：代表软件MongoDB，它的优点是对数据结构要求不特别的严格。而缺点是查询性的性能不好，同时缺少一种统一查询语言。\n",
    "\n",
    "4. 图形数据库存储：代表软件InfoGrid，它的优点可以方便的利用图结构相关算法进行计算。而缺点是要想得到结果必须进行整个图的计算，而且遇到不适合的数据模型时，图形数据库很难使用。"
   ]
  },
  {
   "cell_type": "markdown",
   "metadata": {},
   "source": [
    "# 区别"
   ]
  },
  {
   "cell_type": "markdown",
   "metadata": {},
   "source": [
    "## 存储方式"
   ]
  },
  {
   "cell_type": "markdown",
   "metadata": {},
   "source": [
    "        传统的关系型数据库采用表格的储存方式， 数据以行和列的方式进行存储，要读取和查询都十分方便。\n",
    "        非关系型数据库通常以数据集的方式，大量的数据集中存储在一起。"
   ]
  },
  {
   "cell_type": "markdown",
   "metadata": {},
   "source": [
    "## 存储结构"
   ]
  },
  {
   "cell_type": "markdown",
   "metadata": {},
   "source": [
    "        关系型数据库按照结构化的方法存储数据，数据的形式和内容在存入数据之前就已经定义好了，可靠性和稳定性都比较高。一旦存入数据后，如果需要修改数据表的结构就会十分困难。\n",
    "        NoSQL数据库采用的是动态结构，对于数据类型和结构的改变非常的适应，可以根据数据存储的需要灵活的改变数据库的结构。"
   ]
  },
  {
   "cell_type": "markdown",
   "metadata": {},
   "source": [
    "## 存储规范"
   ]
  },
  {
   "cell_type": "markdown",
   "metadata": {},
   "source": [
    "        关系型数据库数据按照最小关系表的形式进行存储，数据很清晰、一目了然，随着数据表数量的增加，数据管理会越来越复杂。\n",
    "        NoSQL数据库的数据存储方式是用平面数据集的方式集中存放，基本上单个数据库都是采用单独存放的形式，对于数据的读写提供了极大的方便。"
   ]
  },
  {
   "cell_type": "markdown",
   "metadata": {},
   "source": [
    "## 扩展方式"
   ]
  },
  {
   "cell_type": "markdown",
   "metadata": {},
   "source": [
    "        扩展方式是NoSQL数据库与关系型数据库差别最大的地方。\n",
    "        关系型数据库的瓶颈出现在多张数据表的操作，提高处理能力只能选择速度更快性能更高的计算机，拓展空间有限。\n",
    "        NoSQL数据库的存储方式是分布式的，可以添加更多数据库服务器到资源池，然后由这些增加的服务器来负担数据量增加的开销。"
   ]
  },
  {
   "cell_type": "markdown",
   "metadata": {},
   "source": [
    "## 查询方式"
   ]
  },
  {
   "cell_type": "markdown",
   "metadata": {},
   "source": [
    "        关系型数据库采用结构化查询语言（即SQL）来对数据库进行查询，已获得了各个数据库厂商的支持，成为数据库行业的标准，能够支持数据库的CRUD（增加，查询，更新，删除）操作，同时也可以采用索引的方法来加快查询操作。\n",
    "        NoSQL数据库使用的是非结构化查询语言（UnQL），它以数据集（像文档）为单位来管理和操作数据，没有一个统一的标准，每个数据库厂商提供产品标准是不一样的。"
   ]
  },
  {
   "cell_type": "markdown",
   "metadata": {},
   "source": [
    "## 规范化"
   ]
  },
  {
   "cell_type": "markdown",
   "metadata": {},
   "source": [
    "        关系型数据库中，一个数据实体通常被分割成很多部分，需要对每个分割的部分进行规范化。可以利用ORM层（也就是对象关系映射）来将数据库中对象模型映射到基于SQL的关系型数据库中去以及进行不同类型系统间数据的转换。\n",
    "        NoSQL数据库则没有这方面的问题，它不需要规范化数据，它通常是在一个单独的存储单元中存入一个复杂的数据实体。"
   ]
  },
  {
   "cell_type": "markdown",
   "metadata": {},
   "source": [
    "## 事务性"
   ]
  },
  {
   "cell_type": "markdown",
   "metadata": {},
   "source": [
    "        关系型数据库强调ACID规则（原子性（Atomicity）、一致性（Consistency）、隔离性（Isolation）、持久性（Durability）），强调数据的强一致性，对于事务的操作有很好的支持。\n",
    "        NoSQL数据库强调BASE原则（基本可用（Basically Available）、软状态（Soft-state）、最终一致性（Eventual Consistency）），对于事务的操作不能很好的支持。"
   ]
  },
  {
   "cell_type": "markdown",
   "metadata": {},
   "source": [
    "## 读写性能"
   ]
  },
  {
   "cell_type": "markdown",
   "metadata": {},
   "source": [
    "        关系型数据库遇到高并发读写的时候性能就会下降的非常厉害。\n",
    "        NoSQL数据库是按key-value类型进行存储的，以数据集的方式存储的，对于大数据管理、检索、读写、分析以及可视化方面有优势。"
   ]
  }
 ],
 "metadata": {
  "kernelspec": {
   "display_name": "Python 3",
   "language": "python",
   "name": "python3"
  },
  "language_info": {
   "codemirror_mode": {
    "name": "ipython",
    "version": 3
   },
   "file_extension": ".py",
   "mimetype": "text/x-python",
   "name": "python",
   "nbconvert_exporter": "python",
   "pygments_lexer": "ipython3",
   "version": "3.8.1"
  },
  "latex_envs": {
   "LaTeX_envs_menu_present": true,
   "autoclose": false,
   "autocomplete": true,
   "bibliofile": "biblio.bib",
   "cite_by": "apalike",
   "current_citInitial": 1,
   "eqLabelWithNumbers": true,
   "eqNumInitial": 1,
   "hotkeys": {
    "equation": "Ctrl-E",
    "itemize": "Ctrl-I"
   },
   "labels_anchors": false,
   "latex_user_defs": false,
   "report_style_numbering": false,
   "user_envs_cfg": false
  },
  "toc": {
   "base_numbering": 1,
   "nav_menu": {},
   "number_sections": true,
   "sideBar": true,
   "skip_h1_title": false,
   "title_cell": "Table of Contents",
   "title_sidebar": "数据库",
   "toc_cell": false,
   "toc_position": {
    "height": "calc(100% - 180px)",
    "left": "10px",
    "top": "150px",
    "width": "384px"
   },
   "toc_section_display": true,
   "toc_window_display": true
  },
  "varInspector": {
   "cols": {
    "lenName": 16,
    "lenType": 16,
    "lenVar": 40
   },
   "kernels_config": {
    "python": {
     "delete_cmd_postfix": "",
     "delete_cmd_prefix": "del ",
     "library": "var_list.py",
     "varRefreshCmd": "print(var_dic_list())"
    },
    "r": {
     "delete_cmd_postfix": ") ",
     "delete_cmd_prefix": "rm(",
     "library": "var_list.r",
     "varRefreshCmd": "cat(var_dic_list()) "
    }
   },
   "types_to_exclude": [
    "module",
    "function",
    "builtin_function_or_method",
    "instance",
    "_Feature"
   ],
   "window_display": false
  }
 },
 "nbformat": 4,
 "nbformat_minor": 4
}
