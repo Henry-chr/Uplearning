{
 "cells": [
  {
   "cell_type": "markdown",
   "metadata": {
    "toc": true
   },
   "source": [
    "<h1>Markdown插入图片<span class=\"tocSkip\"></span></h1>\n",
    "<div class=\"toc\"><ul class=\"toc-item\"><li><span><a href=\"#插入本地图片\" data-toc-modified-id=\"插入本地图片-1\"><span class=\"toc-item-num\">1&nbsp;&nbsp;</span>插入本地图片</a></span></li><li><span><a href=\"#插入网络图片\" data-toc-modified-id=\"插入网络图片-2\"><span class=\"toc-item-num\">2&nbsp;&nbsp;</span>插入网络图片</a></span></li><li><span><a href=\"#拓展\" data-toc-modified-id=\"拓展-3\"><span class=\"toc-item-num\">3&nbsp;&nbsp;</span>拓展</a></span><ul class=\"toc-item\"><li><span><a href=\"#利用github/gitee\" data-toc-modified-id=\"利用github/gitee-3.1\"><span class=\"toc-item-num\">3.1&nbsp;&nbsp;</span>利用github/gitee</a></span></li><li><span><a href=\"#利用base64\" data-toc-modified-id=\"利用base64-3.2\"><span class=\"toc-item-num\">3.2&nbsp;&nbsp;</span>利用base64</a></span></li></ul></li></ul></div>"
   ]
  },
  {
   "cell_type": "markdown",
   "metadata": {},
   "source": [
    "## 插入本地图片"
   ]
  },
  {
   "cell_type": "markdown",
   "metadata": {},
   "source": [
    "```\n",
    "![avatar](/home/picture/1.png)\n",
    "```\n",
    "\n",
    "    只需要在小括号中填入图片的位置路径即可，支持绝对路径和相对路径。\n",
    "    \n",
    ">不灵活不好分享，本地图片的路径更改或丢失都会造成markdown文件调不出图。"
   ]
  },
  {
   "cell_type": "markdown",
   "metadata": {},
   "source": [
    "## 插入网络图片"
   ]
  },
  {
   "cell_type": "markdown",
   "metadata": {},
   "source": [
    "```\n",
    "![avatar](http://baidu.com/pic/doge.png)\n",
    "```\n",
    "    只需要在小括号中填入图片的网络链接即可。\n",
    "\n",
    ">将图片存在网络服务器上，非常依赖网络。"
   ]
  },
  {
   "cell_type": "markdown",
   "metadata": {},
   "source": [
    "## 拓展"
   ]
  },
  {
   "cell_type": "markdown",
   "metadata": {},
   "source": [
    "### 利用github/gitee"
   ]
  },
  {
   "cell_type": "markdown",
   "metadata": {},
   "source": [
    "1. 将markdown需要用的图片放到gitee仓库中，发布到gitee上\n",
    "2. 通过gitee仓库访问图片\n",
    "3. gitee点击**原始数据**，github点击**Download**\n",
    "- gitee\n",
    "![原始数据](https://gitee.com/henry-chr/Uplearning/raw/main/Read/Oracle/knowledge/image/Markdown%E6%8F%92%E5%85%A5%E5%9B%BE%E7%89%87-gitee.png)\n",
    "- github\n",
    "![Download](https://gitee.com/henry-chr/Uplearning/raw/main/Read/Oracle/knowledge/image/Markdown%E6%8F%92%E5%85%A5%E5%9B%BE%E7%89%87-github.png)\n",
    "4. 复制地址栏地址，在Markdown中引入\n",
    "```\n",
    "![avatar](http://baidu.com/pic/doge.png)\n",
    "```"
   ]
  },
  {
   "cell_type": "markdown",
   "metadata": {},
   "source": [
    "### 利用base64"
   ]
  },
  {
   "cell_type": "markdown",
   "metadata": {},
   "source": [
    "1. 将图片转换为 base64 图片代码\n",
    "\n",
    "    打开 chrome 浏览器，将图片拖入浏览器中，打开调试面板（F12），在 Sources 栏下即可看到该图片的 base64编码 字符串。\n",
    "    \n",
    "<video id=\"video\" controls=\"\" preload=\"none\" poster=\"http://om2bks7xs.bkt.clouddn.com/2017-08-26-Markdown-Advance-Video.jpg\">\n",
    "      <source id=\"mp4\" src=\"E:\\GitHub repositories\\Uplearning\\Read\\Oracle\\knowledge\\Image\\获取图片的base64编码.mp4\" type=\"video/mp4\">\n",
    "      </video>\n",
    "\n",
    "<video src=\"E:\\GitHub repositories\\Uplearning\\Read\\Oracle\\knowledge\\Image\\获取图片的base64编码.mp4\" width=\"320\" height=\"240\" controls=\"controls\">\n",
    "Your browser does not support the video tag.\n",
    "</video>\n",
    "\n",
    "2. 将 base64 图片代码放在变量中\n",
    "    \n",
    "3. 在文中需要使用图片的时候，用以下的方式调用\n",
    "```\n",
    "![图片描述随意][第二步的变量名]\n",
    "![avatar](PNG_ID)\n",
    "\n",
    "```\n"
   ]
  },
  {
   "cell_type": "code",
   "execution_count": null,
   "metadata": {},
   "outputs": [],
   "source": []
  },
  {
   "attachments": {},
   "cell_type": "markdown",
   "metadata": {},
   "source": [
    "[service_life]:data:image/png;base64,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\n",
    "![service life image][service_life]"
   ]
  },
  {
   "cell_type": "code",
   "execution_count": null,
   "metadata": {},
   "outputs": [],
   "source": []
  }
 ],
 "metadata": {
  "kernelspec": {
   "display_name": "Python 3",
   "language": "python",
   "name": "python3"
  },
  "language_info": {
   "codemirror_mode": {
    "name": "ipython",
    "version": 3
   },
   "file_extension": ".py",
   "mimetype": "text/x-python",
   "name": "python",
   "nbconvert_exporter": "python",
   "pygments_lexer": "ipython3",
   "version": "3.8.1"
  },
  "latex_envs": {
   "LaTeX_envs_menu_present": true,
   "autoclose": false,
   "autocomplete": true,
   "bibliofile": "biblio.bib",
   "cite_by": "apalike",
   "current_citInitial": 1,
   "eqLabelWithNumbers": true,
   "eqNumInitial": 1,
   "hotkeys": {
    "equation": "Ctrl-E",
    "itemize": "Ctrl-I"
   },
   "labels_anchors": false,
   "latex_user_defs": false,
   "report_style_numbering": false,
   "user_envs_cfg": false
  },
  "toc": {
   "base_numbering": 1,
   "nav_menu": {},
   "number_sections": true,
   "sideBar": true,
   "skip_h1_title": false,
   "title_cell": "Markdown插入图片",
   "title_sidebar": "Markdown插入图片",
   "toc_cell": true,
   "toc_position": {},
   "toc_section_display": true,
   "toc_window_display": true
  },
  "varInspector": {
   "cols": {
    "lenName": 16,
    "lenType": 16,
    "lenVar": 40
   },
   "kernels_config": {
    "python": {
     "delete_cmd_postfix": "",
     "delete_cmd_prefix": "del ",
     "library": "var_list.py",
     "varRefreshCmd": "print(var_dic_list())"
    },
    "r": {
     "delete_cmd_postfix": ") ",
     "delete_cmd_prefix": "rm(",
     "library": "var_list.r",
     "varRefreshCmd": "cat(var_dic_list()) "
    }
   },
   "types_to_exclude": [
    "module",
    "function",
    "builtin_function_or_method",
    "instance",
    "_Feature"
   ],
   "window_display": false
  }
 },
 "nbformat": 4,
 "nbformat_minor": 4
}
