{
 "cells": [
  {
   "cell_type": "markdown",
   "metadata": {},
   "source": [
    "# Oracle优化器"
   ]
  },
  {
   "cell_type": "markdown",
   "metadata": {},
   "source": [
    "        优化器（Optimizer）是Oracle中内置的一个核心子系统。优化器的目的是按照一定的判断原则来得到它认为的目标SQL在当前模式下最高效的执行路径（Access Path）。\n",
    "        Oracle数据库的优化器分为RBO和CBO两种。RBO（Rule-Based Optimizer）翻译过来是基于规则的优化器，CBO（Cost-Based Optimizer）翻译过来是基于成本的优化器。\n",
    "        优化器的作用简单说就是输入经过解析后的目标SQL，输出该目标SQL的执行计划。"
   ]
  },
  {
   "cell_type": "markdown",
   "metadata": {},
   "source": [
    "## 基于规则的优化器"
   ]
  },
  {
   "cell_type": "markdown",
   "metadata": {},
   "source": [
    "        基于规则的优化器（RBO）通过编码在Oracle数据库中的一系列固定的规则，来决定目标SQL的执行计划。Oracle事先给各种类型的执行路径定一个等级，从1到15，等级1对应执行路径的执行效率最高，等级15对应执行路径的执行效率最低。在决定目标SQL的执行计划时，RBO会从该SQL的诸多执行路径中选择一条等级最低的执行路径来作为其执行计划。\n",
    "        RBO中等级1对应的执行路径时“single row by rowid（通过rowID来访问单行数据）”，等级15所对应的执行路径时“full table scan（全表扫描）”。"
   ]
  },
  {
   "cell_type": "markdown",
   "metadata": {},
   "source": [
    "**RBO的缺陷**\n",
    "- RBO的执行计划很难调整\n",
    "- 目标SQL的写法及各个对象在该SQL文本中出现的先后顺序都会影响执行计划\n",
    "- Oracle数据中的很多新特性、功能，均不支持RBO\n",
    "- 没有考虑目标SQL所涉及对象的实际数据量、"
   ]
  },
  {
   "cell_type": "markdown",
   "metadata": {},
   "source": [
    "**以下情形Oracle不会选择RBO**\n",
    "- 目标SQL中涉及的对象有IOT（Index Organized Table）\n",
    "- 目标SQL中涉及的对象有分区表\n",
    "- 使用了并行查询或者并行DML\n",
    "- 使用了星型连接\n",
    "- 使用了哈希连接\n",
    "- 使用了索引快速全扫描\n",
    "- 使用了函数索引\n",
    "- 使用Hint"
   ]
  },
  {
   "cell_type": "markdown",
   "metadata": {},
   "source": [
    "**RBO执行计划的调整**\n",
    "- 等价改写SQL\n",
    "        Number或Date类型的字段加上0,Varchar类型拼接上空字符'',使本来走索引的现在不走索引，对于多表连接的甚至可以影响表连接的顺序\n",
    "- 如果出现多条等级值相同的执行路径，改变目标SQL中涉及相关对象数据字典缓存（Data Dictionary Cache）的缓存顺序\n",
    "- 如果出现多条等级值相同的执行路径，改变目标SQL中涉及相关对象在SQL文本中出现的先后顺序"
   ]
  },
  {
   "cell_type": "markdown",
   "metadata": {},
   "source": [
    "## 基于成本的优化器"
   ]
  },
  {
   "cell_type": "markdown",
   "metadata": {},
   "source": []
  }
 ],
 "metadata": {
  "kernelspec": {
   "display_name": "Python 3",
   "language": "python",
   "name": "python3"
  },
  "language_info": {
   "codemirror_mode": {
    "name": "ipython",
    "version": 3
   },
   "file_extension": ".py",
   "mimetype": "text/x-python",
   "name": "python",
   "nbconvert_exporter": "python",
   "pygments_lexer": "ipython3",
   "version": "3.8.1"
  },
  "latex_envs": {
   "LaTeX_envs_menu_present": true,
   "autoclose": false,
   "autocomplete": true,
   "bibliofile": "biblio.bib",
   "cite_by": "apalike",
   "current_citInitial": 1,
   "eqLabelWithNumbers": true,
   "eqNumInitial": 1,
   "hotkeys": {
    "equation": "Ctrl-E",
    "itemize": "Ctrl-I"
   },
   "labels_anchors": false,
   "latex_user_defs": false,
   "report_style_numbering": false,
   "user_envs_cfg": false
  },
  "toc": {
   "base_numbering": 1,
   "nav_menu": {},
   "number_sections": true,
   "sideBar": true,
   "skip_h1_title": false,
   "title_cell": "Table of Contents",
   "title_sidebar": "Contents",
   "toc_cell": false,
   "toc_position": {},
   "toc_section_display": true,
   "toc_window_display": true
  }
 },
 "nbformat": 4,
 "nbformat_minor": 4
}
