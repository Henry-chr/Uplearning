{
 "cells": [
  {
   "cell_type": "markdown",
   "metadata": {},
   "source": [
    "# 优化器的模式"
   ]
  },
  {
   "cell_type": "markdown",
   "metadata": {},
   "source": [
    "        优化器的模式用户决定Oracle解析目标SQL时所用优化器的类型，以及决定使用CBO时计算成本的侧重点。优化器的模式不同，CBO计算成本值的方法也不同。\n",
    "**优化器模式参数（OPTIMIZER_MODE）**\n",
    "\n",
    "\n",
    "1、RULE\n",
    "\n",
    "        用RBO来解析目标SQL。\n",
    "2、CHOOSE\n",
    "\n",
    "        Oracle在解析目标SQL时，如果有一个表对象有统计信息就用CBO，否则用RBO。\n",
    "3、FIRST_ROWS_n(n= 10, 100, 1000)\n",
    "    \n",
    "        Oracle会使用CBO解析目标SQL，在计算成本值时的侧重点在于以最快的响应速度返回头n条记录。\n",
    "4、FIRST_ROWS\n",
    "\n",
    "        Oracle在解析目标SQL时会联合使用CBO和RBO。解析时采用CBO，侧重点在于以最快的响应速度返回记录；当出现一些特定的情况时，会用RBO中的一些内置规则来选取执行计划而不考虑成本。不如通过使用索引来避免排序。\n",
    "5、ALL_ROWS\n",
    "\n",
    "        Oracle用CBO解析目标SQL，此时计算成本值时的侧重点在于最佳的吞吐量（即最小的系统I/O和CPU资源的消耗量）"
   ]
  },
  {
   "cell_type": "markdown",
   "metadata": {},
   "source": [
    "# 结果集（Row Source）"
   ]
  },
  {
   "cell_type": "markdown",
   "metadata": {},
   "source": [
    "        结果集是指目标SQL执行计划的执行步骤对应的输出结果集。"
   ]
  },
  {
   "cell_type": "markdown",
   "metadata": {},
   "source": [
    "# 访问数据的方法"
   ]
  },
  {
   "cell_type": "markdown",
   "metadata": {},
   "source": [
    "## 访问表的方法"
   ]
  },
  {
   "cell_type": "markdown",
   "metadata": {},
   "source": [
    "### 全表扫描"
   ]
  },
  {
   "cell_type": "markdown",
   "metadata": {},
   "source": [
    "        全表扫描是指Oracle在访问目标表里的数据时，会从该表所占用的第一个区（EXTENT）的第一个块（BLOCK）开始扫描，一直扫描到该表的高水位线（HWM,High Water Mark），这段范围内所有的数据块Oracle都必须读到。Oracle会对这期间读到的所有数据施加目标SQL的where条件过滤，最后返回满足要求的数据。\n",
    "        Oracle在做全表扫描操作时会使用多块读，在目标表数据量不大时执行效率是非常高的。全表扫描最大的问题是执行时间不稳定、不可控，会随着目标表数据量的递增而递增。\n",
    "        高水位线特性的副作用：即使DELETE删光了目标表里的所有数据，高水位线还是会在原来的位置，全表扫描的时候还是会扫描高水位线下所有的数据块。"
   ]
  },
  {
   "cell_type": "markdown",
   "metadata": {},
   "source": [
    "### ROWID扫描"
   ]
  },
  {
   "cell_type": "markdown",
   "metadata": {},
   "source": [
    "        ROWID表示的是Oracle中数据行记录所在的物理存储位置，同数据块中的记录一一对应。Oracle通过ROWID去定位并访问数据的方法叫ROWID扫描。\n",
    "**ROWID的两层含义**\n",
    "\n",
    "    1、根据SQL语句中输入的ROWID值直接去访问对应的行记录\n",
    "    2、通过访问相关索引，再根据索引得到的ROWID访问数据"
   ]
  },
  {
   "cell_type": "markdown",
   "metadata": {},
   "source": [
    "> 拓展DBMS_ROWID包\n",
    "\n",
    "        1、根据给定参数返回一个rowid\n",
    "```\n",
    "FUNCTION rowid_create(rowid_type    IN NUMBER,--rowid类型，0：restricted，1：extended\n",
    "                      object_number IN NUMBER,--对象id\n",
    "                      relative_fno  IN NUMBER,--关联文件\n",
    "                      block_number  IN NUMBER,--数据块id\n",
    "                      row_number    IN NUMBER)--行号 \n",
    "                      RETURN ROWID;\n",
    "```\n",
    "        2、根据rowid返回相关参数\n",
    "```\n",
    "PROCEDURE rowid_info(rowid_in      IN  ROWID,--rowid\n",
    "                     rowid_type    OUT NUMBER,--rowid类型\n",
    "                     object_number OUT NUMBER,--对象id\n",
    "                     relative_fno  OUT NUMBER,--相关文件\n",
    "                     block_number  OUT NUMBER,--数据块id\n",
    "                     row_number    OUT NUMBER,--行号\n",
    "                     ts_type_in    IN VARCHAR2 DEFAULT 'SMALLFILE');--表空间类型，BIGFILE：大文件表空间，SMALLFILE：传统表空间\n",
    "```\n",
    "        3、通过rowid返回rowid类型\n",
    "```\n",
    "function rowid_type(row_id IN rowid)--rowid\n",
    "                        return number;\n",
    "```\n",
    "        4、通过rowid提取数据文件编号\n",
    "```\n",
    "function rowid_object(row_id IN rowid)--rowid\n",
    "                        return number;\n",
    "```\n",
    "        5、通过rowid提取相关文件编号\n",
    "```\n",
    "FUNCTION rowid_relative_fno(row_id     IN ROWID,--rowid\n",
    "                            ts_type_in IN VARCHAR2 DEFAULT 'SMALLFILE')--表空间类型\n",
    "  RETURN NUMBER;\n",
    "```\n",
    "        6、通过rowid提取数据块编号\n",
    "```\n",
    "FUNCTION rowid_block_number(row_id     IN ROWID,--rowid\n",
    "                            ts_type_in IN VARCHAR2 DEFAULT 'SMALLFILE')--表空间类型\n",
    "  RETURN NUMBER;\n",
    "```\n",
    "        7、通过rowid提取行号\n",
    "```\n",
    "function rowid_row_number(row_id IN rowid)--rowid\n",
    "                        return number;\n",
    "```\n",
    "        8、通过rowid和给定表，提取相关文件编号\n",
    "```\n",
    "FUNCTION rowid_to_absolute_fno(row_id      IN ROWID,--rowid\n",
    "                               schema_name IN VARCHAR2,--拥有者\n",
    "                               object_name IN VARCHAR2) --对象名\n",
    "                               RETURN NUMBER;\n",
    "```\n",
    "        9、转换一个restricted rowid为一个extended rowid\n",
    "```\n",
    "※ 如果原始的rowid存储在列中，转换的 就是internal类型；\n",
    "※ 如果原始的rowid是以字符串形式存储的，那转换的就是external类型\n",
    "FUNCTION rowid_to_extended(old_rowid       IN ROWID,--rowid\n",
    "                           schema_name     IN VARCHAR2,--拥有者\n",
    "                           object_name     IN VARCHAR2,--对象名\n",
    "                           conversion_type IN INTEGER)--转换类型，0：转换restricted internal rowid为extended格式\n",
    "                                                      --转换类型，1：转换restricted external rowid为extended格式\n",
    "```\n",
    "        10、转换一个exteneded的rowid为一个restricted的rowid\n",
    "```\n",
    "※ restricted的rowid格式为BBBBBBB.RRRR.FFFFF, \n",
    "※ BBBBBBB 代表block\n",
    "※ RRRR 代表在block中的行号，从0开始\n",
    "※ FFFFF 代表文件号。\n",
    "※ 这个包可以使用rowid或者rowid转换类型（ROWID_CONVERT_INTERNAL (0)和ROWID_CONVERT_EXTERNAL (1)）\n",
    "FUNCTION rowid_to_restricted(old_rowid       IN ROWID,--rowid\n",
    "                             conversion_type IN INTEGER)--rowid_convert_internal  := 0;\n",
    "                                                        --rowid_convert_external  := 1;\n",
    "                             RETURN ROWID;\n",
    "```\n",
    "        11、验证rowid 有效性\n",
    "```\n",
    "FUNCTION rowid_verify(rowid_in        IN ROWID,--rowid\n",
    "                      schema_name     IN VARCHAR2,--拥有者\n",
    "                      object_name     IN VARCHAR2,--对象名\n",
    "                      conversion_type IN INTEGER)--rowid_convert_internal := 0;\n",
    "                                                 --rowid_convert_external := 1;\n",
    "                      RETURN NUMBER;\n",
    "```"
   ]
  },
  {
   "cell_type": "markdown",
   "metadata": {},
   "source": []
  }
 ],
 "metadata": {
  "kernelspec": {
   "display_name": "Python 3",
   "language": "python",
   "name": "python3"
  },
  "language_info": {
   "codemirror_mode": {
    "name": "ipython",
    "version": 3
   },
   "file_extension": ".py",
   "mimetype": "text/x-python",
   "name": "python",
   "nbconvert_exporter": "python",
   "pygments_lexer": "ipython3",
   "version": "3.8.1"
  },
  "latex_envs": {
   "LaTeX_envs_menu_present": true,
   "autoclose": false,
   "autocomplete": true,
   "bibliofile": "biblio.bib",
   "cite_by": "apalike",
   "current_citInitial": 1,
   "eqLabelWithNumbers": true,
   "eqNumInitial": 1,
   "hotkeys": {
    "equation": "Ctrl-E",
    "itemize": "Ctrl-I"
   },
   "labels_anchors": false,
   "latex_user_defs": false,
   "report_style_numbering": false,
   "user_envs_cfg": false
  },
  "toc": {
   "base_numbering": 1,
   "nav_menu": {},
   "number_sections": true,
   "sideBar": true,
   "skip_h1_title": false,
   "title_cell": "优化器",
   "title_sidebar": "优化器的基础知识",
   "toc_cell": false,
   "toc_position": {
    "height": "calc(100% - 180px)",
    "left": "10px",
    "top": "150px",
    "width": "320px"
   },
   "toc_section_display": true,
   "toc_window_display": true
  }
 },
 "nbformat": 4,
 "nbformat_minor": 4
}
