{
 "cells": [
  {
   "cell_type": "markdown",
   "metadata": {
    "toc": true
   },
   "source": [
    "<h1>Markdown插入图片<span class=\"tocSkip\"></span></h1>\n",
    "<div class=\"toc\"><ul class=\"toc-item\"><li><span><a href=\"#插入本地图片\" data-toc-modified-id=\"插入本地图片-1\"><span class=\"toc-item-num\">1&nbsp;&nbsp;</span>插入本地图片</a></span></li><li><span><a href=\"#插入网络图片\" data-toc-modified-id=\"插入网络图片-2\"><span class=\"toc-item-num\">2&nbsp;&nbsp;</span>插入网络图片</a></span></li><li><span><a href=\"#拓展\" data-toc-modified-id=\"拓展-3\"><span class=\"toc-item-num\">3&nbsp;&nbsp;</span>拓展</a></span><ul class=\"toc-item\"><li><span><a href=\"#利用github/gitee\" data-toc-modified-id=\"利用github/gitee-3.1\"><span class=\"toc-item-num\">3.1&nbsp;&nbsp;</span>利用github/gitee</a></span></li><li><span><a href=\"#利用base64\" data-toc-modified-id=\"利用base64-3.2\"><span class=\"toc-item-num\">3.2&nbsp;&nbsp;</span>利用base64</a></span></li></ul></li></ul></div>"
   ]
  },
  {
   "cell_type": "markdown",
   "metadata": {},
   "source": [
    "## 插入本地图片"
   ]
  },
  {
   "cell_type": "markdown",
   "metadata": {},
   "source": [
    "```\n",
    "![avatar](/home/picture/1.png)\n",
    "```\n",
    "\n",
    "    只需要在小括号中填入图片的位置路径即可，支持绝对路径和相对路径。\n",
    "    \n",
    ">不灵活不好分享，本地图片的路径更改或丢失都会造成markdown文件调不出图。"
   ]
  },
  {
   "cell_type": "markdown",
   "metadata": {},
   "source": [
    "## 插入网络图片"
   ]
  },
  {
   "cell_type": "markdown",
   "metadata": {},
   "source": [
    "```\n",
    "![avatar](http://baidu.com/pic/doge.png)\n",
    "```\n",
    "    只需要在小括号中填入图片的网络链接即可。\n",
    "\n",
    ">将图片存在网络服务器上，非常依赖网络。"
   ]
  },
  {
   "cell_type": "markdown",
   "metadata": {},
   "source": [
    "## 拓展"
   ]
  },
  {
   "cell_type": "markdown",
   "metadata": {},
   "source": [
    "### 利用github/gitee"
   ]
  },
  {
   "cell_type": "markdown",
   "metadata": {},
   "source": [
    "1. 将markdown需要用的图片放到gitee仓库中，发布到gitee上\n",
    "2. 通过gitee仓库访问图片\n",
    "3. gitee点击**原始数据**，github点击**Download**\n",
    "- gitee\n",
    "![原始数据](https://gitee.com/henry-chr/Uplearning/raw/main/Read/Oracle/knowledge/image/Markdown%E6%8F%92%E5%85%A5%E5%9B%BE%E7%89%87-gitee.png)\n",
    "- github\n",
    "![Download](https://gitee.com/henry-chr/Uplearning/raw/main/Read/Oracle/knowledge/image/Markdown%E6%8F%92%E5%85%A5%E5%9B%BE%E7%89%87-github.png)\n",
    "4. 复制地址栏地址，在Markdown中引入\n",
    "```\n",
    "![avatar](http://baidu.com/pic/doge.png)\n",
    "```"
   ]
  },
  {
   "cell_type": "markdown",
   "metadata": {},
   "source": [
    "### 利用base64"
   ]
  },
  {
   "cell_type": "markdown",
   "metadata": {},
   "source": [
    "1. 将图片转换为 base64 图片代码\n",
    "\n",
    "    打开 chrome 浏览器，将图片拖入浏览器中，打开调试面板（F12），在 Sources 栏下即可看到该图片的 base64编码 字符串。\n",
    "\n",
    "![获取base64 图片代码](https://gitee.com/henry-chr/Uplearning/raw/main/Read/Oracle/knowledge/image/%E8%8E%B7%E5%8F%96%E5%9B%BE%E7%89%87%E7%9A%84base64%E7%BC%96%E7%A0%81.png)\n",
    "\n",
    "2. 将 base64 图片代码放在变量中\n",
    "![base64 图片代码放在变量中](https://gitee.com/henry-chr/Uplearning/raw/main/Read/Oracle/knowledge/image/base64%E5%9B%BE%E7%89%87%E4%BB%A3%E7%A0%81%E6%94%BE%E5%9C%A8%E5%8F%98%E9%87%8F%E4%B8%AD.png)\n",
    "    \n",
    "3. 在文中需要使用图片的时候，用以下的方式调用\n",
    "```\n",
    "![图片描述随意][第二步的变量名]\n",
    "![avatar](PNG_ID)\n",
    "\n",
    "```\n"
   ]
  }
 ],
 "metadata": {
  "kernelspec": {
   "display_name": "Python 3",
   "language": "python",
   "name": "python3"
  },
  "language_info": {
   "codemirror_mode": {
    "name": "ipython",
    "version": 3
   },
   "file_extension": ".py",
   "mimetype": "text/x-python",
   "name": "python",
   "nbconvert_exporter": "python",
   "pygments_lexer": "ipython3",
   "version": "3.8.1"
  },
  "latex_envs": {
   "LaTeX_envs_menu_present": true,
   "autoclose": false,
   "autocomplete": true,
   "bibliofile": "biblio.bib",
   "cite_by": "apalike",
   "current_citInitial": 1,
   "eqLabelWithNumbers": true,
   "eqNumInitial": 1,
   "hotkeys": {
    "equation": "Ctrl-E",
    "itemize": "Ctrl-I"
   },
   "labels_anchors": false,
   "latex_user_defs": false,
   "report_style_numbering": false,
   "user_envs_cfg": false
  },
  "toc": {
   "base_numbering": 1,
   "nav_menu": {},
   "number_sections": true,
   "sideBar": true,
   "skip_h1_title": false,
   "title_cell": "Markdown插入图片",
   "title_sidebar": "Markdown插入图片",
   "toc_cell": true,
   "toc_position": {},
   "toc_section_display": true,
   "toc_window_display": true
  },
  "varInspector": {
   "cols": {
    "lenName": 16,
    "lenType": 16,
    "lenVar": 40
   },
   "kernels_config": {
    "python": {
     "delete_cmd_postfix": "",
     "delete_cmd_prefix": "del ",
     "library": "var_list.py",
     "varRefreshCmd": "print(var_dic_list())"
    },
    "r": {
     "delete_cmd_postfix": ") ",
     "delete_cmd_prefix": "rm(",
     "library": "var_list.r",
     "varRefreshCmd": "cat(var_dic_list()) "
    }
   },
   "types_to_exclude": [
    "module",
    "function",
    "builtin_function_or_method",
    "instance",
    "_Feature"
   ],
   "window_display": false
  }
 },
 "nbformat": 4,
 "nbformat_minor": 4
}
