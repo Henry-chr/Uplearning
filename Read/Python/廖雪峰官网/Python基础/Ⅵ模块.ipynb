{
 "cells": [
  {
   "cell_type": "markdown",
   "id": "03f5d9de-c9e3-4e5d-b2f6-904127afd560",
   "metadata": {},
   "source": [
    "## 简介"
   ]
  },
  {
   "cell_type": "markdown",
   "id": "d6bb9cff-41bc-4552-9b77-de7fdbae39ae",
   "metadata": {},
   "source": [
    "一般情况下我们定义的方法和变量会随着Python解释器的退出而消失，因此我们通常把自己定义的函数和变量存放在以.py结尾的文件中供其他系统使用，这些文件被称为模块。\n",
    "\n",
    "模块的好处\n",
    "    \n",
    "    1. 可以大大提高了代码的可维护性。\n",
    "    2. 可以避免函数名和变量名冲突。\n",
    "    \n",
    "创建模块注意事项：\n",
    "\n",
    "    1. 模块名要遵循Python变量命名规范，不要使用中文、特殊字符；\n",
    "    2. 模块名不要和系统模块名冲突"
   ]
  },
  {
   "cell_type": "markdown",
   "id": "8ace8540-50f5-4798-b049-6854f421a59c",
   "metadata": {},
   "source": [
    "## 导入模块"
   ]
  },
  {
   "cell_type": "markdown",
   "id": "58cd5e00-3e28-4b10-b863-03bb740548c6",
   "metadata": {},
   "source": [
    "### import"
   ]
  },
  {
   "cell_type": "markdown",
   "id": "ddad7624-6115-47a6-a990-4d817d27cc6a",
   "metadata": {},
   "source": [
    "导入当前搜索路径的模块\n",
    "\n",
    "搜索路径是一个解释器会先进行搜索的所有目录的列表，解释器依次从这些目录中去寻找所引入的模块。可以通过sys.path获取"
   ]
  },
  {
   "cell_type": "markdown",
   "id": "7ed9ef8a-8573-4aa7-a758-ed82499ea82c",
   "metadata": {},
   "source": [
    "### form ... import"
   ]
  },
  {
   "cell_type": "markdown",
   "id": "14d7f28f-6e2c-4eea-ae58-f8e4a3c05c96",
   "metadata": {},
   "source": [
    "从模块中导入一个指定的部分到当前命名空间中"
   ]
  },
  {
   "cell_type": "markdown",
   "id": "4c6f6f1f-2ca7-4717-87f1-79b21fccab20",
   "metadata": {},
   "source": [
    "## 模块属性"
   ]
  },
  {
   "cell_type": "markdown",
   "id": "114603cc-7917-4a63-b90b-e6ed71a35042",
   "metadata": {},
   "source": [
    "### __NAME__属性"
   ]
  },
  {
   "cell_type": "markdown",
   "id": "7830dd83-bb64-42d5-923e-7cf636ba8c6e",
   "metadata": {},
   "source": [
    "一个模块被另一个程序第一次引入时，其主程序将运行。\n",
    "\n",
    "如果我们想在模块被引入时，模块中的某一程序块不执行，我们可以用__name__属性来使该程序块仅在该模块自身运行时执行。\n",
    "\n",
    "每个模块都有一个__name__属性，当其值是'__main__'时，表明该模块自身在运行，否则是被引入。"
   ]
  },
  {
   "cell_type": "markdown",
   "id": "2ee6ccaa-6e36-46f4-a8f4-20f2eda0db42",
   "metadata": {},
   "source": [
    "### dir() 函数"
   ]
  },
  {
   "cell_type": "markdown",
   "id": "99cf4768-e19d-41be-91aa-0211d082a55e",
   "metadata": {},
   "source": [
    "找到模块内定义的所有名称，以一个字符串列表的形式返回"
   ]
  },
  {
   "cell_type": "markdown",
   "id": "5f3fec7d-a183-4dc1-871f-0844a5b0d420",
   "metadata": {},
   "source": [
    "## 公有、私有"
   ]
  },
  {
   "cell_type": "markdown",
   "id": "5eb72407-7898-484f-a1ed-26d60dd959d8",
   "metadata": {},
   "source": [
    "模块中正常的函数和变量都是公开的，可以被直接使用。\n",
    "\n",
    "以左右双下划线(__abc__)格式命名的变量为特殊变量，可以被直接引用，但是有特殊用途。\n",
    "\n",
    "以单下划线(_abc)或双下划线(__abc)格式命名的变量和函数是非公开的，不应该被直接引用。"
   ]
  },
  {
   "cell_type": "code",
   "execution_count": null,
   "id": "6f22db98-6135-46f1-99d2-c755b6287ead",
   "metadata": {},
   "outputs": [],
   "source": []
  }
 ],
 "metadata": {
  "kernelspec": {
   "display_name": "Python 3",
   "language": "python",
   "name": "python3"
  },
  "language_info": {
   "codemirror_mode": {
    "name": "ipython",
    "version": 3
   },
   "file_extension": ".py",
   "mimetype": "text/x-python",
   "name": "python",
   "nbconvert_exporter": "python",
   "pygments_lexer": "ipython3",
   "version": "3.9.5"
  }
 },
 "nbformat": 4,
 "nbformat_minor": 5
}
