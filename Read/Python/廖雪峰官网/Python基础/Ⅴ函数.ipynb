{
 "cells": [
  {
   "cell_type": "markdown",
   "id": "f3e173d0-535a-425f-8c37-a33bd67db911",
   "metadata": {},
   "source": [
    "## 简介"
   ]
  },
  {
   "cell_type": "markdown",
   "id": "6c0c5208-d2d9-46f2-a1e6-c67534f48a49",
   "metadata": {},
   "source": [
    "函数是组织好的，可重复使用的，用来实现单一，或相关联功能的代码段。\n",
    "\n",
    "函数能提高应用的模块性和代码的重复利用率。"
   ]
  },
  {
   "cell_type": "markdown",
   "id": "3829232b-39f0-4abf-8543-8a7c8417a3b7",
   "metadata": {},
   "source": [
    "## 内置函数"
   ]
  },
  {
   "cell_type": "markdown",
   "id": "f4c6b206-9c14-4fd5-9b7f-a8d4a3fc6d9f",
   "metadata": {},
   "source": [
    "Python有很多内置函数可以供开发者直接使用。\n",
    "\n",
    "[Python官方文档](https://docs.python.org/3/library/functions.html)\n",
    "\n",
    "也可以在交互式命令行通过help(函数名)查看函数的帮助信息。"
   ]
  },
  {
   "cell_type": "markdown",
   "id": "088a2a3d-9ce0-4dfb-90fa-eefda7817ae0",
   "metadata": {},
   "source": [
    "## 自定义函数"
   ]
  },
  {
   "cell_type": "markdown",
   "id": "521795ff-4c09-406a-8a3c-09f76d07d7d1",
   "metadata": {},
   "source": [
    "### 定义函数"
   ]
  },
  {
   "cell_type": "markdown",
   "id": "0f48b285-b016-421c-a943-72a156304e9f",
   "metadata": {},
   "source": [
    "自定义函数规则：\n",
    "1. 定义函数以 def 关键词开头，依次写函数名、括号、括号中的参数和冒号。\n",
    "3. 函数体的第一行语句应使用文档字符串存放函数说明。\n",
    "5. 通常用return结束函数并返回函数的返回值。\n",
    "\n",
    "![函数](.\\image\\函数\\函数.png)"
   ]
  },
  {
   "cell_type": "markdown",
   "id": "178e46b9-fd2b-4a5d-b030-546de2153a21",
   "metadata": {},
   "source": [
    "### 调用函数"
   ]
  },
  {
   "cell_type": "markdown",
   "id": "b28f8e32-e1f9-4cb3-a1bc-474269b29763",
   "metadata": {},
   "source": [
    "调用Python的函数，需要根据函数定义，传入正确的参数。"
   ]
  },
  {
   "cell_type": "code",
   "execution_count": 1,
   "id": "c9f51c14-ab1a-4833-b94c-5afa41a3c217",
   "metadata": {},
   "outputs": [
    {
     "name": "stdin",
     "output_type": "stream",
     "text": [
      "宽： 2\n",
      "长： 4\n"
     ]
    },
    {
     "name": "stdout",
     "output_type": "stream",
     "text": [
      "面积是：8\n"
     ]
    }
   ],
   "source": [
    "def area(width, height):\n",
    "    # 计算面积函数\n",
    "    return width * height\n",
    "\n",
    "width = int(input('宽：'))\n",
    "height = int(input('长：'))\n",
    "print('面积是：{0}'.format(area(width,height)))"
   ]
  },
  {
   "cell_type": "markdown",
   "id": "c67a22ab-7716-4e20-948b-59db5b22e365",
   "metadata": {},
   "source": [
    "### 参数"
   ]
  },
  {
   "cell_type": "markdown",
   "id": "eb76d335-48bd-4c24-bb03-a0f4a3716ae9",
   "metadata": {},
   "source": [
    "- 位置参数\n",
    "\n",
    "位置参数须以正确的顺序传入函数，且调用时的数量和声明时一样"
   ]
  },
  {
   "cell_type": "code",
   "execution_count": 2,
   "id": "d89b22e2-587e-4fbf-bd27-4bdf3a2b8936",
   "metadata": {},
   "outputs": [
    {
     "data": {
      "text/plain": [
       "50"
      ]
     },
     "execution_count": 2,
     "metadata": {},
     "output_type": "execute_result"
    }
   ],
   "source": [
    "area(5,10)"
   ]
  },
  {
   "cell_type": "markdown",
   "id": "73665fcf-b773-457d-b73d-eea942809f45",
   "metadata": {},
   "source": [
    "- 关键字参数\n",
    "\n",
    "关键字参数允许你传入0个或任意个含参数名的参数，这些关键字参数在函数内部自动组装为一个dict\n",
    "\n",
    "关键字参数的表现形式:\n",
    "    \n",
    "    1. 在参数前加两个*,可以传入任意不受限制的关键字参数\n",
    "    2. 命名关键字参数，限制传入关键字参数的名字,命名关键字参数需要一个特殊分隔符*"
   ]
  },
  {
   "cell_type": "code",
   "execution_count": 3,
   "id": "f0ac6955-5d80-4d5e-bade-759d77cb84f5",
   "metadata": {},
   "outputs": [
    {
     "name": "stdout",
     "output_type": "stream",
     "text": [
      "Name: Henry-chr age: 26 other: {'city': 'Beijing', 'source': 96}\n"
     ]
    }
   ],
   "source": [
    "def persion(name,age,**others):\n",
    "    print('Name:',name,'age:',age,'other:',others)\n",
    "persion('Henry-chr',26,city = 'Beijing',source = 96)"
   ]
  },
  {
   "cell_type": "code",
   "execution_count": 4,
   "id": "d11c44f7-34b0-4a7c-b982-f2d8bf89f1d9",
   "metadata": {},
   "outputs": [
    {
     "name": "stdout",
     "output_type": "stream",
     "text": [
      "Name: Henry-chr age: 26 city: Beijing\n"
     ]
    }
   ],
   "source": [
    "def persion1(name,age,*,city):\n",
    "    print('Name:',name,'age:',age,'city:',city)\n",
    "persion1('Henry-chr',26,city = 'Beijing')"
   ]
  },
  {
   "cell_type": "markdown",
   "id": "ed0677d2-3426-44f3-8082-ef49ff668add",
   "metadata": {},
   "source": [
    "- 默认参数\n",
    "\n",
    "默认参数可以简化函数的调用，降低调用函数的难度\n",
    "\n",
    "设置默认参数时需要注意以下几点：\n",
    "    \n",
    "    1. 默认参数必须指向不可变对象\n",
    "    2. 默认参数必须放在必须参数后\n",
    "    3. 当存在多个默认参数时，如果某个参数非默认值，需要把参数名写上"
   ]
  },
  {
   "cell_type": "code",
   "execution_count": 5,
   "id": "4768e526-a5c7-4b04-a460-5c3c96224845",
   "metadata": {},
   "outputs": [
    {
     "name": "stdout",
     "output_type": "stream",
     "text": [
      "My name is Henry-chr.\n",
      "I am 26 years old.\n",
      "I am boy.\n",
      "I am from Beijing.\n"
     ]
    }
   ],
   "source": [
    "def persion2(name,age,gender = 'M',city = 'Shanghai'):\n",
    "    name = name\n",
    "    age = age\n",
    "    gender = 'boy' if gender == 'M' else 'girl'\n",
    "    city = city\n",
    "    print('My name is {0}.\\nI am {1} years old.\\nI am {2}.\\nI am from {3}.'.format(name,age,gender,city))\n",
    "persion2('Henry-chr',26,city = 'Beijing')"
   ]
  },
  {
   "cell_type": "markdown",
   "id": "9eb405c7-d394-46ce-a09f-74d4d8fbe2fc",
   "metadata": {},
   "source": [
    "- 可变参数\n",
    "\n",
    "可变参数就是传入的参数个数是可变的，可以是1个、2个到任意个，还可以是0个。\n",
    "\n",
    "可变参数有两种表现形式：\n",
    "    \n",
    "    1. 定义位置参数，调用的时候，先组装成一个list或tuple\n",
    "    2. 定义可变参数，在参数前加一个*，调用时可以传任意个参数也可以在list或tuple前加*传入"
   ]
  },
  {
   "cell_type": "code",
   "execution_count": 8,
   "id": "779bb271-adc8-43cd-a954-5d7278c6c8dd",
   "metadata": {},
   "outputs": [
    {
     "data": {
      "text/plain": [
       "35"
      ]
     },
     "execution_count": 8,
     "metadata": {},
     "output_type": "execute_result"
    }
   ],
   "source": [
    "def sumall1(numbers):\n",
    "    sum = 0\n",
    "    for i in numbers:\n",
    "        sum = sum + i*i\n",
    "    return sum\n",
    "sumall1((1,3,5))"
   ]
  },
  {
   "cell_type": "code",
   "execution_count": 9,
   "id": "68c76975-9d80-45df-9441-921416a60d50",
   "metadata": {},
   "outputs": [
    {
     "data": {
      "text/plain": [
       "45"
      ]
     },
     "execution_count": 9,
     "metadata": {},
     "output_type": "execute_result"
    }
   ],
   "source": [
    "def sumall(*numbers):\n",
    "    sum = 0\n",
    "    for i in numbers:\n",
    "        sum = sum + i*i\n",
    "    return sum\n",
    "list = [2,4,5]\n",
    "sumall(*list)"
   ]
  },
  {
   "cell_type": "markdown",
   "id": "474afe58-e823-41b4-84d9-1088a9dfceb4",
   "metadata": {},
   "source": [
    "**参数小结**\n",
    "\n",
    "默认参数一定要用不可变对象，如果是可变对象，程序运行时会有逻辑错误！\n",
    "\n",
    "*args是可变参数，args接收的是一个tuple；\n",
    "\n",
    "**kw是关键字参数，kw接收的是一个dict\n",
    "\n",
    "命名的关键字参数是为了限制调用者可以传入的参数名，同时可以提供默认值。\n",
    "\n",
    "定义命名的关键字参数在没有可变参数的情况下不要忘了写分隔符*，否则定义的将是位置参数。"
   ]
  },
  {
   "cell_type": "markdown",
   "id": "97a8f146-0ef0-4fcc-bcc6-8e6b0570f58f",
   "metadata": {},
   "source": [
    "### 参数组合"
   ]
  },
  {
   "cell_type": "markdown",
   "id": "0239b351-ef65-4ff9-b69b-242aaa2a7abe",
   "metadata": {},
   "source": [
    "Python中各种参数可以组合使用，但定义顺序必须是：位置参数、默认参数、可变参数、命名关键字参数和关键字参数。\n",
    "\n",
    "建议不要同时使用太多的参数组合，否则函数接口的可理解性很差。"
   ]
  },
  {
   "cell_type": "markdown",
   "id": "9f7cb8e3-895a-4555-828e-27de678b103e",
   "metadata": {},
   "source": [
    "## 匿名函数"
   ]
  },
  {
   "cell_type": "markdown",
   "id": "b66de233-2a59-408b-8c93-a1158f19b2d5",
   "metadata": {},
   "source": [
    "Python也可通过lambda创建函数，不需要像def那样标准的形式去定义\n",
    "\n",
    "lambda的主体是一个表达式，而不是一个代码块。仅仅能在lambda表达式中封装有限的逻辑进去。\n",
    "\n",
    "lambda 函数拥有自己的命名空间，且不能访问自己参数列表之外或全局命名空间里的参数。\n",
    "\n",
    "语法格式如下：\n",
    "\n",
    "lambda [arg1 [,arg2,.....argn]]:expression"
   ]
  },
  {
   "cell_type": "code",
   "execution_count": 10,
   "id": "23d16b11-be51-4dd2-8d49-334a227ec70e",
   "metadata": {},
   "outputs": [
    {
     "data": {
      "text/plain": [
       "50"
      ]
     },
     "execution_count": 10,
     "metadata": {},
     "output_type": "execute_result"
    }
   ],
   "source": [
    "for_x = lambda arg1,arg2: arg1*arg2\n",
    "\n",
    "for_x(5,10)"
   ]
  },
  {
   "cell_type": "markdown",
   "id": "61afffd4-1dfc-4341-935b-7d72faae5b73",
   "metadata": {},
   "source": [
    "## 递归函数"
   ]
  },
  {
   "cell_type": "markdown",
   "id": "b0229c4e-59c4-4ba8-ad98-8fc7d35a2fab",
   "metadata": {},
   "source": [
    "函数在内部调用自身本身\n",
    "\n",
    "递归函数的优点是逻辑简单清晰，缺点是过深的调用会导致栈溢出。\n",
    "\n",
    "每当进入一个函数调用，栈就会加一层栈帧，每当函数返回，栈就会减一层栈帧。由于栈的大小不是无限的，所以，递归调用的次数过多，会导致栈溢出。"
   ]
  }
 ],
 "metadata": {
  "kernelspec": {
   "display_name": "Python 3",
   "language": "python",
   "name": "python3"
  },
  "language_info": {
   "codemirror_mode": {
    "name": "ipython",
    "version": 3
   },
   "file_extension": ".py",
   "mimetype": "text/x-python",
   "name": "python",
   "nbconvert_exporter": "python",
   "pygments_lexer": "ipython3",
   "version": "3.9.5"
  }
 },
 "nbformat": 4,
 "nbformat_minor": 5
}
