{
 "cells": [
  {
   "cell_type": "markdown",
   "id": "0f194e4c-67a1-4c43-815f-5bd2eb491047",
   "metadata": {},
   "source": [
    "## 条件判断"
   ]
  },
  {
   "cell_type": "markdown",
   "id": "eb0dbfd7-57e4-4c98-ac86-5e8f4166c82f",
   "metadata": {},
   "source": [
    "Python的条件判断是通过if···elif···else实现的\n",
    "\n",
    "条件判断从上向下匹配，当满足条件时执行对应的块内语句，后续的elif和else都不再执行\n",
    "\n",
    "![](.\\image\\if-condition.jpg)\n",
    "\n",
    "**注意**\n",
    "1. 每个条件后面要使用冒号 : 表示接下来是满足条件后要执行的语句块\n",
    "2. 使用缩进来划分语句块，相同缩进数的语句在一起组成一个语句块"
   ]
  },
  {
   "cell_type": "markdown",
   "id": "47c3bb89-5e15-4f46-b04d-b132e5d96f06",
   "metadata": {},
   "source": [
    "## 循环"
   ]
  },
  {
   "cell_type": "markdown",
   "id": "aace660b-98ef-4394-b980-a92ea9ca1faf",
   "metadata": {},
   "source": [
    "### WHILE循环"
   ]
  },
  {
   "cell_type": "markdown",
   "id": "37a11cb9-4a1a-459e-806e-756dabd7b359",
   "metadata": {},
   "source": [
    "只要条件满足，就不断循环，条件不满足时退出循环\n",
    "\n",
    "![](.\\image\\while.png)"
   ]
  },
  {
   "cell_type": "markdown",
   "id": "03b3473d-5d4a-43cd-ba5b-422203b28a96",
   "metadata": {},
   "source": [
    "### FOR循环"
   ]
  },
  {
   "cell_type": "markdown",
   "id": "73d822c5-1edf-4c21-8bf0-e932bab94314",
   "metadata": {},
   "source": [
    "for 循环遍历任何可迭代对象\n",
    "\n",
    "![](.\\image\\for.png)"
   ]
  },
  {
   "cell_type": "markdown",
   "id": "2f98aa85-6a94-4909-890c-85246cc6fe9c",
   "metadata": {},
   "source": [
    "**迭代器**\n",
    "\n",
    "迭代器是一个可以记住遍历位置的对象。\n",
    "\n",
    "从集合的第一个元素开始访问，直到所有的元素被访问完结束。\n",
    "\n",
    "iter()创建迭代器对象\n",
    "\n",
    "next()输出迭代器的下一个元素"
   ]
  },
  {
   "cell_type": "markdown",
   "id": "87db16ef-bb13-4873-b12e-be86eee0687d",
   "metadata": {},
   "source": [
    "### BREAK、CONTINUE和PASS"
   ]
  },
  {
   "cell_type": "markdown",
   "id": "9d99f4db-fa69-4a9b-8a23-a78969ae1f7c",
   "metadata": {},
   "source": [
    "break 语句可以跳出 for 和 while 的循环体,提前结束循环。\n",
    "\n",
    "continue 语句被用来告诉 Python 跳过当前循环块中的剩余语句，然后继续进行下一轮循环。\n",
    "\n",
    "PASS是空语句，不做任何事情，一般用做占位语句，保持程序结构的完整性。"
   ]
  },
  {
   "cell_type": "markdown",
   "id": "6328f581-c6b4-4a09-b446-1f48f39ccb9f",
   "metadata": {},
   "source": [
    "### 死循环处理"
   ]
  },
  {
   "cell_type": "markdown",
   "id": "d081e86a-c865-4d59-834c-7c2a2ad38500",
   "metadata": {},
   "source": [
    "如果代码写得有问题，会让程序陷入“死循环”，这时可以用Ctrl+C退出程序，或者强制结束Python进程。"
   ]
  }
 ],
 "metadata": {
  "kernelspec": {
   "display_name": "Python 3",
   "language": "python",
   "name": "python3"
  },
  "language_info": {
   "codemirror_mode": {
    "name": "ipython",
    "version": 3
   },
   "file_extension": ".py",
   "mimetype": "text/x-python",
   "name": "python",
   "nbconvert_exporter": "python",
   "pygments_lexer": "ipython3",
   "version": "3.9.5"
  },
  "toc-autonumbering": true,
  "toc-showmarkdowntxt": false
 },
 "nbformat": 4,
 "nbformat_minor": 5
}
