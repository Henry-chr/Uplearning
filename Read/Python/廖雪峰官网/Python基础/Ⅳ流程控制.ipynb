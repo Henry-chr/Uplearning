{
 "cells": [
  {
   "cell_type": "markdown",
   "id": "0f194e4c-67a1-4c43-815f-5bd2eb491047",
   "metadata": {},
   "source": [
    "## 条件判断"
   ]
  },
  {
   "cell_type": "markdown",
   "id": "eb0dbfd7-57e4-4c98-ac86-5e8f4166c82f",
   "metadata": {},
   "source": [
    "Python的条件判断是通过if···elif···else实现的\n",
    "\n",
    "条件判断从上向下匹配，当满足条件时执行对应的块内语句，后续的elif和else都不再执行\n",
    "\n",
    "![](.\\image\\if-condition.jpg)\n",
    "\n",
    "**注意**\n",
    "1. 每个条件后面要使用冒号 : 表示接下来是满足条件后要执行的语句块\n",
    "2. 使用缩进来划分语句块，相同缩进数的语句在一起组成一个语句块"
   ]
  },
  {
   "cell_type": "markdown",
   "id": "47c3bb89-5e15-4f46-b04d-b132e5d96f06",
   "metadata": {},
   "source": [
    "## 循环"
   ]
  },
  {
   "cell_type": "code",
   "execution_count": null,
   "id": "65000e78-e225-472e-8a73-05eaee6bf7a6",
   "metadata": {},
   "outputs": [],
   "source": []
  }
 ],
 "metadata": {
  "kernelspec": {
   "display_name": "Python 3",
   "language": "python",
   "name": "python3"
  },
  "language_info": {
   "codemirror_mode": {
    "name": "ipython",
    "version": 3
   },
   "file_extension": ".py",
   "mimetype": "text/x-python",
   "name": "python",
   "nbconvert_exporter": "python",
   "pygments_lexer": "ipython3",
   "version": "3.9.5"
  },
  "toc-autonumbering": true,
  "toc-showmarkdowntxt": false
 },
 "nbformat": 4,
 "nbformat_minor": 5
}
