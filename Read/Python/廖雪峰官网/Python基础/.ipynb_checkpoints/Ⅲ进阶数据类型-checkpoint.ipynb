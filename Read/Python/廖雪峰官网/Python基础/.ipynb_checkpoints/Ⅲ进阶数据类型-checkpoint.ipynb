{
 "cells": [
  {
   "cell_type": "code",
   "execution_count": 1,
   "id": "e94de398-11c7-4117-b7c3-7a97205d95ae",
   "metadata": {},
   "outputs": [],
   "source": [
    "from IPython.core.interactiveshell import InteractiveShell\n",
    "InteractiveShell.ast_node_interactivity = 'all'"
   ]
  },
  {
   "cell_type": "markdown",
   "id": "14821f1b-9a67-413d-95b0-e9e8244f46d5",
   "metadata": {},
   "source": [
    "## 列表（list）"
   ]
  },
  {
   "cell_type": "markdown",
   "id": "450cdcd5-f4b8-4567-97a3-f5a000b78403",
   "metadata": {},
   "source": [
    "列表也是Python中的基础数据结构，是一个有序的集合，表现形式为方括号内用逗号分割的各个数据项集合，列表中的数据项可以是不同的数据类型。"
   ]
  },
  {
   "cell_type": "code",
   "execution_count": 2,
   "id": "27d963a4-26dd-4269-ace9-28eea8f7d72a",
   "metadata": {},
   "outputs": [
    {
     "data": {
      "text/plain": [
       "['Google', 'Baidu', '1854', '2000']"
      ]
     },
     "execution_count": 2,
     "metadata": {},
     "output_type": "execute_result"
    }
   ],
   "source": [
    "list1 = ['Google', 'Baidu', '1854', '2000']\n",
    "list1"
   ]
  },
  {
   "cell_type": "markdown",
   "id": "ad84d938-6ae3-47eb-ace4-a440eb960257",
   "metadata": {},
   "source": [
    "列表中的每个值都有对应的位置索引，索引从0开始，索引范围为0~len(list)-1，当超出范围时会报IndexError错误，取最后一个元素时可以用-1做索引。"
   ]
  },
  {
   "cell_type": "markdown",
   "id": "645028a5-7f8a-4946-ab9f-ae23ca411c48",
   "metadata": {},
   "source": [
    "### 列表函数"
   ]
  },
  {
   "cell_type": "markdown",
   "id": "d5a77ca4-8071-48d2-81cd-e6025d8fe303",
   "metadata": {},
   "source": [
    "- 列表数据项个数"
   ]
  },
  {
   "cell_type": "code",
   "execution_count": 3,
   "id": "d7f41726-18f8-415d-9c28-4706ae8407a0",
   "metadata": {},
   "outputs": [
    {
     "data": {
      "text/plain": [
       "4"
      ]
     },
     "execution_count": 3,
     "metadata": {},
     "output_type": "execute_result"
    }
   ],
   "source": [
    "len(list1)"
   ]
  },
  {
   "cell_type": "markdown",
   "id": "29d01136-7a47-4d14-b047-9959445e089f",
   "metadata": {},
   "source": [
    "- 列表数据项中的最大值(列表所有数据项类型相同时)"
   ]
  },
  {
   "cell_type": "code",
   "execution_count": 4,
   "id": "e0a56b70-a1f5-4e75-aedd-110564f53360",
   "metadata": {},
   "outputs": [
    {
     "data": {
      "text/plain": [
       "'Google'"
      ]
     },
     "execution_count": 4,
     "metadata": {},
     "output_type": "execute_result"
    }
   ],
   "source": [
    "max(list1)"
   ]
  },
  {
   "cell_type": "markdown",
   "id": "7058a936-d149-45e0-9213-cc870d9d3d7c",
   "metadata": {},
   "source": [
    "- 列表数据项中的最小值(列表所有数据项类型相同时)"
   ]
  },
  {
   "cell_type": "code",
   "execution_count": 5,
   "id": "90223490-1780-46fa-8e47-bc71257dfaaa",
   "metadata": {},
   "outputs": [
    {
     "data": {
      "text/plain": [
       "'1854'"
      ]
     },
     "execution_count": 5,
     "metadata": {},
     "output_type": "execute_result"
    }
   ],
   "source": [
    "min(list1)"
   ]
  },
  {
   "cell_type": "markdown",
   "id": "57858eac-06aa-4cc0-81a8-b328da67f629",
   "metadata": {},
   "source": [
    "- 列表末尾追加数据项"
   ]
  },
  {
   "cell_type": "code",
   "execution_count": 6,
   "id": "051a3a31-3a46-4cb6-97a1-64e773066aa3",
   "metadata": {},
   "outputs": [
    {
     "data": {
      "text/plain": [
       "['Google', 'Baidu', '1854', '2000', '1994']"
      ]
     },
     "execution_count": 6,
     "metadata": {},
     "output_type": "execute_result"
    }
   ],
   "source": [
    "list1.append('1994')\n",
    "list1"
   ]
  },
  {
   "cell_type": "markdown",
   "id": "0914d859-0d1d-488d-8d9a-36c6026814b4",
   "metadata": {},
   "source": [
    "- 指定位置插入数据项"
   ]
  },
  {
   "cell_type": "code",
   "execution_count": 7,
   "id": "c1ea08f6-5ea8-4a69-a721-45f2e0f75b48",
   "metadata": {},
   "outputs": [
    {
     "data": {
      "text/plain": [
       "['Google', 'Henry-chr', 'Baidu', '1854', '2000', '1994']"
      ]
     },
     "execution_count": 7,
     "metadata": {},
     "output_type": "execute_result"
    }
   ],
   "source": [
    "list1.insert(1,'Henry-chr')\n",
    "list1"
   ]
  },
  {
   "cell_type": "markdown",
   "id": "b3b8e2c3-6161-48bb-9fcc-3838d40ad063",
   "metadata": {},
   "source": [
    "- 删除末尾数据项"
   ]
  },
  {
   "cell_type": "code",
   "execution_count": 8,
   "id": "8194f33a-5819-4f27-92eb-017aef4f5d70",
   "metadata": {},
   "outputs": [
    {
     "data": {
      "text/plain": [
       "'1994'"
      ]
     },
     "execution_count": 8,
     "metadata": {},
     "output_type": "execute_result"
    },
    {
     "data": {
      "text/plain": [
       "['Google', 'Henry-chr', 'Baidu', '1854', '2000']"
      ]
     },
     "execution_count": 8,
     "metadata": {},
     "output_type": "execute_result"
    }
   ],
   "source": [
    "list1.pop()\n",
    "list1"
   ]
  },
  {
   "cell_type": "markdown",
   "id": "10304789-6af4-4b6c-8724-260d1e649fd8",
   "metadata": {},
   "source": [
    "- 删除指定位置数据项"
   ]
  },
  {
   "cell_type": "code",
   "execution_count": 9,
   "id": "ab097480-5565-4f44-8466-09de231544ef",
   "metadata": {},
   "outputs": [
    {
     "data": {
      "text/plain": [
       "'Henry-chr'"
      ]
     },
     "execution_count": 9,
     "metadata": {},
     "output_type": "execute_result"
    },
    {
     "data": {
      "text/plain": [
       "['Google', 'Baidu', '1854', '2000']"
      ]
     },
     "execution_count": 9,
     "metadata": {},
     "output_type": "execute_result"
    }
   ],
   "source": [
    "list1.pop(1)\n",
    "list1"
   ]
  },
  {
   "cell_type": "markdown",
   "id": "bb683f4c-cca4-4a69-8fb3-5135862db4c5",
   "metadata": {},
   "source": [
    "- 更新指定位置数据项"
   ]
  },
  {
   "cell_type": "code",
   "execution_count": 10,
   "id": "2ac72324-5b0d-44d3-a5d6-a1188f684027",
   "metadata": {},
   "outputs": [
    {
     "data": {
      "text/plain": [
       "['Google Chrom', 'Baidu', '1854', '2000']"
      ]
     },
     "execution_count": 10,
     "metadata": {},
     "output_type": "execute_result"
    }
   ],
   "source": [
    "list1[0]='Google Chrom'\n",
    "list1"
   ]
  },
  {
   "cell_type": "markdown",
   "id": "7d8e67bf-bac4-4e8e-bc5f-fcb16a850909",
   "metadata": {},
   "source": [
    "- 元素在列表中出现的次数"
   ]
  },
  {
   "cell_type": "code",
   "execution_count": 11,
   "id": "f6e9a93f-7ed0-4f02-8244-9361c76e8fbc",
   "metadata": {},
   "outputs": [
    {
     "data": {
      "text/plain": [
       "1"
      ]
     },
     "execution_count": 11,
     "metadata": {},
     "output_type": "execute_result"
    }
   ],
   "source": [
    "list1.count('1854')"
   ]
  },
  {
   "cell_type": "markdown",
   "id": "9f216aa1-07c6-410c-9472-d829a1ab6bbb",
   "metadata": {},
   "source": [
    "- 移除列表中的第一个匹配项"
   ]
  },
  {
   "cell_type": "code",
   "execution_count": 12,
   "id": "14a813ad-4271-487e-9636-0e647944dd0e",
   "metadata": {},
   "outputs": [
    {
     "data": {
      "text/plain": [
       "['Google Chrom', 'Baidu', '1854']"
      ]
     },
     "execution_count": 12,
     "metadata": {},
     "output_type": "execute_result"
    }
   ],
   "source": [
    "list1.remove('2000')\n",
    "list1"
   ]
  },
  {
   "cell_type": "markdown",
   "id": "cbc06e06-7b73-4b75-94ba-4806c6da10e1",
   "metadata": {},
   "source": [
    "- 反向列表"
   ]
  },
  {
   "cell_type": "code",
   "execution_count": 13,
   "id": "db05a199-891f-4dd7-be79-05e827cb7502",
   "metadata": {},
   "outputs": [
    {
     "data": {
      "text/plain": [
       "['1854', 'Baidu', 'Google Chrom']"
      ]
     },
     "execution_count": 13,
     "metadata": {},
     "output_type": "execute_result"
    }
   ],
   "source": [
    "list1.reverse()\n",
    "list1"
   ]
  },
  {
   "cell_type": "markdown",
   "id": "4c6ea0dc-867a-4a7f-817b-e90661be0055",
   "metadata": {},
   "source": [
    "- 列表排序"
   ]
  },
  {
   "cell_type": "code",
   "execution_count": 14,
   "id": "df26a3f1-aa78-49de-a08b-d12e549bcaa5",
   "metadata": {},
   "outputs": [
    {
     "data": {
      "text/plain": [
       "['1854', 'Baidu', 'Google Chrom']"
      ]
     },
     "execution_count": 14,
     "metadata": {},
     "output_type": "execute_result"
    }
   ],
   "source": [
    "list1.sort()\n",
    "list1"
   ]
  },
  {
   "cell_type": "markdown",
   "id": "7920962b-ddf6-4c67-9e7f-68cdce319ff6",
   "metadata": {},
   "source": [
    "## 元组（tuple）"
   ]
  },
  {
   "cell_type": "markdown",
   "id": "f09236ac-18ee-417b-b15f-994df2ea1bfe",
   "metadata": {},
   "source": [
    "tuple同list类似，但是tuple一旦初始化就不能修改。\n",
    "tuple使用小括号()，list使用方括号[]"
   ]
  },
  {
   "cell_type": "markdown",
   "id": "7ceaca01-606d-4bde-ab33-f4242ed90710",
   "metadata": {},
   "source": [
    "当tuple只有一个数据项时定义方法如下："
   ]
  },
  {
   "cell_type": "code",
   "execution_count": 15,
   "id": "d52ed129-7505-466a-817d-f6251b861e7c",
   "metadata": {},
   "outputs": [
    {
     "data": {
      "text/plain": [
       "(1,)"
      ]
     },
     "execution_count": 15,
     "metadata": {},
     "output_type": "execute_result"
    }
   ],
   "source": [
    "t = (1,)\n",
    "t"
   ]
  },
  {
   "cell_type": "markdown",
   "id": "fa499f53-740f-455d-80ad-d2d8c8121c94",
   "metadata": {
    "tags": []
   },
   "source": [
    "## 字典（dict）"
   ]
  },
  {
   "cell_type": "markdown",
   "id": "07db3b2f-3f4c-4b52-b258-ef4a937af768",
   "metadata": {},
   "source": [
    "字典使用键-值(key-value)存储,具有极快的查询速度\n",
    "\n",
    "字典的每个键值对(key=>value)用冒号(：)分割，每个键值对之间用逗号(,)分割，整个字典包括在花括号 {} 中 \n",
    "\n",
    "字典的值可以取任何数据类型，但字典的键必须是唯一不可变的"
   ]
  },
  {
   "cell_type": "code",
   "execution_count": 16,
   "id": "53523682-2da9-4872-a9d5-126ef4f06705",
   "metadata": {},
   "outputs": [
    {
     "data": {
      "text/plain": [
       "{'name': 'Henry-chr', 'age': 27}"
      ]
     },
     "execution_count": 16,
     "metadata": {},
     "output_type": "execute_result"
    }
   ],
   "source": [
    "dict1 = {\"name\":\"Henry-chr\",\"age\":27}\n",
    "dict1"
   ]
  },
  {
   "cell_type": "markdown",
   "id": "fc01d34a-8525-4e6c-a9dd-30100bc54973",
   "metadata": {},
   "source": [
    "### 字典函数"
   ]
  },
  {
   "cell_type": "markdown",
   "id": "39c4d6c9-86e6-4715-b41a-43469f0adbd2",
   "metadata": {},
   "source": [
    "- 返回指定键的值"
   ]
  },
  {
   "cell_type": "code",
   "execution_count": 17,
   "id": "20e4ae45-aca4-4c30-9ea9-ffafbdc29067",
   "metadata": {},
   "outputs": [
    {
     "data": {
      "text/plain": [
       "'Henry-chr'"
      ]
     },
     "execution_count": 17,
     "metadata": {},
     "output_type": "execute_result"
    }
   ],
   "source": [
    "dict1.get('name')"
   ]
  },
  {
   "cell_type": "markdown",
   "id": "ffd8cf6a-c389-45b0-913b-3838b5386783",
   "metadata": {},
   "source": [
    "- 判断是否在字典中存在"
   ]
  },
  {
   "cell_type": "code",
   "execution_count": 18,
   "id": "a5c6432a-f826-43eb-873e-9baa3f0d35ba",
   "metadata": {},
   "outputs": [
    {
     "data": {
      "text/plain": [
       "True"
      ]
     },
     "execution_count": 18,
     "metadata": {},
     "output_type": "execute_result"
    }
   ],
   "source": [
    "'name' in dict1"
   ]
  },
  {
   "cell_type": "markdown",
   "id": "78f504b7-b7e3-4ed3-8839-eea726a8d6fd",
   "metadata": {},
   "source": [
    "- 以列表返回视图对象(动态视图:随字典的改变而改变)"
   ]
  },
  {
   "cell_type": "code",
   "execution_count": 19,
   "id": "dd281cc6-6d73-463c-97ba-5e7bc061571c",
   "metadata": {},
   "outputs": [
    {
     "data": {
      "text/plain": [
       "dict_items([('name', 'Henry-chr'), ('age', 27)])"
      ]
     },
     "execution_count": 19,
     "metadata": {},
     "output_type": "execute_result"
    },
    {
     "data": {
      "text/plain": [
       "dict_keys(['name', 'age'])"
      ]
     },
     "execution_count": 19,
     "metadata": {},
     "output_type": "execute_result"
    },
    {
     "data": {
      "text/plain": [
       "dict_values(['Henry-chr', 27])"
      ]
     },
     "execution_count": 19,
     "metadata": {},
     "output_type": "execute_result"
    }
   ],
   "source": [
    "dict1.items()\n",
    "dict1.keys()\n",
    "dict1.values()"
   ]
  },
  {
   "cell_type": "markdown",
   "id": "53c12bcd-311b-4df3-b149-35542ba0a6f0",
   "metadata": {},
   "source": [
    "- 删除指定key"
   ]
  },
  {
   "cell_type": "code",
   "execution_count": 20,
   "id": "7363a70d-dcf7-44b8-a9ce-f4f117adb8e7",
   "metadata": {},
   "outputs": [
    {
     "data": {
      "text/plain": [
       "27"
      ]
     },
     "execution_count": 20,
     "metadata": {},
     "output_type": "execute_result"
    },
    {
     "data": {
      "text/plain": [
       "{'name': 'Henry-chr'}"
      ]
     },
     "execution_count": 20,
     "metadata": {},
     "output_type": "execute_result"
    }
   ],
   "source": [
    "dict1.pop('age')\n",
    "dict1"
   ]
  },
  {
   "cell_type": "markdown",
   "id": "b44645cb-4c94-43b4-9671-503e31aa5b5c",
   "metadata": {},
   "source": [
    "### 字典VS列表"
   ]
  },
  {
   "cell_type": "markdown",
   "id": "d8ff77f3-60d7-4d17-a670-e798da293030",
   "metadata": {},
   "source": [
    "字典\n",
    "\n",
    "    1. 查找和插入的速度极快，不会随着key的增加而变慢；\n",
    "    2. 需要占用大量的内存，内存浪费多。\n",
    "列表\n",
    "\n",
    "    1. 查找和插入的时间随着元素的增加而增加；\n",
    "    2. 占用空间小，浪费内存很少。"
   ]
  },
  {
   "cell_type": "markdown",
   "id": "c0fcb343-f436-4581-b66b-40b2cfef7bf1",
   "metadata": {},
   "source": [
    "## 集合（set）"
   ]
  },
  {
   "cell_type": "markdown",
   "id": "4ce888ee-71ac-4275-8701-bfe1b7ad13b3",
   "metadata": {},
   "source": [
    "集合是一个无序的不重复元素序列。\n",
    "可以使用大括号 { } 或者 set() 函数创建集合。"
   ]
  },
  {
   "cell_type": "code",
   "execution_count": 21,
   "id": "0ec843da-6f21-40b2-94ff-495b9c834ce6",
   "metadata": {},
   "outputs": [
    {
     "data": {
      "text/plain": [
       "{'Baidu', 'Google', 'Taobao'}"
      ]
     },
     "execution_count": 21,
     "metadata": {},
     "output_type": "execute_result"
    }
   ],
   "source": [
    "set1 = set((\"Google\", \"Baidu\", \"Taobao\"))\n",
    "set1"
   ]
  },
  {
   "cell_type": "markdown",
   "id": "eb250457-52f9-43bf-9a8e-a5832e2b3896",
   "metadata": {},
   "source": [
    "### 集合函数"
   ]
  },
  {
   "cell_type": "markdown",
   "id": "6a97f569-1477-4922-9eca-3bff8757a90f",
   "metadata": {},
   "source": [
    "- 添加元素"
   ]
  },
  {
   "cell_type": "code",
   "execution_count": 22,
   "id": "e00e2fc9-0f5f-43f1-8de6-c833a2adba6b",
   "metadata": {},
   "outputs": [
    {
     "data": {
      "text/plain": [
       "{'Baidu', 'Google', 'Jingdong', 'Taobao'}"
      ]
     },
     "execution_count": 22,
     "metadata": {},
     "output_type": "execute_result"
    }
   ],
   "source": [
    "set1.add('Jingdong')\n",
    "set1"
   ]
  },
  {
   "cell_type": "markdown",
   "id": "1c54641b-4f92-4777-9813-5c1218fa132d",
   "metadata": {},
   "source": [
    "- 移除元素"
   ]
  },
  {
   "cell_type": "code",
   "execution_count": 23,
   "id": "88b8bed0-0180-4248-a7ac-4fd9a80c6d8a",
   "metadata": {},
   "outputs": [
    {
     "data": {
      "text/plain": [
       "{'Baidu', 'Google', 'Jingdong'}"
      ]
     },
     "execution_count": 23,
     "metadata": {},
     "output_type": "execute_result"
    },
    {
     "data": {
      "text/plain": [
       "{'Baidu', 'Google', 'Jingdong'}"
      ]
     },
     "execution_count": 23,
     "metadata": {},
     "output_type": "execute_result"
    },
    {
     "data": {
      "text/plain": [
       "'Google'"
      ]
     },
     "execution_count": 23,
     "metadata": {},
     "output_type": "execute_result"
    },
    {
     "data": {
      "text/plain": [
       "{'Baidu', 'Jingdong'}"
      ]
     },
     "execution_count": 23,
     "metadata": {},
     "output_type": "execute_result"
    }
   ],
   "source": [
    "set1.remove('Taobao')\n",
    "set1\n",
    "set1.discard('Taobao')\n",
    "set1\n",
    "set1.pop()\n",
    "set1"
   ]
  },
  {
   "cell_type": "markdown",
   "id": "2452a3ff-ac6c-49b1-ada0-3027fdba0934",
   "metadata": {},
   "source": [
    "remove和discard的区别在于，remove的元素集合中不存在时会报错而discard不会\n",
    "\n",
    "pop是随机的"
   ]
  },
  {
   "cell_type": "markdown",
   "id": "39eb9d55-8675-4bb2-a17e-094b2a85184b",
   "metadata": {},
   "source": [
    "- 计算集合元素个数"
   ]
  },
  {
   "cell_type": "code",
   "execution_count": 24,
   "id": "701f489b-0973-4a4f-a031-daf5c1cc9fca",
   "metadata": {},
   "outputs": [
    {
     "data": {
      "text/plain": [
       "2"
      ]
     },
     "execution_count": 24,
     "metadata": {},
     "output_type": "execute_result"
    }
   ],
   "source": [
    "len(set1)"
   ]
  },
  {
   "cell_type": "markdown",
   "id": "9e30a840-df5b-4616-b26c-0cbc87d80d23",
   "metadata": {},
   "source": [
    "- 判断元素是否在集合中存在"
   ]
  },
  {
   "cell_type": "code",
   "execution_count": 25,
   "id": "12560af3-df0a-4f30-b30e-ff0ecf320997",
   "metadata": {},
   "outputs": [
    {
     "data": {
      "text/plain": [
       "False"
      ]
     },
     "execution_count": 25,
     "metadata": {},
     "output_type": "execute_result"
    }
   ],
   "source": [
    "'Didi' in set1"
   ]
  },
  {
   "cell_type": "markdown",
   "id": "f94a722e-af07-4a4b-8f9c-a21d509c1dc1",
   "metadata": {},
   "source": [
    "- 返回集合的差集"
   ]
  },
  {
   "cell_type": "code",
   "execution_count": 26,
   "id": "c12458f7-cd2c-4e35-9c3b-f7c2601f6e00",
   "metadata": {},
   "outputs": [
    {
     "data": {
      "text/plain": [
       "{'b', 'c'}"
      ]
     },
     "execution_count": 26,
     "metadata": {},
     "output_type": "execute_result"
    },
    {
     "data": {
      "text/plain": [
       "{'a', 'b', 'c'}"
      ]
     },
     "execution_count": 26,
     "metadata": {},
     "output_type": "execute_result"
    },
    {
     "data": {
      "text/plain": [
       "{'b', 'c'}"
      ]
     },
     "execution_count": 26,
     "metadata": {},
     "output_type": "execute_result"
    }
   ],
   "source": [
    "x = {\"a\", \"b\", \"c\"}\n",
    "y = {\"g\", \"m\", \"a\"}\n",
    "x.difference(y)\n",
    "x\n",
    "x.difference_update(y) \n",
    "x"
   ]
  },
  {
   "cell_type": "markdown",
   "id": "61cb7fee-c88e-42f1-bb86-f59aaf57e24a",
   "metadata": {},
   "source": [
    "difference返回一个移除相同元素的新集合，difference_update直接在原来的集合中移除元素，没有返回值。"
   ]
  },
  {
   "cell_type": "markdown",
   "id": "76d3903f-d69d-4353-920b-36b0b1a50e33",
   "metadata": {},
   "source": [
    "- 返回集合的交集"
   ]
  },
  {
   "cell_type": "code",
   "execution_count": 27,
   "id": "c1343226-6729-4e91-8e33-374b154db22b",
   "metadata": {},
   "outputs": [
    {
     "data": {
      "text/plain": [
       "{'c'}"
      ]
     },
     "execution_count": 27,
     "metadata": {},
     "output_type": "execute_result"
    },
    {
     "data": {
      "text/plain": [
       "{'a', 'b', 'c'}"
      ]
     },
     "execution_count": 27,
     "metadata": {},
     "output_type": "execute_result"
    },
    {
     "data": {
      "text/plain": [
       "{'c'}"
      ]
     },
     "execution_count": 27,
     "metadata": {},
     "output_type": "execute_result"
    }
   ],
   "source": [
    "x = {\"a\", \"b\", \"c\"}\n",
    "y = {\"q\", \"w\", \"c\"}\n",
    "x.intersection(y)\n",
    "x\n",
    "x.intersection_update(y)\n",
    "x"
   ]
  },
  {
   "cell_type": "markdown",
   "id": "14e95333-9ca4-4b8d-912d-803318fab4b6",
   "metadata": {},
   "source": [
    "intersection()返回一个新的集合，intersection_update()在原始的集合上移除不重叠的元素。"
   ]
  },
  {
   "cell_type": "markdown",
   "id": "562750cc-7038-4613-9b5e-7a84297732b4",
   "metadata": {},
   "source": [
    "- 判断两个集合是否包含相同的元素"
   ]
  },
  {
   "cell_type": "code",
   "execution_count": 28,
   "id": "309afcf5-2908-43e5-9d2c-2dfe3144184b",
   "metadata": {},
   "outputs": [
    {
     "data": {
      "text/plain": [
       "False"
      ]
     },
     "execution_count": 28,
     "metadata": {},
     "output_type": "execute_result"
    }
   ],
   "source": [
    "x = {\"a\", \"b\", \"c\"}\n",
    "y = {\"g\", \"m\", \"a\"}\n",
    " \n",
    "x.isdisjoint(y) # y中是否有集合x的元素"
   ]
  },
  {
   "cell_type": "markdown",
   "id": "ecb298ac-a45f-40c1-bd44-a2dac69fd434",
   "metadata": {},
   "source": [
    "没有返回TRUE，否则返回FALSE"
   ]
  },
  {
   "cell_type": "markdown",
   "id": "ed22a5c7-9466-4c3f-b56c-18cb35005a4d",
   "metadata": {},
   "source": [
    "- 判断集合的所有元素是否都包含在指定集合中"
   ]
  },
  {
   "cell_type": "code",
   "execution_count": 29,
   "id": "8210a089-511e-4a83-aecc-e29f333a7b43",
   "metadata": {},
   "outputs": [
    {
     "data": {
      "text/plain": [
       "False"
      ]
     },
     "execution_count": 29,
     "metadata": {},
     "output_type": "execute_result"
    },
    {
     "data": {
      "text/plain": [
       "False"
      ]
     },
     "execution_count": 29,
     "metadata": {},
     "output_type": "execute_result"
    }
   ],
   "source": [
    "x = {\"a\", \"b\", \"c\"}\n",
    "y = {\"g\", \"m\", \"a\"}\n",
    " \n",
    "x.issubset(y) # 判断集合 x 的所有元素是否都包含在集合 y 中\n",
    "x.issuperset(y) # 判断集合 y 的所有元素是否都包含在集合 x 中"
   ]
  },
  {
   "cell_type": "markdown",
   "id": "dc66d8f3-6430-426a-93d9-f5825ec18dd5",
   "metadata": {},
   "source": [
    "- 返回两个集合中不重复的元素集合"
   ]
  },
  {
   "cell_type": "code",
   "execution_count": 30,
   "id": "069f735b-b783-42ca-8650-0a51ffdf2fac",
   "metadata": {},
   "outputs": [
    {
     "data": {
      "text/plain": [
       "{'b', 'c', 'g', 'm'}"
      ]
     },
     "execution_count": 30,
     "metadata": {},
     "output_type": "execute_result"
    },
    {
     "data": {
      "text/plain": [
       "{'b', 'c', 'g', 'm'}"
      ]
     },
     "execution_count": 30,
     "metadata": {},
     "output_type": "execute_result"
    },
    {
     "data": {
      "text/plain": [
       "{'a', 'g', 'm'}"
      ]
     },
     "execution_count": 30,
     "metadata": {},
     "output_type": "execute_result"
    }
   ],
   "source": [
    "x = {\"a\", \"b\", \"c\"}\n",
    "y = {\"g\", \"m\", \"a\"}\n",
    "x.symmetric_difference(y) # 移除两个集合的重复元素返回两个集合中不重复的元素集合\n",
    "x.symmetric_difference_update(y) # 移除当前集合中在另外一个指定集合相同的元素，并将另外一个指定集合中不同的元素插入到当前集合中\n",
    "x\n",
    "y"
   ]
  },
  {
   "cell_type": "markdown",
   "id": "45f740d3-bccf-42e8-9142-9fd400fe64b0",
   "metadata": {},
   "source": [
    "- 返回两个集合的并集"
   ]
  },
  {
   "cell_type": "code",
   "execution_count": 31,
   "id": "be328949-5c89-4142-b8bb-871b6f3c87ae",
   "metadata": {},
   "outputs": [
    {
     "data": {
      "text/plain": [
       "{'a', 'b', 'c', 'g', 'm'}"
      ]
     },
     "execution_count": 31,
     "metadata": {},
     "output_type": "execute_result"
    }
   ],
   "source": [
    "x = {\"a\", \"b\", \"c\"}\n",
    "y = {\"g\", \"m\", \"a\"}\n",
    "x.union(y) # 重复的元素只会出现一次"
   ]
  }
 ],
 "metadata": {
  "kernelspec": {
   "display_name": "Python 3",
   "language": "python",
   "name": "python3"
  },
  "language_info": {
   "codemirror_mode": {
    "name": "ipython",
    "version": 3
   },
   "file_extension": ".py",
   "mimetype": "text/x-python",
   "name": "python",
   "nbconvert_exporter": "python",
   "pygments_lexer": "ipython3",
   "version": "3.9.5"
  },
  "toc-autonumbering": true,
  "toc-showcode": false,
  "toc-showmarkdowntxt": false,
  "toc-showtags": false
 },
 "nbformat": 4,
 "nbformat_minor": 5
}
