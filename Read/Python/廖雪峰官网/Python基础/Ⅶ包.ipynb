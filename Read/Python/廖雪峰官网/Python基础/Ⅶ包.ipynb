{
 "cells": [
  {
   "cell_type": "markdown",
   "id": "208ee644-6065-4fc7-b332-d80298d751d4",
   "metadata": {},
   "source": [
    "## 简介"
   ]
  },
  {
   "cell_type": "markdown",
   "id": "61f5c9ba-ad02-427e-aa99-7cdf6b53d42e",
   "metadata": {},
   "source": [
    "按目录来组织模块的方法，称为包（Package）。\n",
    "\n",
    "包是一种管理 Python 模块命名空间的形式，可以完美解决不同库之间模块重名的情况。\n",
    "\n",
    "目录只有包含一个叫做 __init__.py 的文件才会被认作是一个包"
   ]
  },
  {
   "cell_type": "code",
   "execution_count": null,
   "id": "5e9b5ee9-6fef-4123-a600-9eec91271d51",
   "metadata": {},
   "outputs": [],
   "source": []
  }
 ],
 "metadata": {
  "kernelspec": {
   "display_name": "Python 3",
   "language": "python",
   "name": "python3"
  },
  "language_info": {
   "codemirror_mode": {
    "name": "ipython",
    "version": 3
   },
   "file_extension": ".py",
   "mimetype": "text/x-python",
   "name": "python",
   "nbconvert_exporter": "python",
   "pygments_lexer": "ipython3",
   "version": "3.9.5"
  }
 },
 "nbformat": 4,
 "nbformat_minor": 5
}
